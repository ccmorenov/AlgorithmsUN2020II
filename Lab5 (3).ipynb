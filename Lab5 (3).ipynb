{
  "nbformat": 4,
  "nbformat_minor": 0,
  "metadata": {
    "kernelspec": {
      "display_name": "SageMath 9.2",
      "language": "sagemath",
      "metadata": {
        "cocalc": {
          "description": "Open-source mathematical software system",
          "priority": 10,
          "url": "https://www.sagemath.org/"
        }
      },
      "name": "sage-9.2"
    },
    "language_info": {
      "codemirror_mode": {
        "name": "ipython",
        "version": 3
      },
      "file_extension": ".py",
      "mimetype": "text/x-python",
      "name": "python",
      "nbconvert_exporter": "python",
      "pygments_lexer": "ipython3",
      "version": "3.8.5"
    },
    "colab": {
      "name": "Lab5.ipynb",
      "provenance": [],
      "collapsed_sections": []
    }
  },
  "cells": [
    {
      "cell_type": "markdown",
      "metadata": {
        "id": "VpVPjUk4V6SD"
      },
      "source": [
        "Laboratorio 5"
      ]
    },
    {
      "cell_type": "code",
      "metadata": {
        "id": "6BPcczdTRPTi",
        "outputId": "b622f5bb-5c9a-4e9e-cb7c-1f065386da89",
        "colab": {
          "base_uri": "https://localhost:8080/"
        }
      },
      "source": [
        "from sympy import Symbol\n",
        "from sympy import div\n",
        "\n",
        "x = Symbol('x')\n",
        "\n",
        "p= x**10 - 55*x**9 + 1320*x**8 - 18150*x**7 + 157773*x**6 - 902055*x**5 + 3416930*x**4 - 8409500*x**3 + 12753576*x**2 - 10628640*x + 3628800\n",
        "\n",
        "p, r = div(p,  x-1)\n",
        "\n",
        "print(p)\n",
        "print(r)\n",
        "\n",
        "p, r = div(p,  x-2)\n",
        "\n",
        "print(p)\n",
        "print(r)\n",
        "\n",
        "p, r = div(p,  x-3)\n",
        "\n",
        "print(p)\n",
        "print(r)\n",
        "\n",
        "p, r = div(p,  x-4)\n",
        "\n",
        "print(p)\n",
        "print(r)\n",
        "\n",
        "p, r = div(p,  x-5)\n",
        "\n",
        "print(p)\n",
        "print(r)\n",
        "\n",
        "p, r = div(p,  x-6)\n",
        "\n",
        "print(p)\n",
        "print(r)\n",
        "\n",
        "p, r = div(p,  x-7)\n",
        "\n",
        "print(p)\n",
        "print(r)\n",
        "\n",
        "p, r = div(p,  x-8)\n",
        "\n",
        "print(p)\n",
        "print(r)\n",
        "\n",
        "p, r = div(p,  x-9)\n",
        "\n",
        "print(p)\n",
        "print(r)"
      ],
      "execution_count": 1,
      "outputs": [
        {
          "output_type": "stream",
          "text": [
            "x**9 - 54*x**8 + 1266*x**7 - 16884*x**6 + 140889*x**5 - 761166*x**4 + 2655764*x**3 - 5753736*x**2 + 6999840*x - 3628800\n",
            "0\n",
            "x**8 - 52*x**7 + 1162*x**6 - 14560*x**5 + 111769*x**4 - 537628*x**3 + 1580508*x**2 - 2592720*x + 1814400\n",
            "0\n",
            "x**7 - 49*x**6 + 1015*x**5 - 11515*x**4 + 77224*x**3 - 305956*x**2 + 662640*x - 604800\n",
            "0\n",
            "x**6 - 45*x**5 + 835*x**4 - 8175*x**3 + 44524*x**2 - 127860*x + 151200\n",
            "0\n",
            "x**5 - 40*x**4 + 635*x**3 - 5000*x**2 + 19524*x - 30240\n",
            "0\n",
            "x**4 - 34*x**3 + 431*x**2 - 2414*x + 5040\n",
            "0\n",
            "x**3 - 27*x**2 + 242*x - 720\n",
            "0\n",
            "x**2 - 19*x + 90\n",
            "0\n",
            "x - 10\n",
            "0\n"
          ],
          "name": "stdout"
        }
      ]
    },
    {
      "cell_type": "code",
      "metadata": {
        "id": "Azi0fEYNV4rw"
      },
      "source": [
        ""
      ],
      "execution_count": null,
      "outputs": []
    },
    {
      "cell_type": "markdown",
      "metadata": {
        "id": "mxqRZ0joV21n"
      },
      "source": [
        ""
      ]
    },
    {
      "cell_type": "code",
      "metadata": {
        "id": "XhHs3cEGRPTq",
        "outputId": "a863a971-65f1-45cc-acb9-5c2d074ed38e",
        "colab": {
          "base_uri": "https://localhost:8080/"
        }
      },
      "source": [
        "from sympy import *\n",
        "x = Symbol('x')\n",
        "factor(x**10 - 55*x**9 + 1320*x**8 - 18150*x**7 + 157773*x**6 - 902055*x**5 + 3416930*x**4 - 8409500*x**3 + 12753576*x**2 - 10628640*x + 3628800)"
      ],
      "execution_count": 2,
      "outputs": [
        {
          "output_type": "execute_result",
          "data": {
            "text/plain": [
              "(x - 10)*(x - 9)*(x - 8)*(x - 7)*(x - 6)*(x - 5)*(x - 4)*(x - 3)*(x - 2)*(x - 1)"
            ]
          },
          "metadata": {
            "tags": []
          },
          "execution_count": 2
        }
      ]
    },
    {
      "cell_type": "code",
      "metadata": {
        "id": "XHUBQZ6HRPTu",
        "outputId": "47baef57-a597-47d0-b999-119d31a2254c",
        "colab": {
          "base_uri": "https://localhost:8080/"
        }
      },
      "source": [
        "from sympy import *\n",
        "x = Symbol('x')\n",
        "solveset(Eq(x**10 - 55*x**9 + 1320*x**8 - 18150*x**7 + 157773*x**6 - 902055*x**5 + 3416930*x**4 - 8409500*x**3 + 12753576*x**2 - 10628640*x + 3628800, 0), x)"
      ],
      "execution_count": 3,
      "outputs": [
        {
          "output_type": "execute_result",
          "data": {
            "text/plain": [
              "{1, 2, 3, 4, 5, 6, 7, 8, 9, 10}"
            ]
          },
          "metadata": {
            "tags": []
          },
          "execution_count": 3
        }
      ]
    },
    {
      "cell_type": "code",
      "metadata": {
        "id": "WIM7Ao6vRPTz",
        "outputId": "28b02fb0-6960-4891-80f5-daffceedcb17",
        "colab": {
          "base_uri": "https://localhost:8080/"
        }
      },
      "source": [
        "from sympy import *\n",
        "x1, x2, y1, y2, z1, z2 = symbols(\"x1 x2 y1 y2 z1 z2\", real=True)  \n",
        "x = x1 + I*x2\n",
        "y = y1 + I*y2\n",
        "z = z1 + I*z2\n",
        "\n",
        "print(x*y*z)\n",
        "print(expand(x*y*z))\n",
        "print(expand((x*y)*z))\n",
        "print(expand(x*(y*z)))\n",
        "\n",
        "w=N(1/(pi + I), 20)\n",
        "print('w=',w)"
      ],
      "execution_count": 4,
      "outputs": [
        {
          "output_type": "stream",
          "text": [
            "(x1 + I*x2)*(y1 + I*y2)*(z1 + I*z2)\n",
            "x1*y1*z1 + I*x1*y1*z2 + I*x1*y2*z1 - x1*y2*z2 + I*x2*y1*z1 - x2*y1*z2 - x2*y2*z1 - I*x2*y2*z2\n",
            "x1*y1*z1 + I*x1*y1*z2 + I*x1*y2*z1 - x1*y2*z2 + I*x2*y1*z1 - x2*y1*z2 - x2*y2*z1 - I*x2*y2*z2\n",
            "x1*y1*z1 + I*x1*y1*z2 + I*x1*y2*z1 - x1*y2*z2 + I*x2*y1*z1 - x2*y1*z2 - x2*y2*z1 - I*x2*y2*z2\n",
            "w= 0.28902548222223624241 - 0.091999668350375232456*I\n"
          ],
          "name": "stdout"
        }
      ]
    },
    {
      "cell_type": "code",
      "metadata": {
        "id": "PqbsJEfaRPT2",
        "outputId": "1b8ed5c0-d12b-416c-c714-888f611cf36b",
        "colab": {
          "base_uri": "https://localhost:8080/"
        }
      },
      "source": [
        "import sympy\n",
        "result = {}  \n",
        "x = sympy.Symbol(\"x\")\n",
        "i = sympy.integrate(x**2)\n",
        "print(i)\n",
        "result[\"Analitico\"] = float(i.subs(x, 5) - i.subs(x, 1))\n",
        "print(\"Resultado analitico: {}\".format(result[\"Analitico\"]))"
      ],
      "execution_count": 5,
      "outputs": [
        {
          "output_type": "stream",
          "text": [
            "x**3/3\n",
            "Resultado analitico: 41.333333333333336\n"
          ],
          "name": "stdout"
        }
      ]
    },
    {
      "cell_type": "code",
      "metadata": {
        "id": "P4W8vzOeRPT6",
        "outputId": "675ae8a3-770a-416f-c674-ad8c12509872",
        "colab": {
          "base_uri": "https://localhost:8080/"
        }
      },
      "source": [
        "import sympy\n",
        "result = {}  \n",
        "x = sympy.Symbol(\"x\")\n",
        "i = sympy.integrate(3*x**3)\n",
        "print(i)\n",
        "result[\"Analitico\"] = float(i.subs(x, 2) - i.subs(x, 0))\n",
        "print(\"Resultado analitico: {}\".format(result[\"Analitico\"]))"
      ],
      "execution_count": 6,
      "outputs": [
        {
          "output_type": "stream",
          "text": [
            "3*x**4/4\n",
            "Resultado analitico: 12.0\n"
          ],
          "name": "stdout"
        }
      ]
    },
    {
      "cell_type": "code",
      "metadata": {
        "id": "fLnHJlD5RPUB",
        "outputId": "0f77ba41-e8fb-4eee-8b1c-aaeb75e006a2",
        "colab": {
          "base_uri": "https://localhost:8080/"
        }
      },
      "source": [
        "import numpy\n",
        "N = 1_000_000\n",
        "accum = 0\n",
        "for i in range(N):\n",
        "    x = numpy.random.uniform(1, 5)\n",
        "    accum += x**2\n",
        "volume = 5 - 1\n",
        "result[\"MC\"] = volume * accum / float(N)\n",
        "print(\"Standard Monte Carlo result: {}\".format(result[\"MC\"]))"
      ],
      "execution_count": 7,
      "outputs": [
        {
          "output_type": "stream",
          "text": [
            "Standard Monte Carlo result: 41.31041261532988\n"
          ],
          "name": "stdout"
        }
      ]
    },
    {
      "cell_type": "code",
      "metadata": {
        "id": "TT3T1XOIRPUG",
        "outputId": "685ad4a3-5400-4430-b79d-554cb3b84f9f",
        "colab": {
          "base_uri": "https://localhost:8080/"
        }
      },
      "source": [
        "import numpy\n",
        "N = 1_000_000\n",
        "accum = 0\n",
        "for i in range(N):\n",
        "    x = numpy.random.uniform(0, 2)\n",
        "    accum += 3*x**3\n",
        "volume = 2 - 0\n",
        "result[\"MC\"] = volume * accum / float(N)\n",
        "print(\"Standard Monte Carlo result: {}\".format(result[\"MC\"]))"
      ],
      "execution_count": 8,
      "outputs": [
        {
          "output_type": "stream",
          "text": [
            "Standard Monte Carlo result: 12.001218886473659\n"
          ],
          "name": "stdout"
        }
      ]
    },
    {
      "cell_type": "code",
      "metadata": {
        "id": "WT2zVkMeRPUK",
        "outputId": "2619c0f1-a5c4-4d2f-b317-5dfe23d769f7",
        "colab": {
          "base_uri": "https://localhost:8080/"
        }
      },
      "source": [
        "import sympy \n",
        "result = {}  \n",
        "x = sympy.Symbol(\"x\")\n",
        "i = sympy.integrate(sympy.log(2*x))\n",
        "print(i)\n",
        "result[\"analytical\"] = float(i.subs(x, 3) - i.subs(x, 1))\n",
        "print(\"Resultado analítico: {}\".format(result[\"analytical\"]))"
      ],
      "execution_count": 9,
      "outputs": [
        {
          "output_type": "stream",
          "text": [
            "x*log(2*x) - x\n",
            "Resultado analítico: 2.68213122712422\n"
          ],
          "name": "stdout"
        }
      ]
    },
    {
      "cell_type": "code",
      "metadata": {
        "id": "gB4p20qzRPUN",
        "outputId": "759a1d81-4711-4047-ad92-87677af1b264",
        "colab": {
          "base_uri": "https://localhost:8080/"
        }
      },
      "source": [
        "import numpy\n",
        "N = 10000\n",
        "accum = 0\n",
        "for i in range(N):\n",
        "    x = numpy.random.uniform(1, 2)\n",
        "    accum += sympy.log(2*x)\n",
        "volume = 3 - 1\n",
        "result[\"MC\"] = volume * accum / float(N)\n",
        "print(\"Resultado mediante Monte Carlo: {}\".format(result[\"MC\"]))"
      ],
      "execution_count": 10,
      "outputs": [
        {
          "output_type": "stream",
          "text": [
            "Resultado mediante Monte Carlo: 2.15759787763290\n"
          ],
          "name": "stdout"
        }
      ]
    },
    {
      "cell_type": "code",
      "metadata": {
        "id": "iq7QkASPRPUQ",
        "outputId": "95665b2a-e6e8-4b39-d130-3ec3010d25c5",
        "colab": {
          "base_uri": "https://localhost:8080/"
        }
      },
      "source": [
        "import sympy\n",
        "N = 100000\n",
        "accum = 0\n",
        "for i in range(N):\n",
        "    x = numpy.random.uniform(0, numpy.pi)\n",
        "    accum += sympy.cos(x - numpy.pi)\n",
        "volume = numpy.pi - 0\n",
        "result[\"MC\"] = volume * accum / float(N)\n",
        "print(\"Resultado mediante Monte Carlo: {}\".format(result[\"MC\"]))"
      ],
      "execution_count": 11,
      "outputs": [
        {
          "output_type": "stream",
          "text": [
            "Resultado mediante Monte Carlo: 0.00656284017615296\n"
          ],
          "name": "stdout"
        }
      ]
    },
    {
      "cell_type": "code",
      "metadata": {
        "id": "XJWmrFJ0RPUT",
        "outputId": "69b3709a-e301-4a5a-c733-d93ddc416c48",
        "colab": {
          "base_uri": "https://localhost:8080/"
        }
      },
      "source": [
        "result = {}  \n",
        "x = sympy.Symbol(\"x\")\n",
        "i = sympy.integrate(4*(numpy.e)**2*x)\n",
        "print(i)\n",
        "result[\"analytical\"] = float(i.subs(x, 3) - i.subs(x, 0))\n",
        "print(\"Resultado analítico: {}\".format(result[\"analytical\"]))"
      ],
      "execution_count": 12,
      "outputs": [
        {
          "output_type": "stream",
          "text": [
            "14.7781121978613*x**2\n",
            "Resultado analítico: 133.00300978075168\n"
          ],
          "name": "stdout"
        }
      ]
    },
    {
      "cell_type": "code",
      "metadata": {
        "id": "V8zRxPctRPUW",
        "outputId": "fa6eb022-66ed-422d-a84a-75905d708711",
        "colab": {
          "base_uri": "https://localhost:8080/"
        }
      },
      "source": [
        "import sympy\n",
        "import math\n",
        "import numpy\n",
        "x1 = sympy.Symbol(\"x1\")\n",
        "x2 = sympy.Symbol(\"x2\")\n",
        "x3 = sympy.Symbol(\"x3\")\n",
        "expr = sympy.cos(x1) + 3*sympy.cos(x2)**2 + 0.3 * x3**2 * sympy.sin(x1)\n",
        "res = sympy.integrate(expr,\n",
        "                      (x1, -sympy.pi, sympy.pi),\n",
        "                      (x2, -sympy.pi, sympy.pi),\n",
        "                      (x3, -sympy.pi, sympy.pi))\n",
        "# Note: we use float(res) to convert res from symbolic form to floating point form\n",
        "result = {} \n",
        "result[\"analytical\"] = float(res)\n",
        "print(\"Resultado analítico: {}\".format(result[\"analytical\"]))"
      ],
      "execution_count": 13,
      "outputs": [
        {
          "output_type": "stream",
          "text": [
            "Resultado analítico: 372.07532016359784\n"
          ],
          "name": "stdout"
        }
      ]
    },
    {
      "cell_type": "code",
      "metadata": {
        "id": "1OfLRuW6RPUa",
        "outputId": "ddbb345c-80f4-4b6f-a181-039b6dfed166",
        "colab": {
          "base_uri": "https://localhost:8080/"
        }
      },
      "source": [
        "import numpy\n",
        "N = 1\n",
        "accum = 0\n",
        "for i in range(N):\n",
        "    y1 = numpy.random.uniform(-numpy.pi, numpy.pi)\n",
        "    y2 = numpy.random.uniform(-numpy.pi, numpy.pi)\n",
        "    y3 = numpy.random.uniform(-numpy.pi, numpy.pi)\n",
        "    accum += numpy.sin(y1) + 7*numpy.sin(y2)**2 + 0.1 * y3**4 * numpy.sin(y1)\n",
        "volume = (3 * numpy.pi)**2\n",
        "result = {} \n",
        "result[\"MC\"] = volume * accum / float(N)\n",
        "print(\"Resultado mediante Monte Carlo: {}\".format(result[\"MC\"]))"
      ],
      "execution_count": 14,
      "outputs": [
        {
          "output_type": "stream",
          "text": [
            "Resultado mediante Monte Carlo: -22.850795417128392\n"
          ],
          "name": "stdout"
        }
      ]
    },
    {
      "cell_type": "code",
      "metadata": {
        "id": "9v3ReaXnRPUe",
        "outputId": "6ef49819-d8ac-4052-f5a5-4e254e3b9a76",
        "colab": {
          "base_uri": "https://localhost:8080/",
          "height": 318
        }
      },
      "source": [
        "import sys\n",
        "def halton(dim: int, nbpts: int):\n",
        "    h = numpy.full(nbpts * dim, numpy.nan)\n",
        "    p = numpy.full(nbpts, numpy.nan)\n",
        "    P = [2, 3, 5, 7, 11, 13, 17, 19, 23, 29, 31]\n",
        "    lognbpts = math.log(nbpts + 1)\n",
        "    for i in range(dim):\n",
        "        b = P[i]\n",
        "        n = int(math.ceil(lognbpts / math.log(b)))\n",
        "        for t in range(n):\n",
        "            p[t] = pow(b, -(t + 1))\n",
        "\n",
        "        for j in range(nbpts):\n",
        "            d = j + 1\n",
        "            sum_ = math.fmod(d, b) * p[0]\n",
        "            for t in range(1, n):\n",
        "                d = math.floor(d / b)\n",
        "                sum_ += math.fmod(d, b) * p[t]\n",
        "\n",
        "            h[j*dim + i] = sum_\n",
        "    return h.reshape(nbpts, dim)\n",
        "import matplotlib.pyplot as plt\n",
        "N = 1000\n",
        "seq = halton(2, N)\n",
        "plt.title(\"2D Halton sequence\")\n",
        "plt.axes().set_aspect('equal')\n",
        "plt.scatter(seq[:,0], seq[:,1], marker=\".\", alpha=0.2);\n"
      ],
      "execution_count": 16,
      "outputs": [
        {
          "output_type": "stream",
          "text": [
            "/usr/local/lib/python3.6/dist-packages/ipykernel_launcher.py:26: MatplotlibDeprecationWarning: Adding an axes using the same arguments as a previous axes currently reuses the earlier instance.  In a future version, a new instance will always be created and returned.  Meanwhile, this warning can be suppressed, and the future behavior ensured, by passing a unique label to each axes instance.\n"
          ],
          "name": "stderr"
        },
        {
          "output_type": "display_data",
          "data": {
            "image/png": "[encoded data removed]",
            "text/plain": [
              "<Figure size 432x288 with 1 Axes>"
            ]
          },
          "metadata": {
            "tags": [],
            "needs_background": "light"
          }
        }
      ]
    },
    {
      "cell_type": "code",
      "metadata": {
        "id": "YFuSCMoDRPUl",
        "outputId": "b3c7f7c9-6a66-4261-e00e-33affcd47178",
        "colab": {
          "base_uri": "https://localhost:8080/"
        }
      },
      "source": [
        "x1 = sympy.Symbol(\"x1\")\n",
        "x2 = sympy.Symbol(\"x2\")\n",
        "x3 = sympy.Symbol(\"x3\")\n",
        "expr = 5*x1 + 2*x2*4*x3\n",
        "res = sympy.integrate(expr,\n",
        "                      (x1, 0, 1),\n",
        "                      (x2, 0, 3),\n",
        "                      (x3, 0, 2))\n",
        "result = {} \n",
        "result[\"analytical\"] = float(res)\n",
        "print(\"Resultado analítico: {}\".format(result[\"analytical\"]))"
      ],
      "execution_count": 17,
      "outputs": [
        {
          "output_type": "stream",
          "text": [
            "Resultado analítico: 87.0\n"
          ],
          "name": "stdout"
        }
      ]
    },
    {
      "cell_type": "code",
      "metadata": {
        "id": "BmsRgddgRPUo",
        "outputId": "1edccdef-466b-46d4-9396-540885cfd0f1",
        "colab": {
          "base_uri": "https://localhost:8080/"
        }
      },
      "source": [
        "x1 = sympy.Symbol(\"x1\")\n",
        "x2 = sympy.Symbol(\"x2\")\n",
        "x3 = sympy.Symbol(\"x3\")\n",
        "expr = sympy.log(x2+x1+x3**2)\n",
        "res = sympy.integrate(expr,\n",
        "                      (x1, 0, 1),\n",
        "                      (x2, 0, 3),\n",
        "                      (x3, 0, 2))\n",
        "result = {} \n",
        "result[\"analytical\"] = float(res)\n",
        "print(\"Resultado analítico: {}\".format(result[\"analytical\"]))"
      ],
      "execution_count": 18,
      "outputs": [
        {
          "output_type": "stream",
          "text": [
            "Resultado analítico: 6.471357631407641\n"
          ],
          "name": "stdout"
        }
      ]
    },
    {
      "cell_type": "code",
      "metadata": {
        "id": "sFTU5TuGRPUs",
        "outputId": "c9bf4a69-52b1-4450-8d4a-e8c2dec20f25",
        "colab": {
          "base_uri": "https://localhost:8080/"
        }
      },
      "source": [
        "N = 100000\n",
        "accum = 0\n",
        "for i in range(N):\n",
        "    xx1 = numpy.random.uniform(1, 2)\n",
        "    xx2 = numpy.random.uniform(0, 2)\n",
        "    xx3 = numpy.random.uniform(1, 2)\n",
        "    accum += sympy.sin(y1+y2-(2*y3))\n",
        "volume = (2-1)*(2-0)*(2-1)\n",
        "result = {} \n",
        "result[\"MC\"] = volume * accum / float(N)\n",
        "print(\"Resultado mediante Monte Carlo: {}\".format(result[\"MC\"]))"
      ],
      "execution_count": 19,
      "outputs": [
        {
          "output_type": "stream",
          "text": [
            "Resultado mediante Monte Carlo: -0.588378074726082\n"
          ],
          "name": "stdout"
        }
      ]
    },
    {
      "cell_type": "code",
      "metadata": {
        "id": "GVmZUtl_RPUv",
        "outputId": "97c97eab-b0a0-471f-d5f0-5861460292d0",
        "colab": {
          "base_uri": "https://localhost:8080/"
        }
      },
      "source": [
        "N = 100000\n",
        "accum = 0\n",
        "for i in range(N):\n",
        "    xx1 = numpy.random.uniform(1, 3)\n",
        "    xx2 = numpy.random.uniform(0, 2)\n",
        "    xx3 = numpy.random.uniform(1, 3)\n",
        "    accum += ((numpy.e)**y1 + 2*(numpy.e)**y2 - 3*(numpy.e)**y3)\n",
        "volume = (3-0)*(1-0)*(2-1)\n",
        "result = {} \n",
        "result[\"MC\"] = volume * accum / float(N)\n",
        "print(\"Resultado mediante Monte Carlo: {}\".format(result[\"MC\"]))"
      ],
      "execution_count": 20,
      "outputs": [
        {
          "output_type": "stream",
          "text": [
            "Resultado mediante Monte Carlo: -109.22358523226147\n"
          ],
          "name": "stdout"
        }
      ]
    }
  ]
}