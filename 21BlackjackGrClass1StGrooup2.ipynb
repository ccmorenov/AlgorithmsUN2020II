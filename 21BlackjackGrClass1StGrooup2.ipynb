{
  "nbformat": 4,
  "nbformat_minor": 0,
  "metadata": {
    "colab": {
      "name": "21BlackjackGrClass1StGrooup2.ipynb",
      "provenance": [],
      "collapsed_sections": []
    },
    "kernelspec": {
      "name": "python3",
      "display_name": "Python 3"
    }
  },
  "cells": [
    {
      "cell_type": "code",
      "metadata": {
        "id": "gWYXauBUiyLy"
      },
      "source": [
        "import random as r\n",
        "import matplotlib.pyplot as plt"
      ],
      "execution_count": 1,
      "outputs": []
    },
    {
      "cell_type": "code",
      "metadata": {
        "id": "Z9kgVGXKMPp6"
      },
      "source": [
        "intentos = 10000\n",
        "tm = 10000000"
      ],
      "execution_count": 2,
      "outputs": []
    },
    {
      "cell_type": "markdown",
      "metadata": {
        "id": "m__YRjIHX_VG"
      },
      "source": [
        "Literal 1"
      ]
    },
    {
      "cell_type": "code",
      "metadata": {
        "id": "9bt_jQtcuDuf",
        "outputId": "fcdbc7d8-45e6-481e-a661-5e656eaa2875",
        "colab": {
          "base_uri": "https://localhost:8080/",
          "height": 745
        }
      },
      "source": [
        "#Literal 1\n",
        "baraja_spanish = [1,2,3,4,5,6,7,8,9,10,11,12,1,2,3,4,5,6,7,8,9,10,11,12,1,2,3,4,5,6,7,8,9,10,11,12,1,2,3,4,5,6,7,8,9,10,11,12]\n",
        "baraja_poker = [1,2,3,4,5,6,7,8,9,10,11,12,13,1,2,3,4,5,6,7,8,9,10,11,12,13,1,2,3,4,5,6,7,8,9,10,11,12,13,1,2,3,4,5,6,7,8,9,10,11,12,13]\n",
        "intentos = 10000\n",
        "tm = 10000000\n",
        "x = []\n",
        "y = []\n",
        "def spanish_prob(intento):\n",
        "  exitos = 0\n",
        "  for i in range(0, intento):\n",
        "    lista = [];\n",
        "    for j in range(0,len(baraja_spanish)):\n",
        "      lista.append(baraja_spanish[j])\n",
        "    suma = 0\n",
        "    while suma < 21:\n",
        "      t = r.randrange(0,len(lista),1)  \n",
        "      suma += lista[t]\n",
        "      del lista[t]\n",
        "    if suma == 21:\n",
        "      exitos+=1\n",
        "  x = float(intento)\n",
        "  res = float(exitos)/x\n",
        "  print('% 1.6f' % res)\n",
        "\n",
        "def spanish(intento):\n",
        "  for i in range(0, intento):\n",
        "    lista = [];\n",
        "    for j in range(0,len(baraja_spanish)):\n",
        "      lista.append(baraja_spanish[j])\n",
        "    suma = 0\n",
        "    temp = []\n",
        "    while suma < 21:\n",
        "      t = r.randrange(0,len(lista),1)  \n",
        "      suma += lista[t]\n",
        "      temp.append(lista[t])\n",
        "      del lista[t]\n",
        "    if suma == 21:\n",
        "      x.append(len(temp))\n",
        "\n",
        "def poker_prob(intento):\n",
        "  exitos = 0\n",
        "  for i in range(0, intento):\n",
        "    lista = [];\n",
        "    for j in range(0,len(baraja_poker)):\n",
        "      lista.append(baraja_poker[j])\n",
        "    suma = 0\n",
        "    while suma < 21:\n",
        "      t = r.randrange(0,len(lista),1)  \n",
        "      suma += lista[t]\n",
        "      del lista[t]\n",
        "    if suma == 21:\n",
        "      exitos+=1\n",
        "  x = float(intento)\n",
        "  res = float(exitos)/x\n",
        "  print('% 1.6f' % res)\n",
        "def poker(intento):\n",
        "  for i in range(0, intento):\n",
        "    lista = [];\n",
        "    for j in range(0,len(baraja_spanish)):\n",
        "      lista.append(baraja_poker[j])\n",
        "    suma = 0\n",
        "    temp_p = []\n",
        "    while suma < 21:\n",
        "      t = r.randrange(0,len(lista),1)  \n",
        "      suma += lista[t]\n",
        "      temp_p.append(lista[t])\n",
        "      del lista[t]\n",
        "    if suma == 21:\n",
        "      y.append(len(temp_p))\n",
        "\n",
        "print(\"Baraja española: \")\n",
        "print(baraja_spanish)\n",
        "print(\"Probabilidad de obtener una 21 con una baraja española: \")\n",
        "spanish_prob(tm)\n",
        "print(\"Distribución experimental en 10000 simulaciones: \")\n",
        "spanish(intentos)\n",
        "plt.hist(x, bins = 9)\n",
        "plt.xlabel(\"Cartas en la mano, baraja española\")\n",
        "plt.ylabel(\"Número de veces que obtuvo 21\")\n",
        "plt.show()\n",
        "\n",
        "\n",
        "print(\"Baraja poker: \")\n",
        "print(baraja_poker)\n",
        "print(\"Probabilidad de obtener una 21 con una baraja de poker: \")\n",
        "poker_prob(tm)\n",
        "print(\"Distribución experimental en 10000 simulaciones: \")\n",
        "poker(intentos)\n",
        "plt.hist(y, bins = 9)\n",
        "plt.xlabel(\"Cartas en la mano, baraja poker\")\n",
        "plt.ylabel(\"Número de veces que obtuvo 21\")\n",
        "plt.show()\n",
        "\n"
      ],
      "execution_count": 3,
      "outputs": [
        {
          "output_type": "stream",
          "text": [
            "Baraja española: \n",
            "[1, 2, 3, 4, 5, 6, 7, 8, 9, 10, 11, 12, 1, 2, 3, 4, 5, 6, 7, 8, 9, 10, 11, 12, 1, 2, 3, 4, 5, 6, 7, 8, 9, 10, 11, 12, 1, 2, 3, 4, 5, 6, 7, 8, 9, 10, 11, 12]\n",
            "Probabilidad de obtener una 21 con una baraja española: \n",
            " 0.157802\n",
            "Distribución experimental en 10000 simulaciones: \n"
          ],
          "name": "stdout"
        },
        {
          "output_type": "display_data",
          "data": {
            "image/png": "[encoded data removed]",
            "text/plain": [
              "<Figure size 432x288 with 1 Axes>"
            ]
          },
          "metadata": {
            "tags": [],
            "needs_background": "light"
          }
        },
        {
          "output_type": "stream",
          "text": [
            "Baraja poker: \n",
            "[1, 2, 3, 4, 5, 6, 7, 8, 9, 10, 11, 12, 13, 1, 2, 3, 4, 5, 6, 7, 8, 9, 10, 11, 12, 13, 1, 2, 3, 4, 5, 6, 7, 8, 9, 10, 11, 12, 13, 1, 2, 3, 4, 5, 6, 7, 8, 9, 10, 11, 12, 13]\n",
            "Probabilidad de obtener una 21 con una baraja de poker: \n",
            " 0.144714\n",
            "Distribución experimental en 10000 simulaciones: \n"
          ],
          "name": "stdout"
        },
        {
          "output_type": "display_data",
          "data": {
            "image/png": "[encoded data removed]",
            "text/plain": [
              "<Figure size 432x288 with 1 Axes>"
            ]
          },
          "metadata": {
            "tags": [],
            "needs_background": "light"
          }
        }
      ]
    },
    {
      "cell_type": "markdown",
      "metadata": {
        "id": "XKqH5nyNX8sH"
      },
      "source": [
        "Literal 2"
      ]
    },
    {
      "cell_type": "code",
      "metadata": {
        "id": "U2l4nchfT8AZ",
        "outputId": "44d94519-8be9-4641-dd10-ff8321d3a53f",
        "colab": {
          "base_uri": "https://localhost:8080/",
          "height": 819
        }
      },
      "source": [
        "baraja_spanish = [1,2,3,4,5,6,7,10,10,10,1,2,3,4,5,6,7,8,9,10,10,10,1,2,3,4,5,6,7,8,9,10,10,10,1,2,3,4,5,6,7,8,9,10,10,10] \n",
        "baraja_poker = [1,2,3,4,5,6,7,8,9,10,10,10,10,1,2,3,4,5,6,7,8,9,10,10,10,10,1,2,3,4,5,6,7,8,9,10,10,10,10,1,2,3,4,5,6,7,8,9,10,10,10,10]\n",
        "x = []\n",
        "y = []\n",
        "\n",
        "def spanish_prob(intento):\n",
        "  exitos = 0\n",
        "  for i in range(0, intento):\n",
        "    lista = [];\n",
        "    for j in range(0,len(baraja_spanish)):\n",
        "      lista.append(baraja_spanish[j])\n",
        "    suma = 0\n",
        "    while suma < 21:\n",
        "      t = r.randrange(0,len(lista),1)  \n",
        "      suma += lista[t]\n",
        "      del lista[t]\n",
        "    if suma == 21:\n",
        "      exitos+=1\n",
        "  xy = float(intento)\n",
        "  res = float(exitos)/xy\n",
        "  print('% 1.6f' % res)\n",
        "\n",
        "def spanish(intento):\n",
        "  sp_average = 0\n",
        "  for i in range(0, intento):\n",
        "    lista = [];\n",
        "    for j in range(0,len(baraja_spanish)):\n",
        "      lista.append(baraja_spanish[j])\n",
        "    suma = 0\n",
        "    temp = []\n",
        "    while suma < 21:\n",
        "      t = r.randrange(0,len(lista),1)  \n",
        "      suma += lista[t]\n",
        "      temp.append(lista[t])\n",
        "      del lista[t]\n",
        "    if suma == 21:\n",
        "      x.append(len(temp))\n",
        "      sp_average += len(temp)\n",
        "  return float(sp_average)/len(x)\n",
        "\n",
        "def poker_prob(intento):\n",
        "  exitos = 0\n",
        "  for i in range(0, intento):\n",
        "    lista = [];\n",
        "    for j in range(0,len(baraja_poker)):\n",
        "      lista.append(baraja_poker[j])\n",
        "      suma = 0\n",
        "    while(suma < 21):\n",
        "      t = r.randrange(0,len(lista),1)  \n",
        "      suma += lista[t]\n",
        "      del lista[t]\n",
        "    if suma == 21:\n",
        "      exitos+=1\n",
        "  xy = float(intento)\n",
        "  res = float(exitos)/xy\n",
        "  print('% 1.6f' % res)\n",
        "def poker(intento):\n",
        "  pk_average = 0\n",
        "  for i in range(0, intento):\n",
        "    lista = [];\n",
        "    for j in range(0,len(baraja_spanish)):\n",
        "      lista.append(baraja_poker[j])\n",
        "    suma = 0\n",
        "    temp_p = []\n",
        "    while(suma < 21):\n",
        "      t = r.randrange(0,len(lista),1)  \n",
        "      suma += lista[t]\n",
        "      temp_p.append(lista[t])\n",
        "      del lista[t]\n",
        "    if suma == 21:\n",
        "      y.append(len(temp_p))\n",
        "      pk_average += len(temp_p)\n",
        "  return float(pk_average)/len(y);\n",
        "\n",
        "print(\"Baraja española: \")\n",
        "print(baraja_spanish)\n",
        "print(\"Probabilidad de obtener una 21 con una baraja española: \")\n",
        "spanish_prob(tm) \n",
        "print(\"Promedio de cartas con las que obtuvo 21\")\n",
        "sp_average = spanish(intentos)\n",
        "print('% 1.6f' % sp_average)\n",
        "print(\"Distribución experimental en 10000 simulaciones: \")\n",
        "plt.hist(x, bins = 15)\n",
        "plt.xlabel(\"Cartas en la mano, baraja española\")\n",
        "plt.ylabel(\"Número de veces que obtuvo 21\")\n",
        "plt.show()\n",
        "\n",
        "print(\"Baraja poker: \")\n",
        "print(baraja_poker)\n",
        "print(\"Probabilidad de obtener una 21 con una baraja de poker: \")\n",
        "poker_prob(tm)\n",
        "print(\"Promedio de cartas con las que obtuvo 21\")\n",
        "pk_average = poker(intentos)\n",
        "print('% 1.6f' % pk_average)\n",
        "print(\"Distribución experimental en 10000 simulaciones: \")\n",
        "plt.hist(y, bins = 15)\n",
        "plt.xlabel(\"Cartas en la mano, baraja poker\")\n",
        "plt.ylabel(\"Número de veces que obtuvo 21\")\n",
        "plt.show()\n",
        "\n"
      ],
      "execution_count": 4,
      "outputs": [
        {
          "output_type": "stream",
          "text": [
            "Baraja española: \n",
            "[1, 2, 3, 4, 5, 6, 7, 10, 10, 10, 1, 2, 3, 4, 5, 6, 7, 8, 9, 10, 10, 10, 1, 2, 3, 4, 5, 6, 7, 8, 9, 10, 10, 10, 1, 2, 3, 4, 5, 6, 7, 8, 9, 10, 10, 10]\n",
            "Probabilidad de obtener una 21 con una baraja española: \n",
            " 0.153320\n",
            "Promedio de cartas con las que obtuvo 21\n",
            " 3.776949\n",
            "Distribución experimental en 10000 simulaciones: \n"
          ],
          "name": "stdout"
        },
        {
          "output_type": "display_data",
          "data": {
            "image/png": "[encoded data removed]",
            "text/plain": [
              "<Figure size 432x288 with 1 Axes>"
            ]
          },
          "metadata": {
            "tags": [],
            "needs_background": "light"
          }
        },
        {
          "output_type": "stream",
          "text": [
            "Baraja poker: \n",
            "[1, 2, 3, 4, 5, 6, 7, 8, 9, 10, 10, 10, 10, 1, 2, 3, 4, 5, 6, 7, 8, 9, 10, 10, 10, 10, 1, 2, 3, 4, 5, 6, 7, 8, 9, 10, 10, 10, 10, 1, 2, 3, 4, 5, 6, 7, 8, 9, 10, 10, 10, 10]\n",
            "Probabilidad de obtener una 21 con una baraja de poker: \n",
            " 0.140190\n",
            "Promedio de cartas con las que obtuvo 21\n",
            " 3.758824\n",
            "Distribución experimental en 10000 simulaciones: \n"
          ],
          "name": "stdout"
        },
        {
          "output_type": "display_data",
          "data": {
            "image/png": "[encoded data removed]",
            "text/plain": [
              "<Figure size 432x288 with 1 Axes>"
            ]
          },
          "metadata": {
            "tags": [],
            "needs_background": "light"
          }
        }
      ]
    },
    {
      "cell_type": "markdown",
      "metadata": {
        "id": "Y6wSzo1MaUsa"
      },
      "source": [
        "Literal 3"
      ]
    },
    {
      "cell_type": "code",
      "metadata": {
        "id": "0o6f7vjCaVv4",
        "outputId": "a7633304-3e9d-4512-cd85-e0cc8f6c154f",
        "colab": {
          "base_uri": "https://localhost:8080/",
          "height": 821
        }
      },
      "source": [
        "baraja_spanish = [1,2,3,4,5,6,7,10,10,10,1,2,3,4,5,6,7,8,9,10,10,10,1,2,3,4,5,6,7,8,9,10,10,10,1,2,3,4,5,6,7,8,9,10,10,10] \n",
        "baraja_poker = [1,2,3,4,5,6,7,8,9,10,10,10,10,1,2,3,4,5,6,7,8,9,10,10,10,10,1,2,3,4,5,6,7,8,9,10,10,10,10,1,2,3,4,5,6,7,8,9,10,10,10,10]\n",
        "\n",
        "deck = []\n",
        "deckk = []\n",
        "\n",
        "def spanish_prob(intento, n):\n",
        "  exitos = 0\n",
        "  for i in range(0, intento):\n",
        "    lista = [];\n",
        "    for j in range(0,len(baraja_spanish)):\n",
        "      lista.append(baraja_spanish[j])\n",
        "    del lista[16]  \n",
        "    del lista[6]\n",
        "    del lista[4]   \n",
        "    suma = 19\n",
        "    while len(lista) > n/2: \n",
        "      t = r.randrange(0,len(lista),1)  \n",
        "      del lista[t]\n",
        "    while suma < 21:\n",
        "      t = r.randrange(0,len(lista),1)  \n",
        "      suma += lista[t]\n",
        "      del lista[t]\n",
        "    if suma == 21:\n",
        "      exitos+=1\n",
        "  x = float(intento)\n",
        "  res = float(exitos)/x\n",
        "  print('% 1.6f' % res)\n",
        "\n",
        "def poker_prob(intento, n):\n",
        "  exitos = 0\n",
        "  for i in range(0, intento):\n",
        "    lista = [];\n",
        "    for j in range(0,len(baraja_poker)):\n",
        "      lista.append(baraja_poker[j])\n",
        "    del lista[19]  \n",
        "    del lista[6]\n",
        "    del lista[4]   \n",
        "    suma = 19\n",
        "    while len(lista) > n/2: \n",
        "      t = r.randrange(0,len(lista),1)  \n",
        "      del lista[t]\n",
        "    while suma < 21:\n",
        "      t = r.randrange(0,len(lista),1)  \n",
        "      suma += lista[t]\n",
        "      del lista[t]\n",
        "    if suma == 21:\n",
        "      exitos+=1\n",
        "  x = float(intento)\n",
        "  res = float(exitos)/x\n",
        "  print('% 1.6f' % res)\n",
        "\n",
        "def spanish_pplot(intento, n):\n",
        "  av = 0\n",
        "  for i in range(0, intento):\n",
        "    lista = [];\n",
        "    for j in range(0,len(baraja_spanish)):\n",
        "      lista.append(baraja_spanish[j])\n",
        "    del lista[16]  \n",
        "    del lista[6]\n",
        "    del lista[4]    \n",
        "    suma = 19\n",
        "    temp = []\n",
        "    while len(lista) > n/2: \n",
        "      t = r.randrange(0,len(lista),1)  \n",
        "      del lista[t]\n",
        "    while suma < 21:\n",
        "      t = r.randrange(0,len(lista),1)  \n",
        "      suma += lista[t]\n",
        "      temp.append(lista[t])\n",
        "      del lista[t]\n",
        "    if suma == 21:\n",
        "      deck.append(len(temp)+3)\n",
        "      av += len(temp)+3\n",
        "  return float(av)/len(deck)\n",
        "\n",
        "def poker_pplot(intento, n):\n",
        "  av = 0\n",
        "  for i in range(0, intento):\n",
        "    lista = [];\n",
        "    for j in range(0,len(baraja_poker)):\n",
        "      lista.append(baraja_poker[j])\n",
        "    del lista[19]  \n",
        "    del lista[6]\n",
        "    del lista[4]   \n",
        "    suma = 19\n",
        "    temp_p = []\n",
        "    while len(lista) > n/2: \n",
        "      t = r.randrange(0,len(lista),1)  \n",
        "      del lista[t]\n",
        "    while suma < 21:\n",
        "      t = r.randrange(0,len(lista),1)  \n",
        "      suma += lista[t]\n",
        "      temp_p.append(lista[t])\n",
        "      del lista[t]\n",
        "    if suma == 21:\n",
        "      deckk.append(len(temp_p)+3)\n",
        "      av += len(temp_p)+3\n",
        "  return float(av)/len(deckk)\n",
        "\n",
        "print(\"Baraja española: \")\n",
        "print(baraja_spanish)\n",
        "print(\"Probabilidad de obtener una 21 con una baraja española con la mitad de las cartas y teniendo 19: \")\n",
        "spanish_prob(tm,48)\n",
        "print(\"Promedio de cartas con las que obtuvo 21\")\n",
        "sp_average = spanish_pplot(intentos,48)\n",
        "print('% 1.6f' % sp_average)\n",
        "print(\"Distribución experimental en 10000 simulaciones: \")\n",
        "plt.hist(deck, bins=10) \n",
        "plt.xlabel(\"Cartas en mano\")\n",
        "plt.ylabel(\"Número de veces que obtuvo 21\")\n",
        "plt.show()\n",
        "\n",
        "print(\"Baraja poker: \")\n",
        "print(baraja_poker)\n",
        "print(\"Probabilidad de obtener una 21 con una baraja de poker con la mitad de las cartas y teniendo 19: \")\n",
        "poker_prob(tm,52)\n",
        "print(\"Promedio de cartas con las que obtuvo 21\")\n",
        "pk_average = poker_pplot(intentos,52)\n",
        "print('% 1.6f' % pk_average)\n",
        "print(\"Distribución experimental en 10000 simulaciones: \")\n",
        "plt.hist(deckk, bins = 10)\n",
        "plt.xlabel(\"Cartas en mano\")\n",
        "plt.ylabel(\"Número de veces que obtuvo 21\")\n",
        "plt.show()\n"
      ],
      "execution_count": 5,
      "outputs": [
        {
          "output_type": "stream",
          "text": [
            "Baraja española: \n",
            "[1, 2, 3, 4, 5, 6, 7, 10, 10, 10, 1, 2, 3, 4, 5, 6, 7, 8, 9, 10, 10, 10, 1, 2, 3, 4, 5, 6, 7, 8, 9, 10, 10, 10, 1, 2, 3, 4, 5, 6, 7, 8, 9, 10, 10, 10]\n",
            "Probabilidad de obtener una 21 con una baraja española con la mitad de las cartas y teniendo 19: \n",
            " 0.099563\n",
            "Promedio de cartas con las que obtuvo 21\n",
            " 4.066734\n",
            "Distribución experimental en 10000 simulaciones: \n"
          ],
          "name": "stdout"
        },
        {
          "output_type": "display_data",
          "data": {
            "image/png": "[encoded data removed]",
            "text/plain": [
              "<Figure size 432x288 with 1 Axes>"
            ]
          },
          "metadata": {
            "tags": [],
            "needs_background": "light"
          }
        },
        {
          "output_type": "stream",
          "text": [
            "Baraja poker: \n",
            "[1, 2, 3, 4, 5, 6, 7, 8, 9, 10, 10, 10, 10, 1, 2, 3, 4, 5, 6, 7, 8, 9, 10, 10, 10, 10, 1, 2, 3, 4, 5, 6, 7, 8, 9, 10, 10, 10, 10, 1, 2, 3, 4, 5, 6, 7, 8, 9, 10, 10, 10, 10]\n",
            "Probabilidad de obtener una 21 con una baraja de poker con la mitad de las cartas y teniendo 19: \n",
            " 0.086799\n",
            "Promedio de cartas con las que obtuvo 21\n",
            " 4.073671\n",
            "Distribución experimental en 10000 simulaciones: \n"
          ],
          "name": "stdout"
        },
        {
          "output_type": "display_data",
          "data": {
            "image/png": "[encoded data removed]",
            "text/plain": [
              "<Figure size 432x288 with 1 Axes>"
            ]
          },
          "metadata": {
            "tags": [],
            "needs_background": "light"
          }
        }
      ]
    },
    {
      "cell_type": "markdown",
      "metadata": {
        "id": "I9M88hluZeJf"
      },
      "source": [
        "Literal 4 \\\\\n",
        "Analiticamente podemos ver que si en la mano del jugador la suma de las cartas es 19, la mayor probabilidad de obtener una 21 se obtiene si la cantidad de 1's y de 2's que hay en la baraja es la máxima posible. \\\\\n",
        "Así dada una baraja donde hay 12 cartas, digamos que en la baraja hay: \\\\\n",
        "-Baraja española: cuatro 2's y cuatro 1's para un total de 8 cartas. Finalmente las otra cuatro cartas son irrelevantes, pues si se sacan siempre se pierde. \\\\\n",
        "-Baraja poker: cuatro 2's y cuatro 1's para un total de 8 cartas. Las otra cuatro cartas son irrelevantes, se pierde si se sacan. \\\\\n",
        "Calculamos la probabilidad usando probabilidad condicional y sumando las probabilidades de los dos casos diferentes, y tenemos: \\\\\n",
        "Probabilidad mas alta teniendo 12 cartas y un 19: \\\\\n",
        "Baraja española: 0.42424242 \\\\\n",
        "Baraja poker: 0.42424242 \\\\\n",
        "\n",
        "Por otro lado, la menor probabilidad se obtiene si la cantidad de 1's y de 2's es la menor posible, podemos ver que es posible que entre las 12 cartas restantes, no quede ningún 2 ni ningún 1, así cualquier carta que saque el jugador lo hará sumar un número mayor a 21. La probabilidad de obtener una 21 en el peor caso es de 0 para ambas barajas."
      ]
    },
    {
      "cell_type": "code",
      "metadata": {
        "id": "5Y6Xu6GEeVfZ",
        "outputId": "f7f38230-6426-4a9e-8676-d364f43cabc4",
        "colab": {
          "base_uri": "https://localhost:8080/",
          "height": 90
        }
      },
      "source": [
        "#Calculando probabilidades\n",
        "hot_spanish = [3,4,5,6,7,10,10,10,3,4,5,6,7,8,9,10,10,10,3,4,5,6,7,8,9,10,10,10,3,4,5,6,7,8,9,10,10,10] \n",
        "hot_poker = [3,4,5,6,7,8,9,10,10,10,10,3,4,5,6,7,8,9,10,10,10,10,3,4,5,6,7,8,9,10,10,10,10,3,4,5,6,7,8,9,10,10,10,10]\n",
        "\n",
        "def spanish_prob(intento, n):\n",
        "  exitos = 0\n",
        "  for i in range(0, intento):\n",
        "    lista = [];\n",
        "    for j in range(0,len(hot_spanish)):\n",
        "      lista.append(hot_spanish[j])\n",
        "    lista_p = [1,1,1,1,2,2,2,2] \n",
        "    suma = 19\n",
        "    while len(lista_p) < n: \n",
        "      t = r.randrange(0,len(lista),1)  \n",
        "      lista_p.append(lista[t])\n",
        "      del lista[t]\n",
        "    while suma < 21:\n",
        "      t = r.randrange(0,len(lista_p),1)  \n",
        "      suma += lista_p[t]\n",
        "      del lista_p[t]\n",
        "    if suma == 21:\n",
        "      exitos+=1\n",
        "  x = float(intento)\n",
        "  res = float(exitos)/x\n",
        "  print('% 1.6f' % res)\n",
        "\n",
        "def poker_prob(intento, n):\n",
        "  exitos = 0\n",
        "  for i in range(0, intento):\n",
        "    lista = [];\n",
        "    for j in range(0,len(hot_poker)):\n",
        "      lista.append(hot_poker[j])\n",
        "    lista_p = [1,1,1,1,2,2,2,2] \n",
        "    suma = 19\n",
        "    while len(lista_p) < n: \n",
        "      t = r.randrange(0,len(lista),1)  \n",
        "      lista_p.append(lista[t])\n",
        "      del lista[t]\n",
        "    while suma < 21:\n",
        "      t = r.randrange(0,len(lista_p),1)  \n",
        "      suma += lista_p[t]\n",
        "      del lista_p[t]\n",
        "    if suma == 21:\n",
        "      exitos+=1\n",
        "  x = float(intento)\n",
        "  res = float(exitos)/x\n",
        "  print('% 1.6f' % res)\n",
        "\n",
        "\n",
        "\n",
        "print(\"Máxima probabilidad de obtener una 21 con una baraja española teniendo 19 restando 12 cartas: \")\n",
        "spanish_prob(tm,12)\n",
        "print(\"Máxima probabilidad de obtener una 21 con una baraja de poker teniendo 19 restando 12 cartas: \")\n",
        "spanish_prob(tm,12)\n"
      ],
      "execution_count": 6,
      "outputs": [
        {
          "output_type": "stream",
          "text": [
            "Máxima probabilidad de obtener una 21 con una baraja española teniendo 19 restando 12 cartas: \n",
            " 0.424309\n",
            "Máxima probabilidad de obtener una 21 con una baraja de poker teniendo 19 restando 12 cartas: \n",
            " 0.423809\n"
          ],
          "name": "stdout"
        }
      ]
    },
    {
      "cell_type": "code",
      "metadata": {
        "id": "TUxTdWF_jc3W",
        "outputId": "0e88ca44-1625-4b84-9997-d1b1a7692bcc",
        "colab": {
          "base_uri": "https://localhost:8080/",
          "height": 654
        }
      },
      "source": [
        "#Distribuciones experimentales\n",
        "baraja_spanish = [1,2,3,4,5,6,7,8,9,10,10,10,10,1,2,3,4,5,6,7,8,9,10,10,10,10,1,2,3,4,5,6,7,8,9,10,10,10,10,1,2,3,4,5,6,7,8,9,10,10,10,10]\n",
        "baraja_poker = [1,2,3,4,5,6,7,8,9,10,10,10,10,1,2,3,4,5,6,7,8,9,10,10,10,10,1,2,3,4,5,6,7,8,9,10,10,10,10,1,2,3,4,5,6,7,8,9,10,10,10,10]\n",
        "\n",
        "deck = []\n",
        "deckk = []\n",
        "def spanish_pplot(intento, n):\n",
        "  average = 0\n",
        "  for i in range(0, intento):\n",
        "    lista = [];\n",
        "    for j in range(0,len(baraja_spanish)):\n",
        "      lista.append(baraja_spanish[j])\n",
        "    del lista[16]  \n",
        "    del lista[6]\n",
        "    del lista[4]    \n",
        "    suma = 19\n",
        "    temp = []\n",
        "    while len(lista) > n: \n",
        "      t = r.randrange(0,len(lista),1)  \n",
        "      del lista[t]\n",
        "    while suma < 21:\n",
        "      t = r.randrange(0,len(lista),1)  \n",
        "      suma += lista[t]\n",
        "      temp.append(lista[t])\n",
        "      del lista[t]\n",
        "    if suma == 21:\n",
        "      deck.append(len(temp)+3)\n",
        "      average += len(temp)+3\n",
        "  return float(average)/len(deck)\n",
        "\n",
        "def poker_pplot(intento, n):\n",
        "  average = 0\n",
        "  for i in range(0, intento):\n",
        "    lista = [];\n",
        "    for j in range(0,len(baraja_poker)):\n",
        "      lista.append(baraja_poker[j])\n",
        "    del lista[19]  \n",
        "    del lista[6]\n",
        "    del lista[4]  \n",
        "    suma = 19\n",
        "    temp_p = []\n",
        "    while len(lista) > n: \n",
        "      t = r.randrange(0,len(lista),1)  \n",
        "      del lista[t]\n",
        "    while suma < 21:\n",
        "      t = r.randrange(0,len(lista),1)  \n",
        "      suma += lista[t]\n",
        "      temp_p.append(lista[t])\n",
        "      del lista[t]\n",
        "    if suma == 21:\n",
        "      average += len(temp_p)+3\n",
        "      deckk.append(len(temp_p)+3)\n",
        "  return float(average)/len(deckk)\n",
        "\n",
        "print(\"Distribución experimental en 10000 simulaciones con la baraja española y restando 12 cartas: \")\n",
        "average = spanish_pplot(intentos,12)\n",
        "print(\"Promedio de cartas con las que obtuvo 21: \")\n",
        "print('% 1.6f' % average)\n",
        "plt.hist(deck, bins=10) \n",
        "plt.xlabel(\"Cartas en mano\")\n",
        "plt.ylabel(\"Número de veces que obtuvo 21\")\n",
        "plt.show()\n",
        "\n",
        "print(\"Distribución experimental en 10000 simulaciones con la baraja de poker y restando 12 cartas: \")\n",
        "average = poker_pplot(intentos,12)\n",
        "print(\"Promedio de cartas con las que obtuvo 21: \")\n",
        "print('% 1.6f' % average)\n",
        "plt.hist(deckk, bins = 10)\n",
        "plt.xlabel(\"Cartas en mano\")\n",
        "plt.ylabel(\"Número de veces que obtuvo 21\")\n",
        "plt.show()"
      ],
      "execution_count": 7,
      "outputs": [
        {
          "output_type": "stream",
          "text": [
            "Distribución experimental en 10000 simulaciones con la baraja española y restando 12 cartas: \n",
            "Promedio de cartas con las que obtuvo 21: \n",
            " 4.060168\n"
          ],
          "name": "stdout"
        },
        {
          "output_type": "display_data",
          "data": {
            "image/png": "[encoded data removed]",
            "text/plain": [
              "<Figure size 432x288 with 1 Axes>"
            ]
          },
          "metadata": {
            "tags": [],
            "needs_background": "light"
          }
        },
        {
          "output_type": "stream",
          "text": [
            "Distribución experimental en 10000 simulaciones con la baraja de poker y restando 12 cartas: \n",
            "Promedio de cartas con las que obtuvo 21: \n",
            " 4.066425\n"
          ],
          "name": "stdout"
        },
        {
          "output_type": "display_data",
          "data": {
            "image/png": "[encoded data removed]",
            "text/plain": [
              "<Figure size 432x288 with 1 Axes>"
            ]
          },
          "metadata": {
            "tags": [],
            "needs_background": "light"
          }
        }
      ]
    },
    {
      "cell_type": "markdown",
      "metadata": {
        "id": "mILZ94_dBPhT"
      },
      "source": [
        "Literal 5"
      ]
    },
    {
      "cell_type": "markdown",
      "metadata": {
        "id": "goficNViY9eh"
      },
      "source": [
        "Literal 5 - Poker"
      ]
    },
    {
      "cell_type": "code",
      "metadata": {
        "id": "Le6HYAk7v-1R",
        "outputId": "665f579a-3e1d-415a-fd1c-377fdd843dea",
        "colab": {
          "base_uri": "https://localhost:8080/",
          "height": 354
        }
      },
      "source": [
        "import random \n",
        "import matplotlib.pyplot as plt\n",
        "\n",
        "number_of_simulation = 10000\n",
        "money = 0 \n",
        "count = 0\n",
        "av_number_c = 0\n",
        "n_21 = []\n",
        "count_games = 0\n",
        "\n",
        "while count_games <= number_of_simulation:\n",
        "  hot_deck = [1,1,1,1,2,2,2,2,10,10,10,10]\n",
        "  cold_deck = [1,2,3,4,6,8,9,10,10,10,10,1,2,3,4,5,6,8,9,10,10,10,10,1,2,3,4,5,6,7,8,9,10,10,10,10,1,2,3,4,5,6,7,8,9,10,10,10,10]\n",
        "  count_games += 1\n",
        "  prob_hot_or_cold = random.randint(1,10)\n",
        "  my_hands2 = []\n",
        "  my_hands = [7,5,5]\n",
        "  if prob_hot_or_cold == 1: #luego tiene en su mano [7,7,5] y un resto de cartas calientes con 12 cartas\n",
        "    money -= 1000\n",
        "    number_of_cards = 3\n",
        "    while(sum(my_hands)<21):\n",
        "      card = random.choice(hot_deck)\n",
        "      my_hands.append(card)\n",
        "      hot_deck.remove(card)\n",
        "      number_of_cards += 1\n",
        "    if sum(my_hands) == 21:\n",
        "      count += 1\n",
        "      money += 2000\n",
        "      av_number_c += number_of_cards\n",
        "      n_21.append(number_of_cards)\n",
        "  else: #luego tiene en su mano [nada] y un resto de cartas cold con 52 cartas\n",
        "    money -= 10\n",
        "    number_of_cards = 0\n",
        "    while(sum(my_hands2)<21):\n",
        "      card = random.choice(cold_deck)\n",
        "      my_hands2.append(card)\n",
        "      number_of_cards += 1\n",
        "      cold_deck.remove(card)\n",
        "    if sum(my_hands2) == 21:\n",
        "      count += 1\n",
        "      money += 20\n",
        "      av_number_c += number_of_cards\n",
        "      n_21.append(number_of_cards)\n",
        "\n",
        "print(\"poker\")\n",
        "print (\"Las perdidas son de:\", (money/number_of_simulation)*200)\n",
        "print(\"La probabilidad es de\", count/number_of_simulation,\"con un número de cartas\", av_number_c/count )\n",
        "plt.hist(n_21[0:10000],density=True,bins=10)\n",
        "plt.xlabel(\"Cartas en mano\")\n",
        "plt.ylabel(\"Número de veces que obtuvo 21, a razón de 10000\")\n",
        "plt.show()\n"
      ],
      "execution_count": 10,
      "outputs": [
        {
          "output_type": "stream",
          "text": [
            "poker\n",
            "Las perdidas son de: -12928.2\n",
            "La probabilidad es de 0.1489 con un número de cartas 3.854936198791135\n"
          ],
          "name": "stdout"
        },
        {
          "output_type": "display_data",
          "data": {
            "image/png": "[encoded data removed]",
            "text/plain": [
              "<Figure size 432x288 with 1 Axes>"
            ]
          },
          "metadata": {
            "tags": [],
            "needs_background": "light"
          }
        }
      ]
    },
    {
      "cell_type": "markdown",
      "metadata": {
        "id": "IlFkLp-hZFDl"
      },
      "source": [
        "Literal 5 - Española"
      ]
    },
    {
      "cell_type": "code",
      "metadata": {
        "id": "hix5ymB3E0wj",
        "outputId": "419acee6-252f-4802-8626-7c21c0524e99",
        "colab": {
          "base_uri": "https://localhost:8080/",
          "height": 354
        }
      },
      "source": [
        "import random \n",
        "import matplotlib.pyplot as plt\n",
        "\n",
        "number_of_simulation = 10000\n",
        "money = 0 \n",
        "count = 0\n",
        "av_number_c = 0\n",
        "n_21 = []\n",
        "count_games = 0\n",
        "\n",
        "while count_games <= number_of_simulation:\n",
        "  hot_deck = [1,1,1,1,2,2,2,2,10,10,10,10]\n",
        "  cold_deck = cold_deck = [1,2,3,4,6,8,9,10,10,10,1,2,3,4,5,6,8,9,10,10,10,1,2,3,4,5,6,7,8,9,10,10,10,1,2,3,4,5,6,7,8,9,10,10,10]\n",
        "  count_games += 1\n",
        "  prob_hot_or_cold = random.randint(1,10)\n",
        "  my_hands2 = []\n",
        "  my_hands = [7,5,5]\n",
        "  if prob_hot_or_cold == 1: #luego tiene en su mano [7,7,5] y un resto de cartas calientes con 12 cartas\n",
        "    money -= 1000\n",
        "    number_of_cards = 3\n",
        "    while(sum(my_hands)<21):\n",
        "      card = random.choice(hot_deck)\n",
        "      my_hands.append(card)\n",
        "      hot_deck.remove(card)\n",
        "      number_of_cards += 1\n",
        "    if sum(my_hands) == 21:\n",
        "      count += 1\n",
        "      money += 2000\n",
        "      av_number_c += number_of_cards\n",
        "      n_21.append(number_of_cards)\n",
        "  else: #luego tiene en su mano [nada] y un resto de cartas cold con 48 cartas\n",
        "    money -= 10\n",
        "    number_of_cards = 0\n",
        "    while(sum(my_hands2)<21):\n",
        "      card = random.choice(cold_deck)\n",
        "      my_hands2.append(card)\n",
        "      number_of_cards += 1\n",
        "      cold_deck.remove(card)\n",
        "    if sum(my_hands2) == 21:\n",
        "      count += 1\n",
        "      money += 20\n",
        "      av_number_c += number_of_cards\n",
        "      n_21.append(number_of_cards)\n",
        "print(\"Española\")\n",
        "print (\"Las perdidas son de:\", (money/number_of_simulation)*200)\n",
        "print(\"La probabilidad es de\", count/number_of_simulation,\"con un número de cartas\", av_number_c/count )\n",
        "plt.hist(n_21[0:10000],density=True,bins=10)\n",
        "plt.xlabel(\"Cartas en mano\")\n",
        "plt.ylabel(\"Número de veces que obtuvo 21, a razón de 10000\")\n",
        "plt.show()\n"
      ],
      "execution_count": 11,
      "outputs": [
        {
          "output_type": "stream",
          "text": [
            "Española\n",
            "Las perdidas son de: -13147.0\n",
            "La probabilidad es de 0.1536 con un número de cartas 4.001953125\n"
          ],
          "name": "stdout"
        },
        {
          "output_type": "display_data",
          "data": {
            "image/png": "[encoded data removed]",
            "text/plain": [
              "<Figure size 432x288 with 1 Axes>"
            ]
          },
          "metadata": {
            "tags": [],
            "needs_background": "light"
          }
        }
      ]
    }
  ]
}