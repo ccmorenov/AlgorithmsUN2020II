{
  "nbformat": 4,
  "nbformat_minor": 0,
  "metadata": {
    "colab": {
      "name": "Lab_9",
      "provenance": [],
      "collapsed_sections": []
    },
    "kernelspec": {
      "name": "python3",
      "display_name": "Python 3"
    }
  },
  "cells": [
    {
      "cell_type": "markdown",
      "metadata": {
        "id": "Cu4Mm7E0K0fZ"
      },
      "source": [
        "# **Laboratorio_9**\n",
        "\n",
        "\n",
        "\n",
        "\n",
        "\n",
        "\n",
        "---\n",
        "\n",
        "\n",
        "\n"
      ]
    },
    {
      "cell_type": "code",
      "metadata": {
        "id": "z1KO2UzbKzKh"
      },
      "source": [
        "from collections import Counter\n",
        "from copy import copy\n",
        "import pandas as pd\n",
        "import numpy as np\n",
        "\n"
      ],
      "execution_count": 1,
      "outputs": []
    },
    {
      "cell_type": "markdown",
      "metadata": {
        "id": "8dl21ZsuQw4Z"
      },
      "source": [
        "*1) mejores y peores casos para los algoritmos de Gale-Shapley e Irving y ejecute en Colab estos algoritmos para esos casos para n = 4 y 40.*"
      ]
    },
    {
      "cell_type": "code",
      "metadata": {
        "id": "X9Feg5mtRUfd"
      },
      "source": [
        "N = 4\n",
        "  \n",
        "# This function returns true if  \n",
        "# woman 'w' prefers man 'm1' over man 'm' \n",
        "def wPrefersM1OverM(prefer, w, m, m1): \n",
        "      \n",
        "    # Check if w prefers m over her  \n",
        "    # current engagment m1 \n",
        "    for i in range(N): \n",
        "          \n",
        "        # If m1 comes before m in lisr of w,  \n",
        "        # then w prefers her current engagement, \n",
        "        # don't do anything \n",
        "        if (prefer[w][i] == m1): \n",
        "            return True\n",
        "  \n",
        "        # If m cmes before m1 in w's list,  \n",
        "        # then free her current engagement  \n",
        "        # and engage her with m \n",
        "        if (prefer[w][i] == m): \n",
        "            return False\n",
        "  \n",
        "# Prints stable matching for N boys and N girls.  \n",
        "# Boys are numbered as 0 to N-1.  \n",
        "# Girls are numbereed as N to 2N-1. \n",
        "def stableMarriage(prefer): \n",
        "      \n",
        "    # Stores partner of women. This is our output  \n",
        "    # array that stores paing information.  \n",
        "    # The value of wPartner[i] indicates the partner  \n",
        "    # assigned to woman N+i. Note that the woman numbers  \n",
        "    # between N and 2*N-1. The value -1 indicates  \n",
        "    # that (N+i)'th woman is free \n",
        "    wPartner = [-1 for i in range(N)] \n",
        "  \n",
        "    # An array to store availability of men.  \n",
        "    # If mFree[i] is false, then man 'i' is free, \n",
        "    # otherwise engaged. \n",
        "    mFree = [False for i in range(N)] \n",
        "  \n",
        "    freeCount = N \n",
        "  \n",
        "    # While there are free men \n",
        "    while (freeCount > 0): \n",
        "          \n",
        "        # Pick the first free man (we could pick any) \n",
        "        m = 0\n",
        "        while (m < N): \n",
        "            if (mFree[m] == False): \n",
        "                break\n",
        "            m += 1\n",
        "  \n",
        "        # One by one go to all women according to  \n",
        "        # m's preferences. Here m is the picked free man \n",
        "        i = 0\n",
        "        while i < N and mFree[m] == False: \n",
        "            w = prefer[m][i] \n",
        "  \n",
        "            # The woman of preference is free,  \n",
        "            # w and m become partners (Note that  \n",
        "            # the partnership maybe changed later).  \n",
        "            # So we can say they are engaged not married \n",
        "            if (wPartner[w - N] == -1): \n",
        "                wPartner[w - N] = m \n",
        "                mFree[m] = True\n",
        "                freeCount -= 1\n",
        "  \n",
        "            else:  \n",
        "                  \n",
        "                # If w is not free \n",
        "                # Find current engagement of w \n",
        "                m1 = wPartner[w - N] \n",
        "  \n",
        "                # If w prefers m over her current engagement m1, \n",
        "                # then break the engagement between w and m1 and \n",
        "                # engage m with w. \n",
        "                if (wPrefersM1OverM(prefer, w, m, m1) == False): \n",
        "                    wPartner[w - N] = m \n",
        "                    mFree[m] = True\n",
        "                    mFree[m1] = False\n",
        "            i += 1\n",
        "  \n",
        "            # End of Else \n",
        "        # End of the for loop that goes  \n",
        "        # to all women in m's list \n",
        "    # End of main while loop \n",
        "  \n",
        "    # Prthe solution \n",
        "    #print(\"Woman \", \" Man\") \n",
        "    #for i in range(N): \n",
        "        #print(i + N, \"\\t\", wPartner[i])\n",
        "    "
      ],
      "execution_count": 2,
      "outputs": []
    },
    {
      "cell_type": "code",
      "metadata": {
        "id": "B-NPltukspNN"
      },
      "source": [
        "#Same Function, but printing the stable marriage\n",
        "def stableMarriage2(prefer): \n",
        "      \n",
        "    # Stores partner of women. This is our output  \n",
        "    # array that stores paing information.  \n",
        "    # The value of wPartner[i] indicates the partner  \n",
        "    # assigned to woman N+i. Note that the woman numbers  \n",
        "    # between N and 2*N-1. The value -1 indicates  \n",
        "    # that (N+i)'th woman is free \n",
        "    wPartner = [-1 for i in range(N)] \n",
        "  \n",
        "    # An array to store availability of men.  \n",
        "    # If mFree[i] is false, then man 'i' is free, \n",
        "    # otherwise engaged. \n",
        "    mFree = [False for i in range(N)] \n",
        "  \n",
        "    freeCount = N \n",
        "  \n",
        "    # While there are free men \n",
        "    while (freeCount > 0): \n",
        "          \n",
        "        # Pick the first free man (we could pick any) \n",
        "        m = 0\n",
        "        while (m < N): \n",
        "            if (mFree[m] == False): \n",
        "                break\n",
        "            m += 1\n",
        "  \n",
        "        # One by one go to all women according to  \n",
        "        # m's preferences. Here m is the picked free man \n",
        "        i = 0\n",
        "        while i < N and mFree[m] == False: \n",
        "            w = prefer[m][i] \n",
        "  \n",
        "            # The woman of preference is free,  \n",
        "            # w and m become partners (Note that  \n",
        "            # the partnership maybe changed later).  \n",
        "            # So we can say they are engaged not married \n",
        "            if (wPartner[w - N] == -1): \n",
        "                wPartner[w - N] = m \n",
        "                mFree[m] = True\n",
        "                freeCount -= 1\n",
        "  \n",
        "            else:  \n",
        "                  \n",
        "                # If w is not free \n",
        "                # Find current engagement of w \n",
        "                m1 = wPartner[w - N] \n",
        "  \n",
        "                # If w prefers m over her current engagement m1, \n",
        "                # then break the engagement between w and m1 and \n",
        "                # engage m with w. \n",
        "                if (wPrefersM1OverM(prefer, w, m, m1) == False): \n",
        "                    wPartner[w - N] = m \n",
        "                    mFree[m] = True\n",
        "                    mFree[m1] = False\n",
        "            i += 1\n",
        "  \n",
        "            # End of Else \n",
        "        # End of the for loop that goes  \n",
        "        # to all women in m's list \n",
        "    # End of main while loop \n",
        "  \n",
        "    # Prthe solution \n",
        "    print(\"Woman \", \" Man\") \n",
        "    for i in range(N): \n",
        "        print(i + N, \"\\t\", wPartner[i])"
      ],
      "execution_count": 3,
      "outputs": []
    },
    {
      "cell_type": "code",
      "metadata": {
        "id": "LgF-znJ0Rj1M"
      },
      "source": [
        "preferBoys = [[7, 5, 6, 4], [5, 4, 6, 7], \n",
        "          [4, 5, 6, 7], [4, 5, 6, 7]]\n",
        "preferGirls=[[0, 1, 2, 3], [0, 1, 2, 3], \n",
        "          [0, 1, 2, 3], [0, 1, 2, 3]]\n",
        "  \n",
        "stableMarriage(preferBoys+preferGirls) "
      ],
      "execution_count": 4,
      "outputs": []
    },
    {
      "cell_type": "markdown",
      "metadata": {
        "id": "pT9pru2Su-9d"
      },
      "source": [
        "*# N=4*"
      ]
    },
    {
      "cell_type": "markdown",
      "metadata": {
        "id": "eCWZipVvWfyT"
      },
      "source": [
        "*To find the best and worst case, we will make the preferences random, executing the algorithm 100 times and taking the 3 best execution times and the 3 worst execution times, for N=4*"
      ]
    },
    {
      "cell_type": "code",
      "metadata": {
        "colab": {
          "base_uri": "https://localhost:8080/"
        },
        "id": "QMLa_v4nUvg5",
        "outputId": "19040c4d-528e-4e48-f448-9a9b72ad4933"
      },
      "source": [
        "from random import sample\n",
        "from time import time\n",
        "N=4\n",
        "man = range(0,4)\n",
        "woman=range(4,8)\n",
        "timer=[0,0,0,0,0,0]\n",
        "prefer=[0,0,0,0,0,0]\n",
        "for i in range(100):\n",
        "  preferBoys = [sample(woman,k=4),sample(woman,k=4),sample(woman,k=4),sample(woman,k=4)]\n",
        "  \n",
        "  preferGirls = [sample(man,k=4),sample(man,k=4),sample(man,k=4),sample(man,k=4)]\n",
        "  time_in = time() \n",
        "  stableMarriage(preferBoys+preferGirls)\n",
        "  time_fn = time()\n",
        "  if (i<5):\n",
        "    timer[i]=(time_fn-time_in)\n",
        "    prefer[i]=(preferBoys+preferGirls)\n",
        "  else :\n",
        "    j=0\n",
        "    while j<3:\n",
        "      if ((time_fn-time_in)<timer[j]):\n",
        "        timer[j]=time_fn-time_in\n",
        "        prefer[j]=preferBoys+preferGirls\n",
        "        break\n",
        "      if ((time_fn-time_in)>timer[j+3]):\n",
        "        timer[j+3]=time_fn-time_in\n",
        "        prefer[j+3]=preferBoys+preferGirls\n",
        "        break\n",
        "      j+=1\n",
        "print(timer)\n",
        "print(prefer)\n"
      ],
      "execution_count": 5,
      "outputs": [
        {
          "output_type": "stream",
          "text": [
            "[3.5762786865234375e-06, 3.5762786865234375e-06, 3.814697265625e-06, 2.8848648071289062e-05, 1.811981201171875e-05, 1.71661376953125e-05]\n",
            "[[[4, 7, 5, 6], [6, 7, 5, 4], [5, 6, 4, 7], [7, 5, 6, 4], [0, 2, 3, 1], [2, 0, 3, 1], [0, 1, 2, 3], [0, 3, 2, 1]], [[6, 5, 4, 7], [5, 7, 4, 6], [4, 7, 6, 5], [7, 6, 4, 5], [0, 1, 3, 2], [1, 2, 3, 0], [1, 3, 0, 2], [1, 0, 2, 3]], [[4, 6, 7, 5], [5, 4, 7, 6], [6, 4, 7, 5], [7, 4, 6, 5], [1, 0, 2, 3], [1, 0, 3, 2], [3, 0, 2, 1], [0, 3, 1, 2]], [[7, 4, 6, 5], [7, 6, 5, 4], [7, 4, 6, 5], [7, 6, 5, 4], [3, 2, 1, 0], [2, 1, 3, 0], [3, 0, 2, 1], [1, 0, 3, 2]], [[4, 5, 7, 6], [6, 5, 7, 4], [4, 6, 7, 5], [4, 6, 5, 7], [1, 3, 0, 2], [3, 2, 1, 0], [1, 0, 3, 2], [0, 2, 1, 3]], [[5, 4, 7, 6], [4, 5, 7, 6], [7, 5, 4, 6], [5, 7, 6, 4], [2, 3, 0, 1], [3, 1, 2, 0], [2, 3, 0, 1], [3, 0, 1, 2]]]\n"
          ],
          "name": "stdout"
        }
      ]
    },
    {
      "cell_type": "markdown",
      "metadata": {
        "id": "4dVIxCsDvQ2e"
      },
      "source": [
        "*Mejores tiempos para N=4*\n"
      ]
    },
    {
      "cell_type": "code",
      "metadata": {
        "colab": {
          "base_uri": "https://localhost:8080/"
        },
        "id": "a5R6EHaPnjPa",
        "outputId": "b45b633d-cd73-430a-9dae-fc9f20810d28"
      },
      "source": [
        "print(timer[0])\n",
        "preferMens=prefer[0][:N]\n",
        "preferGirls=prefer[0][N:]\n",
        "\n",
        "print(\"PreferBoys = \",preferMens)\n",
        "print(\"PreferGirls = \",preferGirls)\n",
        "stableMarriage2(prefer[0])\n",
        "%time\n"
      ],
      "execution_count": 6,
      "outputs": [
        {
          "output_type": "stream",
          "text": [
            "3.5762786865234375e-06\n",
            "PreferBoys =  [[4, 7, 5, 6], [6, 7, 5, 4], [5, 6, 4, 7], [7, 5, 6, 4]]\n",
            "PreferGirls =  [[0, 2, 3, 1], [2, 0, 3, 1], [0, 1, 2, 3], [0, 3, 2, 1]]\n",
            "Woman   Man\n",
            "4 \t 0\n",
            "5 \t 2\n",
            "6 \t 1\n",
            "7 \t 3\n",
            "CPU times: user 2 µs, sys: 1 µs, total: 3 µs\n",
            "Wall time: 6.44 µs\n"
          ],
          "name": "stdout"
        }
      ]
    },
    {
      "cell_type": "code",
      "metadata": {
        "colab": {
          "base_uri": "https://localhost:8080/"
        },
        "id": "ezVwsPLBw0iC",
        "outputId": "6491113c-e619-4355-bc02-2981bf268a6a"
      },
      "source": [
        "print(timer[1])\n",
        "preferMens=prefer[1][:N]\n",
        "preferGirls=prefer[1][N:]\n",
        "\n",
        "print(\"PreferBoys = \",preferMens)\n",
        "print(\"PreferGirls = \",preferGirls)\n",
        "stableMarriage2(prefer[1])\n",
        "%time"
      ],
      "execution_count": 7,
      "outputs": [
        {
          "output_type": "stream",
          "text": [
            "3.5762786865234375e-06\n",
            "PreferBoys =  [[6, 5, 4, 7], [5, 7, 4, 6], [4, 7, 6, 5], [7, 6, 4, 5]]\n",
            "PreferGirls =  [[0, 1, 3, 2], [1, 2, 3, 0], [1, 3, 0, 2], [1, 0, 2, 3]]\n",
            "Woman   Man\n",
            "4 \t 2\n",
            "5 \t 1\n",
            "6 \t 0\n",
            "7 \t 3\n",
            "CPU times: user 3 µs, sys: 1 µs, total: 4 µs\n",
            "Wall time: 7.15 µs\n"
          ],
          "name": "stdout"
        }
      ]
    },
    {
      "cell_type": "code",
      "metadata": {
        "colab": {
          "base_uri": "https://localhost:8080/"
        },
        "id": "_-RFQdhiypgX",
        "outputId": "7ab781af-bba3-4238-eefa-fbfae58d3546"
      },
      "source": [
        "print(timer[2])\n",
        "preferMens=prefer[2][:N]\n",
        "preferGirls=prefer[2][N:]\n",
        "\n",
        "print(\"PreferBoys = \",preferMens)\n",
        "print(\"PreferGirls = \",preferGirls)\n",
        "stableMarriage2(prefer[2])\n",
        "%time"
      ],
      "execution_count": 8,
      "outputs": [
        {
          "output_type": "stream",
          "text": [
            "3.814697265625e-06\n",
            "PreferBoys =  [[4, 6, 7, 5], [5, 4, 7, 6], [6, 4, 7, 5], [7, 4, 6, 5]]\n",
            "PreferGirls =  [[1, 0, 2, 3], [1, 0, 3, 2], [3, 0, 2, 1], [0, 3, 1, 2]]\n",
            "Woman   Man\n",
            "4 \t 0\n",
            "5 \t 1\n",
            "6 \t 2\n",
            "7 \t 3\n",
            "CPU times: user 3 µs, sys: 0 ns, total: 3 µs\n",
            "Wall time: 6.91 µs\n"
          ],
          "name": "stdout"
        }
      ]
    },
    {
      "cell_type": "markdown",
      "metadata": {
        "id": "FoYzNqGly2kN"
      },
      "source": [
        "*Peores tiempos para N=4*\n",
        "\n",
        "\n",
        "\n"
      ]
    },
    {
      "cell_type": "code",
      "metadata": {
        "colab": {
          "base_uri": "https://localhost:8080/"
        },
        "id": "F7zAGKLrzC93",
        "outputId": "6ec80e6e-894b-4034-d978-7fe473886ab4"
      },
      "source": [
        "print(timer[3])\n",
        "preferMens=prefer[3][:N]\n",
        "preferGirls=prefer[3][N:]\n",
        "\n",
        "print(\"PreferBoys = \",preferMens)\n",
        "print(\"PreferGirls = \",preferGirls)\n",
        "stableMarriage2(prefer[3])\n",
        "%time"
      ],
      "execution_count": 9,
      "outputs": [
        {
          "output_type": "stream",
          "text": [
            "2.8848648071289062e-05\n",
            "PreferBoys =  [[7, 4, 6, 5], [7, 6, 5, 4], [7, 4, 6, 5], [7, 6, 5, 4]]\n",
            "PreferGirls =  [[3, 2, 1, 0], [2, 1, 3, 0], [3, 0, 2, 1], [1, 0, 3, 2]]\n",
            "Woman   Man\n",
            "4 \t 2\n",
            "5 \t 0\n",
            "6 \t 3\n",
            "7 \t 1\n",
            "CPU times: user 3 µs, sys: 1 µs, total: 4 µs\n",
            "Wall time: 6.91 µs\n"
          ],
          "name": "stdout"
        }
      ]
    },
    {
      "cell_type": "code",
      "metadata": {
        "colab": {
          "base_uri": "https://localhost:8080/"
        },
        "id": "XS5MzIKQzYUu",
        "outputId": "7fc0f7f8-b88e-4b37-abe6-95c6ab69b7e6"
      },
      "source": [
        "print(timer[4])\n",
        "preferMens=prefer[4][:N]\n",
        "preferGirls=prefer[4][N:]\n",
        "\n",
        "print(\"PreferBoys = \",preferMens)\n",
        "print(\"PreferGirls = \",preferGirls)\n",
        "stableMarriage2(prefer[4])\n",
        "%time"
      ],
      "execution_count": 10,
      "outputs": [
        {
          "output_type": "stream",
          "text": [
            "1.811981201171875e-05\n",
            "PreferBoys =  [[4, 5, 7, 6], [6, 5, 7, 4], [4, 6, 7, 5], [4, 6, 5, 7]]\n",
            "PreferGirls =  [[1, 3, 0, 2], [3, 2, 1, 0], [1, 0, 3, 2], [0, 2, 1, 3]]\n",
            "Woman   Man\n",
            "4 \t 3\n",
            "5 \t 0\n",
            "6 \t 1\n",
            "7 \t 2\n",
            "CPU times: user 2 µs, sys: 0 ns, total: 2 µs\n",
            "Wall time: 4.05 µs\n"
          ],
          "name": "stdout"
        }
      ]
    },
    {
      "cell_type": "code",
      "metadata": {
        "colab": {
          "base_uri": "https://localhost:8080/"
        },
        "id": "mLFBY-l0zYtd",
        "outputId": "2f6097d0-59ee-4591-f953-bdd8ed25dc62"
      },
      "source": [
        "print(timer[5])\n",
        "preferMens=prefer[5][:N]\n",
        "preferGirls=prefer[5][N:]\n",
        "\n",
        "print(\"PreferBoys = \",preferMens)\n",
        "print(\"PreferGirls = \",preferGirls)\n",
        "stableMarriage2(prefer[5])\n",
        "%time"
      ],
      "execution_count": 11,
      "outputs": [
        {
          "output_type": "stream",
          "text": [
            "1.71661376953125e-05\n",
            "PreferBoys =  [[5, 4, 7, 6], [4, 5, 7, 6], [7, 5, 4, 6], [5, 7, 6, 4]]\n",
            "PreferGirls =  [[2, 3, 0, 1], [3, 1, 2, 0], [2, 3, 0, 1], [3, 0, 1, 2]]\n",
            "Woman   Man\n",
            "4 \t 2\n",
            "5 \t 3\n",
            "6 \t 1\n",
            "7 \t 0\n",
            "CPU times: user 1 µs, sys: 0 ns, total: 1 µs\n",
            "Wall time: 4.53 µs\n"
          ],
          "name": "stdout"
        }
      ]
    },
    {
      "cell_type": "markdown",
      "metadata": {
        "id": "naEuRaH5te_L"
      },
      "source": [
        " *N=40*"
      ]
    },
    {
      "cell_type": "markdown",
      "metadata": {
        "id": "VBelvvg6z0Dn"
      },
      "source": [
        "*# To find the best and worst case, we will make the preferences random, executing the algorithm 100 times and taking the 3 best execution times and the 3 worst execution times, for N=40*"
      ]
    },
    {
      "cell_type": "code",
      "metadata": {
        "id": "EAF2jLhqz2CX"
      },
      "source": [
        "N = 40\n",
        "def wPrefersM1OverM(prefer, w, m, m1):   \n",
        "    for i in range(N):\n",
        "        if (prefer[w][i] == m1): \n",
        "            return True\n",
        "        if (prefer[w][i] == m): \n",
        "            return False\n",
        "\n",
        "def stableMarriage(prefer):   \n",
        "    wPartner = [-1 for i in range(N)]   \n",
        "    mFree = [False for i in range(N)]   \n",
        "    freeCount = N\n",
        "     \n",
        "    while (freeCount > 0):\n",
        "        \n",
        "        m = 0\n",
        "        while (m < N): \n",
        "            if (mFree[m] == False): \n",
        "                break\n",
        "            m += 1\n",
        "        i = 0\n",
        "        while i < N and mFree[m] == False: \n",
        "            w = prefer[m][i] \n",
        "            if (wPartner[w - N] == -1): \n",
        "                wPartner[w - N] = m \n",
        "                mFree[m] = True\n",
        "                freeCount -= 1  \n",
        "            else:              \n",
        "                m1 = wPartner[w - N] \n",
        "                if (wPrefersM1OverM(prefer, w, m, m1) == False): \n",
        "                    wPartner[w - N] = m \n",
        "                    mFree[m] = True\n",
        "                    mFree[m1] = False\n",
        "            i += 1\n",
        "    \n",
        "def stableMarriage2(prefer):   \n",
        "    wPartner = [-1 for i in range(N)]   \n",
        "    mFree = [False for i in range(N)]   \n",
        "    freeCount = N     \n",
        "    while (freeCount > 0): \n",
        "        m = 0\n",
        "        while (m < N): \n",
        "            if (mFree[m] == False): \n",
        "                break\n",
        "            m += 1\n",
        "        i = 0\n",
        "        while i < N and mFree[m] == False: \n",
        "            w = prefer[m][i] \n",
        "            if (wPartner[w - N] == -1): \n",
        "                wPartner[w - N] = m \n",
        "                mFree[m] = True\n",
        "                freeCount -= 1  \n",
        "            else:              \n",
        "                m1 = wPartner[w - N] \n",
        "                if (wPrefersM1OverM(prefer, w, m, m1) == False): \n",
        "                    wPartner[w - N] = m \n",
        "                    mFree[m] = True\n",
        "                    mFree[m1] = False\n",
        "            i += 1\n",
        "    print(\"Woman \", \" Man\") \n",
        "    for i in range(N): \n",
        "        print(i + N, \"\\t\", wPartner[i])\n"
      ],
      "execution_count": 12,
      "outputs": []
    },
    {
      "cell_type": "code",
      "metadata": {
        "colab": {
          "base_uri": "https://localhost:8080/"
        },
        "id": "NFzQSafa0zGx",
        "outputId": "0bef92db-6ae4-4626-ff06-f333d6d19af3"
      },
      "source": [
        "from random import sample\n",
        "from time import time\n",
        "N=40\n",
        "man = range(0,40)\n",
        "woman=range(40,80)\n",
        "timer=[0,0,0,0,0,0]\n",
        "prefer=[0,0,0,0,0,0]\n",
        "for i in range(1000):\n",
        "  preferBoys = [sample(woman,k=40),sample(woman,k=40),sample(woman,k=40),sample(woman,k=40),sample(woman,k=40),sample(woman,k=40),sample(woman,k=40),sample(woman,k=40),sample(woman,k=40),sample(woman,k=40),sample(woman,k=40),sample(woman,k=40),sample(woman,k=40),sample(woman,k=40),sample(woman,k=40),sample(woman,k=40),sample(woman,k=40),sample(woman,k=40),sample(woman,k=40),sample(woman,k=40),sample(woman,k=40),sample(woman,k=40),sample(woman,k=40),sample(woman,k=40),sample(woman,k=40),sample(woman,k=40),sample(woman,k=40),sample(woman,k=40),sample(woman,k=40),sample(woman,k=40),sample(woman,k=40),sample(woman,k=40),sample(woman,k=40),sample(woman,k=40),sample(woman,k=40),sample(woman,k=40),sample(woman,k=40),sample(woman,k=40),sample(woman,k=40),sample(woman,k=40)]\n",
        "  \n",
        "  preferGirls = [sample(man,k=40),sample(man,k=40),sample(man,k=40),sample(man,k=40),sample(man,k=40),sample(man,k=40),sample(man,k=40),sample(man,k=40),sample(man,k=40),sample(man,k=40),sample(man,k=40),sample(man,k=40),sample(man,k=40),sample(man,k=40),sample(man,k=40),sample(man,k=40),sample(man,k=40),sample(man,k=40),sample(man,k=40),sample(man,k=40),sample(man,k=40),sample(man,k=40),sample(man,k=40),sample(man,k=40),sample(man,k=40),sample(man,k=40),sample(man,k=40),sample(man,k=40),sample(man,k=40),sample(man,k=40),sample(man,k=40),sample(man,k=40),sample(man,k=40),sample(man,k=40),sample(man,k=40),sample(man,k=40),sample(man,k=40),sample(man,k=40),sample(man,k=40),sample(man,k=40)]\n",
        "  time_in = time() \n",
        "  stableMarriage(preferBoys+preferGirls)\n",
        "  time_fn = time()\n",
        "  if (i<5):\n",
        "    timer[i]=(time_fn-time_in)\n",
        "    prefer[i]=(preferBoys+preferGirls)\n",
        "  else :\n",
        "    j=0\n",
        "    while j<3:\n",
        "      if ((time_fn-time_in)<timer[j]):\n",
        "        timer[j]=time_fn-time_in\n",
        "        prefer[j]=preferBoys+preferGirls\n",
        "        break\n",
        "      if ((time_fn-time_in)>timer[j+3]):\n",
        "        timer[j+3]=time_fn-time_in\n",
        "        prefer[j+3]=preferBoys+preferGirls\n",
        "        break\n",
        "      j+=1\n",
        "print(timer)\n",
        "print(prefer)"
      ],
      "execution_count": 13,
      "outputs": [
        {
          "output_type": "stream",
          "text": [
            "[0.00018358230590820312, 0.0001957416534423828, 0.0002422332763671875, 0.0026383399963378906, 0.0014264583587646484, 0.001201629638671875]\n",
            "[[[51, 71, 57, 41, 69, 63, 43, 77, 73, 72, 78, 48, 45, 44, 64, 76, 61, 79, 47, 70, 65, 67, 75, 62, 49, 60, 58, 50, 68, 55, 59, 52, 46, 66, 74, 53, 40, 56, 42, 54], [71, 54, 61, 46, 67, 45, 62, 63, 64, 44, 43, 77, 68, 75, 58, 51, 73, 65, 70, 55, 66, 57, 69, 41, 72, 59, 48, 47, 60, 79, 49, 40, 42, 76, 53, 50, 52, 56, 78, 74], [77, 46, 43, 57, 53, 41, 68, 72, 58, 61, 44, 51, 79, 42, 45, 73, 54, 59, 63, 48, 50, 78, 52, 75, 55, 56, 62, 64, 47, 40, 70, 67, 60, 66, 76, 49, 71, 65, 74, 69], [66, 65, 76, 71, 50, 62, 43, 56, 68, 51, 75, 60, 58, 69, 70, 79, 73, 55, 48, 41, 78, 63, 47, 49, 54, 64, 46, 59, 77, 44, 53, 72, 57, 45, 67, 52, 40, 74, 61, 42], [56, 52, 54, 63, 69, 51, 72, 55, 73, 62, 44, 68, 43, 53, 40, 77, 71, 64, 70, 46, 45, 41, 76, 49, 48, 75, 58, 59, 65, 42, 60, 66, 67, 57, 47, 61, 50, 79, 74, 78], [76, 62, 79, 73, 58, 56, 50, 63, 60, 66, 53, 57, 47, 72, 75, 67, 69, 70, 40, 61, 74, 42, 78, 41, 65, 59, 48, 55, 71, 46, 43, 44, 49, 52, 64, 54, 45, 77, 68, 51], [48, 65, 59, 40, 79, 53, 57, 43, 45, 56, 60, 49, 63, 46, 52, 72, 62, 71, 74, 73, 61, 55, 70, 41, 50, 69, 78, 67, 44, 51, 58, 42, 76, 75, 68, 64, 77, 54, 66, 47], [79, 40, 43, 74, 78, 66, 76, 69, 70, 62, 61, 47, 54, 73, 71, 52, 50, 51, 53, 56, 63, 75, 64, 68, 65, 48, 72, 44, 59, 45, 67, 57, 58, 60, 46, 41, 42, 77, 49, 55], [57, 54, 78, 69, 43, 67, 48, 70, 61, 68, 44, 74, 56, 49, 46, 63, 76, 62, 58, 55, 73, 77, 60, 71, 72, 45, 66, 64, 75, 40, 47, 53, 51, 65, 59, 50, 52, 41, 42, 79], [79, 43, 58, 76, 73, 71, 46, 48, 72, 49, 65, 61, 64, 77, 42, 50, 68, 69, 74, 59, 45, 62, 56, 53, 44, 40, 52, 78, 70, 57, 75, 51, 63, 41, 60, 66, 55, 54, 47, 67], [63, 68, 57, 48, 59, 44, 67, 46, 40, 65, 41, 58, 75, 53, 50, 64, 73, 66, 78, 52, 45, 61, 69, 72, 54, 60, 71, 74, 42, 70, 51, 47, 49, 76, 43, 55, 79, 56, 62, 77], [55, 66, 59, 46, 45, 54, 56, 69, 60, 41, 73, 68, 71, 61, 57, 40, 42, 51, 77, 52, 76, 47, 49, 70, 67, 48, 74, 78, 62, 53, 65, 75, 58, 50, 43, 64, 63, 79, 44, 72], [74, 59, 57, 67, 78, 43, 54, 61, 70, 42, 69, 56, 51, 46, 41, 73, 64, 53, 60, 76, 66, 72, 79, 55, 71, 62, 75, 47, 52, 50, 49, 44, 40, 68, 63, 58, 48, 65, 77, 45], [47, 56, 65, 42, 61, 54, 59, 69, 70, 67, 44, 46, 51, 50, 55, 40, 74, 45, 76, 41, 62, 57, 77, 66, 49, 43, 75, 72, 58, 48, 63, 73, 79, 78, 68, 60, 64, 53, 52, 71], [59, 46, 54, 61, 47, 69, 72, 64, 49, 76, 50, 55, 78, 79, 68, 41, 60, 66, 51, 53, 73, 62, 44, 65, 40, 63, 58, 52, 74, 75, 67, 45, 42, 43, 77, 70, 56, 57, 48, 71], [48, 45, 70, 65, 78, 60, 67, 43, 57, 63, 51, 54, 40, 71, 58, 49, 72, 76, 79, 74, 47, 69, 59, 75, 46, 41, 56, 73, 55, 62, 50, 66, 68, 53, 64, 42, 77, 52, 61, 44], [52, 64, 70, 59, 47, 45, 74, 71, 78, 72, 60, 49, 51, 55, 58, 69, 76, 43, 75, 48, 44, 46, 62, 56, 57, 63, 68, 66, 50, 73, 67, 41, 54, 40, 53, 65, 61, 42, 77, 79], [53, 41, 62, 46, 71, 56, 55, 57, 61, 65, 70, 68, 54, 72, 44, 43, 63, 64, 73, 59, 67, 78, 40, 77, 76, 42, 66, 74, 52, 45, 47, 60, 79, 48, 58, 69, 50, 75, 49, 51], [61, 50, 73, 63, 69, 68, 60, 75, 70, 40, 54, 66, 59, 53, 62, 49, 72, 51, 42, 76, 55, 52, 77, 57, 48, 67, 56, 44, 74, 43, 41, 64, 47, 45, 71, 79, 46, 65, 78, 58], [67, 79, 77, 46, 47, 70, 49, 50, 65, 41, 61, 40, 57, 45, 78, 74, 56, 71, 66, 76, 62, 55, 59, 53, 42, 48, 68, 73, 72, 60, 52, 44, 54, 58, 63, 43, 69, 64, 51, 75], [79, 75, 55, 69, 70, 62, 74, 51, 63, 65, 49, 76, 73, 44, 50, 58, 66, 56, 57, 48, 42, 60, 53, 77, 54, 78, 46, 72, 43, 45, 52, 64, 68, 40, 47, 71, 67, 61, 41, 59], [62, 68, 56, 50, 42, 41, 60, 46, 53, 48, 65, 51, 63, 59, 76, 44, 69, 58, 79, 52, 40, 55, 74, 61, 57, 73, 49, 75, 47, 64, 66, 54, 71, 43, 77, 70, 45, 72, 67, 78], [56, 60, 74, 79, 44, 41, 48, 73, 59, 52, 49, 71, 61, 64, 42, 63, 69, 55, 53, 51, 58, 72, 46, 62, 75, 70, 40, 47, 67, 65, 78, 66, 77, 76, 43, 54, 50, 45, 68, 57], [46, 64, 67, 45, 53, 73, 58, 74, 44, 43, 78, 42, 69, 63, 72, 50, 56, 61, 75, 51, 47, 57, 77, 55, 60, 40, 49, 68, 66, 76, 54, 79, 41, 59, 71, 48, 65, 70, 52, 62], [48, 65, 68, 63, 40, 78, 73, 77, 41, 50, 46, 49, 60, 62, 55, 67, 74, 44, 76, 71, 59, 61, 45, 72, 42, 64, 69, 57, 66, 51, 52, 79, 43, 75, 56, 47, 53, 70, 54, 58], [59, 41, 53, 50, 63, 57, 73, 45, 65, 77, 52, 60, 70, 61, 43, 72, 46, 71, 64, 51, 48, 68, 54, 55, 76, 78, 47, 56, 75, 42, 44, 49, 69, 62, 58, 74, 79, 66, 67, 40], [48, 78, 54, 73, 65, 64, 44, 77, 69, 42, 58, 49, 61, 56, 67, 41, 72, 66, 62, 59, 75, 74, 71, 52, 43, 55, 40, 57, 51, 63, 47, 46, 60, 76, 79, 68, 45, 53, 50, 70], [46, 72, 54, 77, 40, 56, 76, 79, 49, 78, 51, 70, 75, 48, 69, 63, 55, 67, 52, 53, 61, 59, 50, 45, 41, 68, 43, 58, 60, 74, 66, 42, 47, 64, 65, 71, 57, 73, 44, 62], [73, 76, 71, 57, 60, 64, 43, 59, 66, 47, 53, 74, 48, 44, 72, 62, 78, 79, 56, 65, 46, 67, 52, 40, 51, 75, 49, 77, 58, 69, 50, 41, 68, 42, 45, 61, 70, 54, 55, 63], [74, 78, 48, 77, 76, 72, 70, 50, 42, 69, 46, 47, 60, 55, 57, 71, 64, 63, 41, 53, 59, 66, 68, 44, 58, 56, 65, 61, 51, 79, 49, 52, 62, 45, 75, 43, 73, 40, 67, 54], [60, 43, 49, 71, 50, 78, 77, 66, 51, 72, 63, 74, 73, 40, 59, 61, 75, 48, 44, 46, 41, 65, 70, 79, 56, 45, 53, 57, 42, 67, 64, 76, 47, 69, 55, 62, 58, 54, 68, 52], [44, 58, 70, 65, 46, 40, 56, 53, 60, 63, 52, 72, 51, 41, 75, 66, 47, 55, 49, 69, 78, 57, 42, 59, 71, 48, 64, 50, 61, 67, 79, 68, 54, 74, 62, 43, 77, 76, 45, 73], [42, 54, 72, 76, 64, 73, 53, 57, 74, 45, 55, 58, 65, 40, 69, 63, 79, 66, 50, 70, 44, 71, 59, 56, 49, 43, 60, 61, 47, 68, 75, 52, 62, 46, 77, 41, 48, 51, 67, 78], [72, 47, 53, 62, 60, 44, 50, 76, 74, 41, 54, 73, 46, 71, 55, 57, 59, 56, 42, 65, 49, 64, 79, 40, 51, 61, 78, 75, 77, 45, 70, 48, 58, 52, 43, 67, 69, 68, 66, 63], [77, 67, 76, 45, 60, 40, 74, 73, 50, 72, 68, 44, 78, 49, 64, 62, 48, 52, 65, 53, 43, 61, 66, 42, 70, 46, 47, 69, 57, 51, 71, 75, 63, 58, 54, 55, 59, 79, 41, 56], [68, 66, 50, 78, 43, 46, 71, 45, 62, 42, 58, 64, 48, 57, 56, 70, 60, 59, 51, 47, 44, 73, 61, 65, 67, 72, 54, 63, 40, 74, 49, 41, 75, 52, 77, 53, 79, 69, 55, 76], [58, 51, 48, 44, 62, 73, 57, 68, 79, 75, 61, 69, 77, 49, 72, 59, 78, 66, 70, 42, 64, 63, 50, 53, 74, 60, 56, 76, 65, 71, 41, 55, 46, 43, 45, 40, 47, 67, 52, 54], [69, 74, 54, 49, 55, 45, 57, 72, 76, 78, 75, 43, 60, 46, 79, 48, 65, 59, 68, 73, 41, 53, 61, 52, 71, 70, 56, 47, 40, 58, 50, 62, 77, 64, 44, 51, 66, 63, 42, 67], [65, 52, 41, 57, 53, 47, 68, 77, 79, 49, 43, 73, 69, 55, 74, 61, 54, 72, 75, 48, 63, 76, 67, 66, 44, 45, 56, 40, 46, 78, 64, 58, 59, 71, 60, 50, 70, 42, 62, 51], [79, 52, 41, 44, 62, 54, 53, 76, 69, 77, 43, 64, 47, 73, 48, 78, 67, 57, 74, 72, 66, 68, 56, 50, 58, 75, 60, 55, 51, 42, 71, 63, 40, 45, 46, 65, 61, 49, 70, 59], [33, 24, 34, 27, 11, 13, 0, 37, 35, 26, 10, 21, 8, 7, 6, 4, 17, 19, 25, 12, 38, 31, 28, 36, 30, 1, 16, 15, 3, 20, 29, 14, 5, 18, 9, 39, 32, 23, 2, 22], [29, 1, 3, 18, 34, 36, 8, 25, 14, 28, 19, 20, 39, 5, 35, 38, 21, 7, 15, 16, 31, 10, 37, 2, 22, 11, 13, 4, 24, 6, 17, 0, 32, 12, 33, 27, 30, 9, 26, 23], [9, 13, 6, 33, 19, 32, 34, 14, 30, 18, 0, 23, 1, 15, 3, 28, 12, 25, 35, 38, 16, 5, 31, 26, 22, 10, 36, 8, 37, 7, 2, 11, 29, 20, 27, 21, 4, 24, 17, 39], [6, 3, 10, 2, 5, 27, 15, 8, 13, 37, 20, 35, 16, 25, 9, 30, 0, 31, 22, 21, 28, 11, 38, 34, 7, 33, 29, 19, 26, 23, 12, 4, 1, 39, 14, 18, 24, 17, 36, 32], [2, 37, 31, 32, 36, 30, 15, 29, 22, 34, 35, 4, 17, 33, 13, 26, 18, 11, 14, 27, 19, 7, 25, 39, 38, 28, 10, 20, 5, 8, 9, 23, 1, 0, 16, 21, 24, 6, 3, 12], [36, 4, 14, 6, 15, 30, 11, 8, 25, 18, 17, 27, 39, 34, 5, 0, 21, 2, 20, 32, 3, 22, 9, 7, 35, 29, 23, 26, 37, 1, 16, 28, 13, 19, 31, 38, 33, 12, 24, 10], [30, 38, 1, 18, 8, 3, 12, 32, 19, 17, 29, 24, 6, 14, 36, 0, 31, 10, 23, 11, 16, 37, 15, 26, 39, 2, 20, 25, 5, 7, 28, 34, 22, 27, 4, 9, 33, 13, 21, 35], [24, 26, 21, 9, 10, 3, 12, 1, 8, 36, 38, 4, 39, 7, 11, 25, 31, 0, 16, 5, 19, 30, 20, 2, 34, 23, 27, 17, 6, 37, 32, 33, 13, 35, 28, 29, 18, 15, 14, 22], [33, 8, 25, 32, 21, 11, 23, 24, 30, 7, 22, 31, 28, 3, 18, 38, 39, 19, 37, 14, 5, 16, 1, 13, 15, 35, 26, 9, 17, 6, 10, 29, 20, 4, 0, 2, 36, 12, 27, 34], [30, 10, 18, 16, 36, 24, 13, 22, 7, 23, 33, 3, 19, 38, 28, 8, 32, 9, 29, 20, 6, 0, 25, 35, 2, 34, 15, 31, 4, 12, 27, 39, 14, 5, 17, 37, 21, 26, 11, 1], [39, 35, 29, 15, 19, 4, 17, 31, 0, 13, 37, 25, 10, 30, 12, 36, 32, 24, 1, 18, 11, 7, 9, 2, 23, 8, 38, 14, 34, 22, 26, 33, 27, 21, 20, 28, 16, 6, 3, 5], [37, 8, 12, 34, 3, 10, 39, 15, 11, 30, 7, 19, 21, 33, 16, 32, 0, 23, 28, 36, 38, 14, 4, 17, 18, 6, 2, 27, 9, 20, 26, 13, 22, 24, 29, 35, 31, 25, 1, 5], [14, 9, 5, 21, 11, 4, 3, 16, 23, 24, 32, 10, 18, 8, 17, 37, 36, 15, 27, 7, 2, 0, 6, 13, 26, 28, 30, 19, 29, 22, 1, 31, 33, 20, 12, 38, 34, 35, 39, 25], [3, 33, 24, 35, 37, 26, 4, 25, 21, 16, 36, 27, 8, 28, 17, 5, 7, 12, 13, 18, 31, 11, 39, 2, 22, 32, 23, 38, 14, 10, 0, 30, 15, 6, 34, 29, 20, 9, 19, 1], [25, 21, 29, 28, 20, 11, 38, 35, 0, 23, 36, 1, 7, 3, 18, 30, 19, 24, 4, 26, 12, 5, 22, 16, 17, 32, 27, 2, 37, 31, 13, 14, 6, 33, 9, 15, 34, 8, 39, 10], [25, 3, 38, 37, 32, 29, 15, 5, 39, 20, 2, 26, 35, 22, 0, 27, 17, 23, 19, 33, 1, 16, 10, 31, 9, 14, 18, 12, 24, 7, 11, 21, 28, 4, 8, 13, 36, 34, 30, 6], [13, 7, 30, 24, 37, 18, 2, 33, 10, 4, 1, 5, 6, 28, 0, 23, 9, 27, 25, 8, 31, 39, 35, 19, 38, 17, 26, 3, 22, 32, 36, 14, 16, 21, 20, 29, 15, 34, 11, 12], [22, 16, 1, 9, 38, 5, 39, 15, 27, 21, 7, 10, 11, 2, 28, 19, 23, 25, 36, 26, 30, 20, 14, 24, 35, 4, 29, 6, 0, 31, 32, 3, 18, 37, 12, 13, 8, 34, 33, 17], [32, 26, 5, 3, 11, 6, 17, 18, 13, 36, 28, 23, 7, 21, 33, 19, 22, 37, 20, 24, 35, 16, 30, 9, 31, 29, 38, 10, 12, 27, 4, 0, 8, 1, 14, 34, 25, 15, 2, 39], [39, 6, 26, 25, 4, 3, 34, 11, 32, 7, 23, 13, 33, 21, 9, 31, 1, 5, 35, 38, 20, 29, 10, 15, 36, 14, 37, 27, 24, 28, 12, 19, 8, 18, 2, 30, 22, 16, 0, 17], [26, 32, 22, 9, 16, 4, 0, 15, 3, 19, 6, 34, 2, 20, 28, 29, 14, 10, 13, 17, 31, 11, 24, 33, 8, 38, 12, 25, 21, 36, 27, 30, 7, 23, 39, 1, 35, 37, 5, 18], [13, 28, 1, 31, 38, 12, 4, 15, 24, 6, 7, 9, 5, 22, 17, 30, 37, 39, 8, 14, 20, 26, 3, 34, 18, 35, 16, 11, 33, 25, 10, 36, 19, 21, 29, 23, 0, 32, 27, 2], [1, 10, 14, 39, 12, 4, 8, 28, 18, 22, 30, 5, 32, 26, 19, 29, 37, 27, 13, 9, 6, 38, 7, 25, 17, 33, 24, 23, 21, 31, 20, 34, 35, 15, 11, 2, 16, 0, 36, 3], [16, 37, 3, 22, 4, 2, 27, 33, 19, 29, 1, 39, 23, 12, 0, 20, 24, 21, 28, 14, 35, 8, 25, 10, 34, 36, 7, 31, 32, 6, 11, 13, 5, 9, 30, 15, 18, 38, 26, 17], [4, 28, 12, 15, 38, 6, 23, 0, 13, 20, 39, 17, 34, 14, 7, 8, 9, 5, 19, 31, 29, 37, 3, 24, 36, 26, 27, 25, 21, 35, 10, 32, 11, 30, 33, 1, 16, 2, 22, 18], [16, 3, 18, 34, 33, 15, 23, 38, 14, 20, 39, 24, 26, 5, 2, 31, 17, 10, 29, 28, 9, 8, 37, 35, 25, 30, 4, 21, 19, 11, 6, 0, 7, 32, 12, 36, 27, 1, 22, 13], [39, 37, 4, 18, 23, 7, 33, 1, 22, 9, 19, 10, 17, 6, 5, 24, 0, 20, 3, 30, 34, 35, 28, 25, 31, 27, 8, 14, 29, 13, 15, 32, 36, 38, 2, 16, 21, 26, 11, 12], [11, 2, 4, 15, 33, 35, 23, 13, 29, 24, 20, 34, 30, 31, 19, 38, 37, 26, 6, 0, 22, 32, 16, 36, 21, 39, 5, 18, 8, 12, 7, 10, 25, 14, 1, 9, 27, 28, 17, 3], [31, 21, 24, 19, 2, 6, 18, 4, 3, 9, 7, 1, 8, 35, 37, 14, 29, 38, 23, 11, 28, 36, 22, 32, 20, 0, 30, 5, 33, 13, 25, 10, 15, 39, 27, 34, 16, 26, 17, 12], [22, 5, 28, 7, 14, 27, 31, 18, 25, 23, 32, 34, 11, 10, 13, 12, 17, 30, 37, 2, 19, 26, 9, 8, 33, 36, 38, 15, 29, 6, 4, 39, 20, 3, 21, 0, 24, 1, 16, 35], [31, 28, 29, 35, 34, 1, 32, 16, 5, 18, 25, 38, 33, 30, 26, 21, 17, 7, 24, 12, 0, 20, 11, 37, 27, 9, 36, 8, 2, 3, 23, 4, 15, 13, 6, 22, 10, 14, 39, 19], [7, 27, 19, 20, 22, 1, 15, 2, 13, 33, 3, 8, 31, 9, 38, 16, 17, 11, 14, 29, 26, 5, 30, 12, 28, 21, 35, 34, 32, 25, 6, 36, 18, 37, 10, 39, 23, 24, 4, 0], [10, 1, 14, 7, 3, 29, 0, 21, 9, 38, 15, 34, 17, 12, 37, 11, 32, 27, 18, 5, 28, 2, 20, 33, 13, 8, 31, 4, 22, 26, 30, 16, 24, 36, 39, 35, 25, 19, 6, 23], [14, 1, 8, 25, 23, 34, 27, 33, 24, 6, 26, 22, 28, 0, 35, 16, 29, 20, 2, 15, 18, 39, 21, 30, 12, 38, 10, 36, 7, 19, 5, 9, 32, 3, 37, 4, 13, 11, 31, 17], [26, 23, 7, 24, 19, 37, 18, 3, 20, 29, 5, 1, 8, 17, 36, 30, 22, 4, 2, 13, 34, 28, 0, 9, 21, 15, 32, 38, 14, 39, 35, 25, 12, 27, 10, 31, 33, 6, 11, 16], [29, 13, 31, 6, 18, 25, 12, 27, 21, 39, 23, 38, 16, 10, 2, 14, 34, 17, 20, 30, 9, 26, 15, 11, 37, 4, 24, 3, 28, 5, 32, 8, 36, 7, 1, 19, 35, 0, 33, 22], [13, 11, 37, 5, 19, 32, 1, 26, 4, 16, 29, 21, 39, 28, 6, 10, 7, 25, 22, 9, 18, 24, 8, 17, 31, 33, 38, 30, 36, 15, 34, 23, 2, 12, 3, 27, 35, 0, 14, 20], [11, 4, 14, 8, 5, 13, 38, 19, 22, 29, 39, 9, 20, 3, 0, 37, 12, 2, 36, 16, 26, 27, 33, 28, 31, 32, 35, 15, 34, 7, 25, 17, 23, 18, 30, 6, 24, 10, 21, 1], [22, 11, 35, 38, 21, 37, 14, 25, 18, 5, 10, 12, 24, 31, 7, 32, 36, 33, 23, 19, 4, 17, 9, 0, 27, 20, 34, 16, 6, 28, 15, 2, 39, 8, 13, 30, 1, 29, 26, 3], [16, 3, 0, 18, 37, 34, 38, 12, 36, 9, 29, 1, 23, 35, 19, 26, 32, 2, 30, 33, 17, 15, 6, 27, 22, 4, 28, 24, 20, 7, 5, 11, 14, 25, 8, 13, 21, 10, 39, 31]], [[46, 57, 79, 52, 71, 43, 60, 64, 76, 72, 68, 73, 70, 63, 58, 56, 50, 66, 48, 41, 65, 55, 44, 42, 45, 61, 75, 47, 54, 62, 53, 51, 74, 49, 69, 67, 78, 40, 59, 77], [50, 63, 60, 49, 44, 45, 57, 64, 76, 54, 55, 65, 47, 70, 68, 72, 40, 59, 51, 48, 46, 69, 43, 41, 67, 66, 61, 56, 79, 58, 53, 75, 74, 77, 62, 42, 73, 52, 71, 78], [51, 42, 47, 41, 59, 64, 61, 73, 43, 63, 69, 56, 52, 50, 49, 40, 72, 77, 65, 71, 66, 48, 46, 67, 57, 62, 70, 76, 45, 78, 54, 58, 53, 60, 74, 68, 79, 75, 55, 44], [59, 70, 77, 40, 61, 42, 73, 71, 76, 53, 74, 41, 66, 43, 69, 60, 75, 46, 63, 56, 65, 72, 55, 78, 45, 52, 50, 58, 48, 64, 44, 51, 49, 68, 54, 57, 79, 62, 47, 67], [75, 49, 70, 68, 74, 56, 62, 50, 47, 54, 77, 71, 48, 45, 60, 78, 53, 57, 58, 43, 65, 67, 40, 66, 42, 59, 44, 52, 72, 51, 61, 69, 64, 46, 55, 73, 41, 63, 79, 76], [52, 62, 70, 40, 57, 46, 56, 71, 76, 64, 74, 41, 69, 42, 53, 54, 65, 44, 72, 43, 78, 48, 51, 77, 45, 63, 47, 50, 79, 67, 49, 60, 73, 55, 75, 61, 59, 58, 68, 66], [53, 48, 57, 49, 56, 70, 77, 73, 52, 72, 46, 55, 40, 79, 41, 61, 59, 54, 44, 67, 66, 42, 58, 50, 76, 43, 69, 51, 78, 68, 45, 63, 74, 75, 64, 47, 65, 71, 62, 60], [53, 71, 78, 48, 62, 46, 65, 68, 41, 66, 57, 64, 77, 72, 50, 79, 52, 60, 55, 45, 63, 54, 74, 42, 76, 70, 44, 47, 61, 59, 40, 51, 49, 43, 56, 75, 69, 73, 67, 58], [43, 63, 73, 60, 47, 64, 76, 68, 67, 46, 51, 72, 41, 48, 61, 52, 69, 79, 49, 71, 74, 53, 54, 56, 57, 62, 66, 75, 78, 40, 44, 42, 59, 50, 45, 58, 77, 70, 55, 65], [50, 76, 58, 78, 57, 52, 47, 77, 71, 75, 73, 79, 56, 51, 49, 55, 70, 42, 44, 45, 63, 48, 64, 40, 68, 53, 72, 65, 41, 67, 62, 74, 46, 59, 43, 60, 61, 66, 69, 54], [66, 76, 74, 78, 51, 75, 72, 67, 60, 55, 52, 79, 43, 50, 63, 65, 57, 70, 45, 61, 42, 71, 44, 77, 69, 49, 68, 53, 46, 62, 40, 54, 41, 58, 56, 73, 48, 47, 64, 59], [78, 55, 75, 64, 40, 69, 65, 76, 63, 70, 67, 58, 45, 51, 46, 66, 41, 61, 49, 48, 68, 43, 42, 71, 54, 56, 50, 60, 52, 53, 62, 73, 77, 44, 72, 79, 59, 74, 47, 57], [66, 45, 54, 71, 57, 43, 59, 51, 49, 47, 67, 50, 60, 68, 77, 79, 41, 48, 63, 78, 56, 44, 46, 70, 42, 55, 53, 62, 64, 72, 40, 76, 73, 69, 75, 61, 52, 74, 65, 58], [67, 56, 48, 43, 41, 78, 61, 66, 47, 51, 73, 58, 42, 59, 40, 44, 68, 45, 74, 71, 63, 62, 52, 49, 72, 64, 70, 76, 75, 77, 54, 55, 69, 46, 60, 53, 65, 79, 50, 57], [40, 75, 55, 42, 65, 73, 70, 41, 61, 56, 44, 59, 51, 74, 79, 54, 67, 64, 60, 69, 43, 53, 76, 63, 68, 58, 72, 57, 48, 49, 46, 52, 78, 50, 71, 66, 47, 45, 77, 62], [74, 42, 63, 70, 49, 62, 51, 78, 73, 60, 75, 69, 61, 77, 47, 40, 41, 46, 58, 76, 72, 52, 57, 48, 64, 67, 54, 79, 65, 45, 50, 66, 68, 55, 43, 44, 59, 53, 71, 56], [49, 78, 68, 53, 60, 79, 52, 65, 75, 77, 50, 56, 51, 57, 48, 46, 43, 76, 63, 70, 59, 55, 73, 61, 42, 74, 66, 47, 41, 40, 44, 54, 45, 69, 67, 58, 71, 72, 62, 64], [62, 79, 58, 56, 63, 59, 70, 53, 49, 72, 68, 69, 73, 71, 66, 40, 44, 51, 57, 61, 67, 43, 42, 64, 52, 77, 75, 47, 41, 65, 50, 78, 54, 48, 76, 55, 46, 45, 60, 74], [74, 63, 64, 53, 54, 59, 71, 50, 57, 46, 72, 65, 76, 42, 47, 60, 69, 45, 61, 43, 51, 68, 70, 56, 52, 55, 73, 58, 66, 40, 75, 78, 41, 67, 49, 79, 48, 77, 62, 44], [57, 47, 64, 71, 55, 44, 65, 56, 53, 45, 77, 75, 63, 42, 60, 72, 61, 59, 43, 67, 54, 73, 76, 46, 41, 74, 66, 50, 49, 78, 79, 58, 51, 70, 40, 48, 52, 62, 69, 68], [76, 53, 69, 54, 41, 50, 55, 62, 66, 51, 57, 40, 61, 64, 56, 67, 49, 71, 48, 42, 72, 47, 65, 70, 60, 79, 68, 59, 46, 45, 75, 74, 77, 78, 52, 58, 63, 73, 43, 44], [61, 78, 45, 65, 57, 56, 47, 62, 40, 70, 64, 55, 72, 42, 60, 76, 67, 48, 71, 50, 53, 44, 46, 51, 66, 68, 63, 58, 41, 43, 69, 77, 74, 54, 73, 49, 52, 59, 79, 75], [40, 73, 65, 64, 55, 50, 43, 49, 61, 70, 51, 59, 52, 71, 42, 78, 77, 58, 68, 44, 48, 66, 53, 46, 54, 67, 56, 62, 79, 60, 63, 76, 72, 47, 74, 75, 57, 69, 45, 41], [79, 58, 44, 63, 48, 46, 70, 43, 45, 69, 56, 74, 78, 52, 71, 40, 66, 47, 57, 49, 41, 75, 64, 61, 60, 42, 62, 51, 53, 54, 59, 68, 65, 76, 77, 50, 73, 55, 72, 67], [73, 50, 49, 75, 57, 72, 40, 54, 58, 45, 43, 62, 51, 41, 48, 69, 64, 53, 65, 47, 59, 68, 63, 71, 44, 74, 52, 67, 66, 60, 56, 70, 42, 78, 79, 46, 76, 61, 55, 77], [68, 55, 53, 74, 78, 40, 41, 58, 46, 52, 60, 70, 44, 64, 57, 56, 62, 65, 54, 50, 73, 79, 77, 61, 49, 72, 69, 75, 67, 51, 71, 48, 42, 63, 59, 45, 76, 43, 47, 66], [53, 41, 42, 48, 69, 78, 68, 63, 46, 67, 75, 74, 54, 49, 76, 58, 62, 55, 52, 47, 79, 64, 45, 57, 56, 77, 73, 70, 60, 50, 51, 59, 61, 40, 72, 71, 65, 44, 66, 43], [54, 67, 49, 45, 51, 75, 77, 57, 62, 60, 71, 47, 64, 63, 48, 43, 66, 41, 55, 73, 65, 40, 74, 79, 52, 42, 53, 58, 59, 68, 72, 50, 56, 46, 78, 69, 70, 76, 44, 61], [66, 50, 46, 61, 43, 63, 48, 78, 58, 49, 68, 51, 72, 76, 42, 60, 77, 55, 40, 75, 74, 57, 54, 73, 53, 44, 67, 64, 69, 45, 65, 47, 62, 56, 79, 70, 59, 71, 52, 41], [40, 79, 52, 51, 48, 54, 42, 45, 56, 58, 65, 69, 50, 66, 49, 68, 78, 73, 55, 41, 71, 43, 74, 57, 76, 62, 75, 64, 77, 44, 72, 70, 46, 60, 67, 63, 61, 53, 59, 47], [47, 70, 53, 72, 79, 43, 67, 57, 40, 74, 44, 73, 58, 64, 42, 51, 49, 56, 60, 65, 63, 45, 41, 69, 78, 71, 62, 52, 48, 66, 61, 68, 54, 46, 59, 77, 55, 50, 76, 75], [55, 43, 58, 77, 78, 48, 61, 46, 47, 50, 42, 54, 72, 79, 63, 59, 53, 52, 60, 73, 45, 62, 49, 71, 40, 74, 64, 66, 69, 57, 70, 68, 65, 76, 44, 41, 51, 75, 56, 67], [60, 49, 70, 62, 79, 74, 44, 45, 50, 61, 66, 43, 57, 78, 65, 52, 40, 67, 47, 59, 41, 54, 76, 56, 48, 75, 58, 71, 55, 64, 46, 72, 69, 73, 63, 77, 53, 51, 42, 68], [42, 54, 68, 75, 57, 49, 79, 77, 55, 56, 69, 43, 41, 58, 47, 64, 73, 51, 48, 78, 44, 63, 61, 45, 62, 40, 60, 74, 65, 71, 67, 70, 52, 46, 50, 76, 72, 59, 53, 66], [62, 63, 72, 52, 41, 75, 45, 69, 55, 64, 77, 43, 71, 70, 49, 78, 54, 74, 46, 60, 40, 56, 58, 59, 73, 53, 47, 51, 50, 76, 42, 57, 65, 66, 67, 79, 44, 48, 68, 61], [45, 77, 71, 67, 76, 61, 49, 73, 53, 65, 42, 63, 79, 46, 52, 50, 59, 74, 75, 48, 60, 54, 41, 78, 69, 72, 51, 40, 70, 57, 43, 62, 58, 47, 68, 66, 64, 55, 44, 56], [62, 67, 65, 60, 68, 78, 76, 45, 71, 61, 74, 52, 44, 42, 70, 57, 43, 58, 59, 55, 63, 53, 56, 48, 75, 46, 72, 50, 66, 69, 79, 51, 47, 41, 49, 77, 54, 64, 73, 40], [72, 74, 53, 60, 40, 68, 57, 52, 76, 70, 49, 69, 50, 45, 61, 58, 51, 65, 56, 41, 77, 59, 75, 62, 66, 79, 54, 44, 78, 71, 73, 64, 63, 43, 48, 46, 67, 55, 42, 47], [68, 55, 66, 64, 59, 58, 40, 42, 70, 67, 78, 47, 53, 41, 71, 65, 63, 76, 52, 74, 51, 75, 62, 44, 46, 49, 56, 43, 79, 57, 50, 72, 69, 73, 54, 48, 60, 45, 61, 77], [46, 64, 79, 74, 63, 61, 66, 77, 50, 56, 57, 49, 53, 60, 71, 47, 40, 41, 54, 70, 69, 45, 52, 62, 78, 68, 51, 48, 75, 42, 43, 76, 67, 59, 58, 55, 73, 65, 72, 44], [33, 13, 16, 34, 6, 32, 37, 27, 14, 20, 26, 25, 29, 17, 30, 31, 11, 39, 24, 19, 2, 0, 5, 22, 23, 21, 1, 8, 28, 12, 36, 9, 4, 10, 38, 7, 35, 15, 3, 18], [36, 15, 0, 6, 31, 19, 28, 38, 22, 26, 2, 21, 29, 12, 10, 34, 14, 8, 11, 7, 17, 35, 39, 1, 30, 9, 4, 16, 13, 3, 27, 18, 20, 25, 32, 23, 37, 33, 24, 5], [7, 27, 24, 23, 25, 10, 28, 26, 17, 18, 2, 29, 8, 22, 11, 3, 4, 35, 37, 1, 16, 19, 20, 38, 36, 32, 14, 34, 15, 31, 12, 9, 21, 0, 39, 6, 13, 5, 33, 30], [37, 10, 32, 28, 22, 15, 0, 39, 3, 16, 18, 6, 25, 5, 9, 4, 27, 7, 12, 19, 2, 24, 30, 20, 8, 38, 17, 11, 1, 34, 21, 29, 35, 26, 23, 31, 36, 33, 13, 14], [18, 31, 7, 25, 38, 19, 22, 30, 37, 23, 35, 6, 14, 3, 5, 27, 15, 17, 8, 11, 10, 26, 32, 33, 39, 36, 1, 0, 2, 24, 34, 12, 16, 29, 4, 13, 9, 20, 28, 21], [27, 16, 12, 0, 22, 17, 30, 29, 15, 19, 36, 1, 2, 3, 24, 20, 39, 32, 5, 23, 37, 14, 28, 11, 35, 26, 10, 4, 21, 13, 7, 18, 34, 31, 25, 33, 9, 6, 38, 8], [8, 37, 26, 17, 13, 29, 16, 27, 0, 35, 19, 31, 24, 4, 38, 3, 10, 23, 18, 7, 11, 15, 28, 6, 2, 1, 30, 20, 39, 34, 32, 36, 5, 22, 33, 9, 12, 14, 21, 25], [10, 21, 24, 1, 14, 2, 25, 31, 28, 6, 18, 38, 22, 13, 30, 29, 27, 19, 9, 37, 11, 15, 39, 20, 33, 23, 34, 0, 3, 5, 26, 36, 16, 4, 8, 12, 32, 7, 35, 17], [11, 35, 36, 28, 27, 21, 22, 6, 4, 13, 2, 15, 9, 1, 37, 33, 16, 29, 26, 30, 38, 12, 5, 24, 20, 23, 19, 8, 32, 7, 18, 31, 14, 0, 17, 25, 39, 34, 3, 10], [25, 36, 15, 37, 9, 21, 38, 13, 5, 34, 31, 2, 16, 35, 6, 12, 17, 24, 3, 29, 1, 19, 14, 7, 26, 0, 8, 33, 20, 30, 10, 4, 28, 32, 18, 39, 23, 27, 22, 11], [36, 37, 33, 3, 23, 15, 17, 1, 31, 11, 10, 39, 38, 29, 4, 22, 27, 8, 12, 34, 25, 2, 16, 5, 21, 9, 14, 19, 18, 26, 24, 20, 0, 6, 7, 13, 28, 32, 35, 30], [6, 3, 7, 36, 16, 35, 22, 0, 21, 4, 27, 26, 19, 8, 24, 13, 31, 23, 37, 18, 29, 39, 17, 9, 30, 14, 28, 38, 15, 20, 25, 11, 34, 5, 33, 12, 32, 1, 2, 10], [27, 21, 11, 1, 7, 15, 6, 22, 8, 32, 3, 5, 31, 23, 14, 39, 36, 2, 28, 16, 33, 24, 13, 38, 4, 30, 35, 26, 18, 25, 17, 9, 19, 10, 12, 0, 20, 37, 29, 34], [4, 2, 16, 18, 7, 28, 25, 37, 34, 30, 22, 33, 21, 9, 6, 11, 27, 0, 5, 1, 23, 13, 32, 24, 31, 10, 17, 19, 36, 20, 3, 38, 8, 15, 14, 29, 39, 35, 26, 12], [34, 33, 4, 11, 26, 6, 7, 15, 0, 29, 36, 28, 18, 9, 39, 27, 35, 13, 1, 38, 8, 20, 14, 24, 17, 31, 37, 32, 21, 25, 12, 23, 3, 10, 22, 16, 2, 5, 30, 19], [11, 4, 27, 8, 7, 38, 22, 39, 14, 1, 31, 28, 6, 19, 10, 25, 9, 29, 36, 15, 21, 35, 18, 5, 24, 16, 3, 2, 34, 23, 0, 17, 32, 12, 20, 30, 13, 33, 26, 37], [22, 31, 26, 32, 34, 36, 37, 18, 19, 11, 39, 15, 24, 14, 23, 28, 9, 3, 8, 0, 21, 6, 4, 17, 27, 20, 7, 35, 2, 13, 29, 25, 33, 30, 10, 12, 1, 16, 38, 5], [23, 30, 27, 8, 21, 34, 12, 24, 3, 39, 20, 7, 37, 17, 4, 15, 9, 25, 19, 28, 31, 22, 29, 38, 18, 10, 1, 33, 11, 16, 2, 14, 36, 5, 13, 6, 35, 26, 0, 32], [4, 23, 39, 28, 19, 35, 31, 29, 14, 5, 34, 10, 2, 22, 32, 18, 17, 6, 38, 12, 20, 3, 27, 0, 1, 36, 11, 24, 26, 15, 9, 33, 8, 25, 16, 7, 37, 21, 13, 30], [32, 35, 3, 24, 6, 30, 18, 27, 29, 2, 20, 9, 13, 8, 4, 39, 5, 37, 11, 34, 10, 36, 31, 19, 15, 25, 38, 33, 7, 21, 23, 0, 22, 12, 28, 14, 16, 17, 1, 26], [37, 14, 4, 5, 19, 0, 20, 7, 6, 11, 29, 2, 38, 31, 12, 39, 32, 25, 35, 13, 22, 30, 26, 1, 10, 27, 15, 21, 33, 36, 23, 16, 34, 24, 18, 9, 8, 17, 28, 3], [3, 25, 21, 13, 38, 37, 39, 0, 15, 34, 30, 14, 18, 26, 10, 19, 8, 24, 31, 2, 16, 5, 12, 32, 6, 11, 7, 22, 20, 27, 9, 28, 23, 35, 4, 17, 33, 29, 1, 36], [15, 1, 14, 4, 12, 34, 25, 3, 29, 33, 39, 11, 32, 0, 2, 9, 31, 21, 36, 10, 26, 23, 30, 20, 8, 37, 7, 5, 6, 38, 28, 13, 18, 19, 27, 17, 22, 35, 16, 24], [32, 3, 16, 20, 22, 13, 10, 8, 30, 17, 11, 31, 2, 6, 36, 28, 9, 35, 38, 23, 1, 21, 14, 19, 7, 33, 39, 25, 24, 27, 29, 34, 37, 15, 4, 0, 5, 26, 18, 12], [14, 26, 28, 9, 18, 3, 1, 13, 32, 39, 12, 36, 23, 10, 4, 35, 24, 33, 34, 5, 37, 25, 7, 19, 0, 21, 2, 22, 31, 29, 6, 8, 17, 16, 15, 38, 30, 27, 11, 20], [39, 32, 31, 18, 11, 15, 4, 7, 23, 26, 19, 37, 20, 29, 2, 24, 16, 25, 33, 17, 13, 30, 1, 8, 36, 34, 22, 9, 35, 38, 12, 21, 28, 0, 5, 3, 6, 27, 14, 10], [28, 19, 27, 16, 12, 36, 11, 10, 38, 32, 14, 29, 0, 20, 3, 23, 6, 35, 34, 22, 17, 39, 8, 37, 4, 1, 31, 26, 15, 7, 24, 33, 2, 9, 21, 5, 13, 30, 18, 25], [24, 8, 26, 7, 18, 31, 36, 9, 22, 35, 29, 14, 1, 23, 37, 39, 4, 20, 34, 6, 0, 15, 12, 21, 3, 27, 10, 17, 25, 16, 38, 33, 11, 13, 32, 28, 19, 30, 2, 5], [11, 8, 32, 17, 36, 29, 33, 14, 19, 1, 31, 9, 21, 34, 0, 30, 7, 18, 38, 6, 25, 16, 28, 23, 27, 22, 15, 26, 5, 37, 2, 10, 35, 4, 20, 3, 13, 39, 12, 24], [1, 11, 25, 33, 17, 13, 30, 0, 23, 3, 36, 18, 16, 15, 14, 38, 29, 2, 4, 24, 8, 37, 27, 26, 22, 21, 28, 7, 39, 32, 34, 12, 5, 19, 31, 10, 35, 6, 9, 20], [4, 29, 16, 25, 30, 0, 12, 17, 9, 31, 1, 18, 22, 15, 2, 10, 36, 5, 35, 20, 33, 6, 32, 7, 26, 3, 14, 38, 28, 27, 19, 21, 8, 11, 23, 39, 37, 34, 13, 24], [17, 37, 28, 22, 34, 5, 8, 30, 7, 15, 0, 38, 2, 12, 35, 32, 26, 20, 6, 11, 31, 3, 9, 4, 27, 29, 10, 13, 19, 1, 18, 21, 16, 39, 24, 36, 25, 23, 33, 14], [9, 7, 35, 18, 20, 3, 23, 34, 15, 29, 37, 38, 4, 28, 6, 8, 39, 10, 24, 2, 36, 16, 14, 1, 11, 32, 33, 30, 22, 25, 5, 31, 27, 13, 21, 17, 12, 0, 26, 19], [7, 12, 24, 15, 1, 18, 6, 36, 17, 39, 8, 21, 3, 20, 23, 35, 0, 16, 9, 11, 37, 10, 22, 30, 33, 13, 14, 2, 29, 5, 25, 28, 19, 34, 27, 4, 26, 31, 38, 32], [35, 15, 32, 0, 1, 22, 9, 5, 20, 8, 27, 19, 26, 25, 37, 31, 18, 28, 23, 16, 24, 39, 38, 4, 6, 36, 12, 17, 30, 21, 2, 34, 29, 13, 10, 14, 3, 33, 11, 7], [37, 31, 7, 32, 26, 2, 8, 35, 22, 3, 19, 25, 23, 21, 30, 27, 28, 24, 29, 5, 17, 34, 18, 1, 0, 6, 15, 20, 10, 16, 39, 4, 36, 38, 9, 12, 11, 14, 33, 13], [30, 4, 12, 36, 14, 34, 9, 26, 39, 5, 37, 35, 0, 22, 20, 8, 19, 27, 29, 28, 31, 21, 10, 7, 16, 18, 38, 25, 23, 11, 3, 15, 1, 17, 32, 2, 13, 24, 6, 33], [4, 38, 26, 25, 15, 19, 29, 6, 0, 10, 39, 14, 13, 21, 36, 5, 24, 11, 27, 17, 12, 9, 7, 22, 2, 1, 30, 32, 37, 3, 35, 31, 16, 33, 23, 34, 18, 28, 20, 8], [19, 3, 35, 11, 21, 16, 32, 7, 5, 27, 18, 20, 14, 30, 34, 23, 36, 13, 33, 29, 2, 0, 39, 12, 37, 28, 25, 9, 31, 17, 24, 8, 22, 26, 6, 15, 10, 38, 1, 4], [1, 5, 0, 13, 3, 8, 11, 27, 36, 18, 12, 35, 39, 26, 25, 7, 34, 17, 16, 20, 23, 14, 30, 37, 24, 28, 9, 29, 15, 19, 32, 22, 21, 2, 38, 10, 6, 4, 31, 33]], [[59, 53, 58, 57, 64, 79, 61, 42, 43, 48, 51, 76, 72, 75, 67, 66, 47, 45, 44, 40, 46, 50, 77, 41, 69, 78, 74, 68, 60, 63, 49, 73, 55, 65, 71, 62, 70, 52, 56, 54], [48, 43, 56, 74, 77, 59, 68, 49, 70, 41, 79, 78, 46, 55, 64, 63, 42, 51, 50, 47, 75, 58, 67, 40, 76, 71, 73, 61, 62, 66, 44, 69, 52, 60, 72, 54, 57, 53, 45, 65], [40, 56, 71, 68, 60, 73, 61, 50, 64, 69, 76, 79, 52, 41, 46, 77, 65, 75, 72, 54, 47, 63, 43, 74, 48, 49, 59, 44, 57, 70, 55, 53, 58, 42, 78, 66, 51, 67, 45, 62], [40, 64, 54, 42, 79, 52, 62, 49, 45, 70, 53, 78, 43, 63, 61, 77, 66, 41, 72, 65, 76, 46, 69, 50, 75, 56, 55, 48, 73, 59, 44, 67, 58, 68, 60, 74, 51, 47, 71, 57], [69, 58, 47, 41, 77, 60, 43, 44, 55, 65, 54, 42, 70, 71, 56, 63, 78, 64, 48, 79, 72, 57, 50, 67, 51, 74, 49, 59, 53, 45, 62, 68, 75, 46, 61, 73, 52, 66, 40, 76], [74, 54, 50, 70, 76, 57, 72, 53, 77, 65, 63, 44, 52, 75, 43, 64, 59, 51, 42, 55, 48, 78, 45, 61, 46, 68, 40, 49, 41, 66, 60, 73, 69, 79, 67, 62, 47, 58, 56, 71], [48, 62, 56, 71, 67, 72, 46, 49, 41, 42, 50, 78, 59, 43, 70, 66, 65, 55, 47, 73, 45, 61, 64, 53, 54, 63, 76, 44, 40, 79, 68, 69, 52, 75, 51, 77, 60, 74, 57, 58], [43, 66, 61, 56, 53, 57, 62, 49, 58, 52, 44, 47, 74, 59, 45, 71, 72, 60, 68, 77, 78, 40, 48, 55, 76, 63, 50, 75, 70, 46, 64, 41, 79, 65, 51, 73, 69, 67, 54, 42], [58, 64, 52, 61, 77, 72, 63, 66, 65, 68, 79, 44, 54, 78, 49, 51, 41, 45, 43, 59, 69, 53, 46, 67, 50, 70, 73, 48, 55, 74, 62, 56, 40, 71, 75, 47, 42, 60, 57, 76], [45, 52, 56, 61, 55, 44, 49, 48, 54, 53, 76, 59, 69, 67, 43, 68, 71, 62, 77, 63, 57, 51, 46, 64, 74, 73, 75, 70, 78, 65, 42, 40, 41, 47, 72, 79, 50, 58, 66, 60], [63, 48, 42, 41, 59, 47, 62, 64, 45, 73, 44, 57, 70, 68, 72, 56, 61, 76, 69, 79, 51, 67, 46, 77, 66, 75, 49, 60, 55, 50, 43, 78, 58, 54, 40, 74, 52, 65, 71, 53], [54, 55, 49, 78, 59, 62, 65, 50, 76, 41, 51, 44, 58, 67, 45, 48, 61, 43, 40, 42, 70, 71, 72, 53, 60, 68, 66, 77, 79, 52, 56, 57, 69, 47, 63, 73, 75, 46, 64, 74], [49, 44, 53, 50, 66, 47, 72, 56, 73, 62, 41, 68, 43, 69, 55, 65, 71, 40, 74, 76, 45, 52, 42, 77, 46, 79, 54, 60, 67, 78, 70, 48, 61, 59, 51, 75, 63, 57, 64, 58], [58, 78, 59, 75, 79, 44, 68, 57, 67, 51, 71, 56, 60, 49, 52, 53, 64, 69, 42, 65, 76, 63, 40, 48, 70, 55, 46, 41, 47, 50, 77, 72, 43, 73, 74, 45, 66, 62, 54, 61], [76, 51, 46, 78, 77, 40, 65, 55, 63, 53, 67, 57, 74, 60, 73, 47, 64, 42, 43, 75, 62, 66, 68, 59, 79, 54, 72, 50, 71, 44, 61, 41, 70, 58, 56, 48, 49, 45, 52, 69], [59, 55, 44, 58, 45, 49, 43, 53, 72, 48, 42, 54, 74, 62, 70, 47, 73, 69, 68, 61, 77, 75, 50, 76, 56, 40, 46, 57, 41, 67, 51, 78, 71, 66, 63, 52, 64, 65, 60, 79], [65, 67, 76, 63, 66, 46, 79, 64, 71, 52, 43, 54, 59, 45, 51, 42, 57, 68, 58, 75, 53, 60, 47, 44, 70, 56, 49, 78, 48, 73, 74, 41, 55, 72, 40, 61, 77, 62, 50, 69], [48, 74, 41, 72, 45, 61, 51, 68, 73, 50, 54, 63, 58, 43, 49, 76, 64, 75, 65, 62, 47, 79, 52, 69, 56, 44, 77, 42, 67, 46, 71, 40, 55, 60, 66, 59, 57, 70, 53, 78], [70, 61, 54, 71, 56, 79, 62, 66, 58, 69, 63, 68, 75, 64, 77, 55, 78, 43, 42, 50, 46, 67, 53, 47, 40, 65, 41, 72, 60, 52, 51, 76, 74, 73, 45, 49, 59, 44, 57, 48], [61, 72, 40, 69, 46, 76, 73, 54, 71, 66, 65, 53, 45, 58, 55, 49, 68, 63, 64, 67, 48, 60, 79, 47, 74, 44, 70, 75, 43, 51, 78, 62, 77, 59, 57, 42, 50, 41, 52, 56], [40, 53, 62, 63, 72, 43, 76, 73, 79, 59, 52, 57, 50, 46, 71, 64, 58, 45, 66, 51, 67, 70, 47, 44, 55, 78, 49, 54, 69, 74, 48, 56, 41, 65, 77, 61, 68, 42, 75, 60], [54, 78, 79, 77, 71, 59, 46, 43, 55, 48, 62, 52, 74, 45, 51, 49, 57, 68, 41, 56, 66, 53, 60, 72, 63, 65, 75, 44, 73, 67, 69, 40, 42, 61, 50, 58, 64, 70, 47, 76], [69, 76, 48, 41, 49, 54, 56, 72, 77, 71, 47, 74, 59, 73, 79, 44, 62, 78, 68, 64, 43, 52, 75, 51, 53, 70, 46, 55, 45, 67, 40, 65, 42, 60, 66, 63, 58, 57, 61, 50], [62, 71, 58, 75, 50, 44, 47, 59, 54, 56, 67, 52, 42, 40, 77, 74, 61, 51, 72, 79, 66, 43, 55, 46, 69, 68, 57, 73, 45, 64, 76, 60, 65, 53, 41, 78, 63, 70, 49, 48], [76, 73, 59, 62, 68, 65, 54, 46, 64, 71, 41, 52, 67, 40, 51, 75, 70, 42, 47, 58, 50, 69, 63, 72, 43, 61, 57, 79, 53, 56, 55, 45, 78, 48, 77, 44, 66, 74, 60, 49], [53, 65, 66, 75, 57, 70, 44, 67, 55, 74, 47, 77, 68, 79, 45, 72, 51, 61, 63, 60, 58, 73, 56, 71, 59, 78, 41, 49, 76, 69, 40, 42, 52, 62, 43, 46, 64, 54, 48, 50], [42, 55, 63, 41, 56, 49, 64, 45, 50, 51, 65, 58, 61, 68, 53, 44, 79, 67, 62, 75, 48, 54, 47, 72, 66, 59, 73, 43, 70, 40, 71, 69, 76, 52, 77, 74, 78, 57, 60, 46], [48, 79, 53, 69, 74, 70, 63, 42, 46, 51, 41, 61, 65, 64, 72, 54, 47, 40, 62, 49, 75, 58, 59, 60, 67, 57, 76, 44, 55, 45, 71, 78, 50, 68, 77, 52, 73, 66, 43, 56], [50, 43, 42, 58, 41, 64, 66, 56, 65, 74, 44, 73, 62, 47, 70, 68, 76, 51, 53, 63, 72, 67, 79, 77, 49, 75, 57, 59, 45, 40, 78, 61, 52, 55, 54, 71, 69, 46, 48, 60], [62, 47, 71, 78, 63, 58, 64, 40, 75, 50, 48, 65, 42, 61, 77, 74, 72, 55, 57, 53, 41, 52, 46, 70, 44, 67, 59, 60, 56, 69, 79, 49, 76, 43, 45, 73, 66, 54, 68, 51], [77, 53, 44, 57, 58, 71, 79, 60, 42, 51, 76, 50, 45, 47, 75, 78, 67, 73, 46, 72, 61, 68, 70, 52, 69, 64, 65, 62, 55, 49, 63, 66, 41, 43, 40, 54, 59, 48, 56, 74], [65, 78, 71, 64, 58, 74, 60, 61, 69, 40, 53, 54, 57, 76, 56, 55, 70, 44, 49, 73, 59, 47, 72, 66, 45, 62, 67, 46, 79, 77, 51, 43, 75, 42, 63, 50, 48, 68, 41, 52], [58, 66, 74, 55, 56, 47, 40, 70, 51, 52, 67, 60, 68, 49, 43, 72, 62, 57, 41, 73, 46, 48, 71, 44, 50, 76, 79, 63, 65, 42, 78, 59, 77, 61, 54, 64, 69, 53, 75, 45], [59, 68, 50, 61, 74, 43, 48, 40, 57, 64, 67, 56, 76, 62, 75, 44, 79, 60, 71, 72, 78, 66, 77, 63, 58, 51, 49, 41, 53, 73, 54, 55, 52, 70, 45, 65, 69, 42, 46, 47], [59, 72, 54, 60, 49, 74, 67, 44, 65, 73, 47, 56, 41, 75, 61, 42, 79, 52, 62, 78, 40, 68, 55, 63, 71, 43, 45, 48, 76, 58, 50, 69, 53, 77, 57, 66, 51, 46, 64, 70], [56, 76, 73, 59, 54, 44, 52, 75, 74, 60, 47, 79, 41, 65, 40, 43, 57, 69, 72, 58, 66, 78, 62, 45, 77, 42, 48, 55, 70, 67, 49, 53, 64, 46, 51, 68, 50, 61, 63, 71], [54, 49, 74, 46, 48, 42, 61, 56, 65, 47, 40, 68, 66, 71, 63, 72, 44, 60, 79, 53, 43, 78, 41, 51, 73, 59, 76, 67, 45, 62, 75, 69, 64, 50, 77, 70, 55, 57, 58, 52], [69, 67, 42, 45, 52, 66, 41, 57, 71, 46, 63, 77, 68, 48, 70, 53, 64, 72, 47, 76, 51, 49, 79, 55, 58, 61, 54, 60, 50, 62, 40, 44, 56, 65, 43, 78, 59, 73, 74, 75], [53, 43, 50, 78, 48, 44, 75, 47, 54, 79, 51, 67, 52, 72, 46, 60, 70, 77, 61, 71, 64, 74, 66, 62, 45, 73, 55, 40, 41, 65, 59, 68, 57, 49, 56, 63, 76, 42, 69, 58], [77, 43, 46, 56, 63, 48, 55, 76, 42, 47, 54, 51, 40, 44, 59, 41, 57, 64, 60, 69, 70, 65, 72, 73, 52, 53, 50, 68, 45, 58, 61, 75, 79, 78, 67, 49, 71, 62, 74, 66], [22, 31, 35, 16, 4, 14, 37, 32, 2, 24, 11, 12, 33, 36, 8, 29, 21, 18, 9, 0, 26, 13, 38, 10, 7, 6, 20, 30, 5, 15, 3, 17, 28, 34, 27, 19, 1, 23, 25, 39], [35, 27, 10, 30, 15, 39, 37, 26, 8, 13, 29, 11, 7, 21, 4, 6, 36, 19, 18, 9, 20, 34, 12, 24, 17, 32, 28, 23, 14, 22, 3, 38, 5, 0, 16, 1, 2, 31, 25, 33], [33, 8, 31, 39, 11, 21, 6, 9, 23, 17, 25, 14, 16, 5, 10, 20, 38, 26, 12, 2, 0, 7, 36, 3, 35, 34, 32, 29, 22, 30, 1, 27, 24, 4, 15, 28, 13, 18, 19, 37], [20, 1, 23, 19, 35, 31, 9, 28, 29, 39, 38, 8, 22, 12, 37, 25, 6, 7, 10, 33, 26, 17, 36, 2, 15, 30, 11, 3, 0, 18, 21, 24, 13, 27, 5, 32, 34, 14, 4, 16], [25, 18, 8, 0, 17, 15, 3, 21, 28, 11, 36, 9, 13, 26, 2, 37, 33, 30, 6, 27, 19, 10, 24, 31, 38, 4, 1, 35, 23, 16, 39, 32, 20, 22, 12, 5, 34, 14, 7, 29], [18, 33, 16, 3, 11, 4, 13, 27, 17, 10, 8, 20, 0, 25, 1, 19, 7, 34, 14, 29, 23, 5, 35, 2, 37, 15, 36, 21, 26, 12, 31, 6, 22, 24, 38, 30, 39, 28, 9, 32], [37, 34, 25, 33, 8, 4, 12, 3, 6, 35, 36, 2, 27, 10, 30, 31, 16, 22, 39, 23, 28, 0, 20, 21, 24, 26, 19, 11, 38, 14, 13, 32, 18, 17, 9, 29, 7, 5, 1, 15], [26, 36, 8, 30, 39, 23, 34, 5, 29, 32, 33, 3, 16, 24, 18, 19, 35, 27, 31, 21, 37, 7, 20, 11, 10, 14, 12, 4, 0, 1, 38, 25, 6, 15, 28, 2, 17, 9, 13, 22], [20, 23, 5, 4, 0, 15, 38, 35, 39, 13, 12, 19, 25, 17, 34, 32, 16, 30, 11, 6, 14, 28, 21, 22, 37, 3, 33, 7, 31, 29, 9, 24, 18, 36, 2, 8, 27, 10, 26, 1], [5, 2, 15, 9, 29, 31, 33, 10, 17, 28, 6, 3, 23, 35, 16, 0, 24, 39, 7, 36, 34, 19, 37, 25, 26, 14, 13, 20, 18, 4, 1, 11, 27, 38, 8, 30, 21, 22, 32, 12], [19, 3, 16, 26, 7, 4, 35, 39, 29, 9, 18, 32, 8, 20, 22, 13, 38, 12, 28, 36, 23, 15, 0, 25, 37, 33, 11, 2, 30, 27, 17, 5, 34, 24, 21, 31, 10, 6, 1, 14], [22, 9, 0, 39, 19, 4, 3, 34, 38, 31, 13, 16, 12, 8, 36, 33, 18, 27, 11, 7, 32, 15, 23, 30, 2, 26, 17, 37, 5, 35, 14, 10, 25, 20, 29, 6, 1, 28, 21, 24], [21, 7, 2, 19, 3, 6, 16, 31, 39, 25, 37, 13, 32, 35, 20, 28, 22, 12, 9, 14, 1, 17, 15, 0, 27, 4, 26, 36, 38, 33, 8, 34, 29, 18, 5, 11, 23, 24, 30, 10], [33, 28, 32, 9, 37, 25, 14, 24, 18, 29, 21, 6, 34, 16, 15, 8, 13, 5, 7, 26, 12, 11, 3, 27, 20, 17, 39, 31, 38, 23, 0, 1, 4, 30, 10, 35, 22, 19, 2, 36], [21, 19, 13, 32, 23, 28, 36, 22, 0, 30, 39, 24, 9, 10, 1, 20, 29, 11, 18, 17, 26, 35, 2, 14, 7, 3, 25, 12, 8, 33, 27, 5, 38, 16, 37, 4, 15, 31, 6, 34], [35, 38, 33, 19, 30, 25, 39, 17, 15, 2, 11, 7, 5, 3, 21, 23, 36, 12, 9, 20, 31, 29, 1, 6, 4, 28, 32, 8, 37, 10, 13, 16, 27, 0, 34, 22, 24, 14, 26, 18], [4, 21, 2, 3, 37, 18, 29, 34, 8, 15, 22, 23, 33, 5, 35, 10, 26, 36, 24, 12, 38, 7, 30, 31, 27, 16, 6, 17, 28, 25, 13, 32, 1, 19, 14, 0, 11, 9, 20, 39], [25, 19, 32, 20, 3, 6, 13, 22, 0, 17, 4, 8, 1, 35, 23, 16, 11, 18, 7, 24, 26, 36, 5, 21, 29, 34, 30, 31, 28, 39, 15, 33, 38, 27, 10, 12, 2, 14, 9, 37], [17, 8, 30, 11, 32, 10, 18, 16, 24, 38, 27, 1, 33, 39, 7, 36, 3, 29, 22, 12, 25, 0, 4, 37, 14, 19, 2, 6, 13, 34, 31, 21, 20, 26, 9, 28, 5, 15, 23, 35], [16, 37, 5, 24, 19, 6, 23, 8, 35, 14, 1, 28, 18, 15, 39, 0, 21, 9, 26, 2, 10, 7, 12, 30, 31, 20, 4, 33, 22, 13, 38, 11, 27, 29, 3, 17, 34, 32, 36, 25], [20, 15, 9, 11, 35, 26, 30, 4, 39, 3, 13, 29, 25, 21, 16, 24, 33, 6, 19, 31, 32, 14, 37, 17, 28, 10, 12, 2, 27, 38, 18, 7, 34, 36, 22, 1, 23, 8, 5, 0], [6, 26, 3, 5, 15, 23, 31, 14, 19, 32, 39, 1, 2, 20, 9, 8, 12, 28, 33, 25, 4, 17, 29, 30, 21, 37, 24, 13, 10, 0, 11, 38, 22, 35, 34, 7, 36, 18, 16, 27], [5, 36, 18, 3, 6, 13, 31, 22, 30, 26, 1, 2, 9, 29, 17, 15, 35, 38, 20, 34, 33, 10, 23, 11, 24, 19, 25, 21, 12, 39, 27, 14, 7, 16, 8, 4, 28, 37, 32, 0], [6, 39, 28, 35, 4, 13, 10, 14, 25, 19, 37, 11, 22, 9, 17, 24, 20, 5, 30, 18, 0, 38, 8, 23, 34, 21, 36, 26, 16, 33, 12, 31, 1, 15, 7, 2, 32, 29, 3, 27], [5, 38, 25, 4, 39, 16, 7, 29, 1, 37, 19, 32, 36, 20, 27, 34, 22, 3, 24, 6, 31, 15, 17, 8, 28, 9, 26, 13, 14, 2, 11, 21, 23, 30, 33, 0, 18, 12, 10, 35], [16, 14, 33, 15, 9, 39, 17, 26, 8, 37, 10, 1, 11, 6, 4, 19, 32, 3, 18, 0, 23, 30, 5, 29, 2, 12, 34, 13, 28, 7, 22, 35, 38, 27, 36, 25, 24, 21, 20, 31], [30, 6, 19, 11, 31, 15, 27, 9, 37, 2, 24, 23, 26, 13, 29, 7, 20, 25, 0, 32, 18, 16, 1, 33, 10, 22, 34, 28, 21, 14, 3, 12, 39, 35, 4, 8, 36, 17, 5, 38], [23, 18, 2, 10, 28, 17, 24, 14, 20, 35, 5, 32, 21, 9, 37, 11, 22, 3, 27, 4, 31, 26, 39, 15, 19, 8, 36, 1, 33, 7, 25, 38, 0, 29, 13, 12, 16, 34, 6, 30], [33, 27, 16, 22, 8, 35, 30, 14, 17, 38, 18, 24, 19, 12, 15, 20, 5, 3, 28, 2, 21, 31, 29, 39, 0, 23, 32, 4, 11, 37, 6, 9, 7, 13, 36, 10, 26, 1, 34, 25], [13, 28, 2, 8, 16, 30, 22, 3, 18, 14, 36, 15, 39, 23, 38, 35, 19, 21, 5, 20, 26, 27, 33, 0, 1, 4, 7, 25, 6, 9, 11, 34, 31, 29, 10, 32, 12, 17, 24, 37], [29, 18, 1, 30, 8, 12, 13, 14, 6, 27, 25, 7, 2, 24, 15, 5, 39, 19, 20, 33, 26, 22, 23, 11, 3, 38, 9, 37, 28, 31, 16, 34, 0, 17, 10, 35, 36, 32, 21, 4], [20, 14, 6, 0, 21, 26, 39, 27, 38, 17, 22, 29, 7, 8, 18, 30, 35, 33, 4, 31, 32, 12, 15, 37, 36, 24, 2, 11, 25, 23, 5, 10, 1, 9, 3, 28, 16, 13, 34, 19], [26, 0, 20, 35, 22, 32, 11, 16, 29, 4, 31, 14, 38, 3, 15, 21, 37, 2, 28, 12, 33, 18, 25, 8, 5, 9, 34, 23, 1, 13, 24, 27, 7, 30, 10, 39, 36, 17, 19, 6], [33, 37, 22, 9, 30, 11, 24, 32, 31, 39, 16, 35, 18, 25, 2, 28, 29, 0, 14, 4, 38, 1, 19, 13, 8, 12, 6, 7, 3, 17, 26, 5, 36, 15, 20, 27, 34, 23, 21, 10], [9, 0, 25, 39, 5, 38, 1, 37, 3, 16, 22, 6, 28, 13, 19, 12, 27, 14, 2, 15, 24, 20, 32, 35, 33, 36, 31, 11, 4, 21, 30, 34, 18, 8, 17, 7, 26, 29, 23, 10], [38, 10, 24, 26, 13, 3, 6, 23, 30, 22, 21, 2, 4, 5, 20, 16, 12, 34, 33, 19, 31, 17, 1, 29, 35, 32, 36, 0, 14, 9, 25, 28, 27, 11, 37, 18, 15, 8, 7, 39], [9, 24, 14, 39, 34, 25, 8, 3, 36, 20, 17, 33, 35, 29, 22, 0, 38, 23, 27, 15, 5, 21, 11, 13, 6, 10, 7, 31, 26, 28, 32, 4, 30, 16, 37, 12, 18, 19, 1, 2], [5, 3, 26, 27, 7, 37, 25, 8, 21, 30, 0, 36, 9, 38, 4, 2, 31, 15, 29, 20, 34, 22, 23, 16, 10, 19, 12, 35, 18, 33, 11, 1, 28, 24, 13, 14, 39, 6, 32, 17], [32, 20, 19, 14, 15, 29, 30, 35, 3, 38, 5, 22, 2, 21, 33, 11, 36, 16, 0, 13, 25, 4, 26, 24, 1, 27, 7, 12, 17, 37, 39, 9, 6, 18, 34, 28, 31, 23, 8, 10], [39, 32, 34, 13, 3, 11, 18, 20, 24, 25, 38, 1, 29, 16, 27, 26, 23, 19, 5, 35, 0, 30, 21, 10, 8, 12, 9, 4, 2, 28, 15, 14, 22, 37, 6, 33, 7, 36, 17, 31]], [[75, 68, 56, 52, 71, 70, 69, 63, 42, 51, 45, 72, 62, 78, 73, 55, 77, 48, 66, 60, 59, 50, 79, 74, 57, 46, 64, 53, 65, 58, 67, 54, 41, 76, 61, 44, 49, 43, 40, 47], [40, 45, 47, 73, 54, 69, 76, 70, 63, 71, 74, 44, 66, 48, 42, 60, 61, 41, 46, 78, 64, 53, 75, 68, 79, 72, 50, 43, 57, 67, 65, 77, 56, 51, 58, 49, 55, 59, 62, 52], [57, 52, 44, 77, 70, 53, 40, 55, 65, 46, 50, 63, 43, 74, 67, 59, 56, 78, 48, 47, 51, 49, 68, 66, 79, 72, 41, 75, 54, 76, 64, 69, 73, 42, 58, 45, 62, 60, 61, 71], [70, 64, 75, 44, 68, 42, 51, 45, 65, 48, 40, 71, 66, 53, 73, 72, 43, 46, 76, 47, 57, 77, 60, 49, 41, 54, 52, 56, 63, 61, 59, 67, 62, 79, 78, 69, 50, 58, 55, 74], [48, 58, 51, 43, 75, 45, 62, 52, 76, 73, 41, 46, 74, 54, 71, 65, 69, 55, 64, 53, 42, 47, 78, 56, 77, 57, 70, 61, 59, 49, 67, 63, 40, 66, 72, 50, 68, 44, 79, 60], [66, 75, 61, 78, 69, 41, 62, 55, 49, 57, 77, 43, 54, 60, 53, 56, 74, 52, 72, 51, 64, 63, 46, 58, 65, 47, 50, 48, 45, 40, 44, 71, 67, 76, 79, 59, 73, 70, 68, 42], [45, 41, 70, 62, 43, 48, 54, 71, 69, 56, 67, 53, 68, 40, 64, 66, 76, 44, 72, 65, 42, 79, 57, 47, 59, 63, 78, 58, 51, 74, 73, 46, 50, 61, 60, 77, 49, 75, 52, 55], [41, 77, 75, 58, 49, 64, 47, 65, 51, 73, 60, 44, 46, 69, 45, 54, 55, 74, 52, 40, 43, 71, 70, 63, 79, 68, 62, 57, 66, 48, 50, 42, 53, 78, 67, 59, 72, 76, 56, 61], [51, 58, 53, 48, 60, 43, 75, 47, 66, 56, 74, 55, 45, 61, 40, 72, 63, 54, 71, 68, 42, 73, 46, 70, 50, 57, 64, 67, 44, 69, 62, 59, 49, 78, 65, 52, 41, 76, 77, 79], [40, 72, 45, 41, 77, 64, 71, 69, 57, 74, 65, 56, 60, 48, 66, 62, 68, 44, 70, 58, 51, 79, 61, 42, 54, 50, 49, 46, 73, 63, 76, 53, 59, 75, 47, 52, 67, 43, 55, 78], [53, 44, 47, 79, 45, 54, 40, 42, 46, 76, 70, 51, 41, 62, 72, 67, 78, 50, 43, 69, 52, 48, 57, 55, 66, 75, 60, 77, 59, 73, 64, 71, 56, 49, 58, 68, 63, 65, 61, 74], [57, 60, 51, 72, 62, 59, 66, 71, 76, 63, 79, 65, 47, 70, 67, 55, 49, 50, 75, 68, 61, 54, 69, 53, 40, 42, 44, 73, 78, 45, 74, 43, 48, 58, 64, 56, 52, 46, 77, 41], [50, 45, 71, 56, 78, 70, 52, 68, 57, 60, 47, 49, 43, 66, 46, 55, 72, 59, 44, 58, 77, 63, 53, 40, 79, 73, 62, 76, 65, 64, 54, 74, 61, 75, 48, 69, 51, 41, 42, 67], [42, 52, 50, 46, 74, 43, 40, 61, 77, 49, 55, 47, 78, 72, 79, 60, 56, 48, 57, 51, 76, 63, 66, 44, 73, 59, 62, 54, 68, 70, 75, 65, 64, 58, 71, 53, 69, 41, 67, 45], [52, 55, 72, 60, 69, 64, 68, 42, 77, 61, 70, 62, 43, 45, 57, 59, 41, 63, 58, 48, 53, 44, 74, 54, 65, 49, 76, 50, 40, 73, 78, 47, 46, 66, 67, 75, 51, 79, 56, 71], [50, 58, 71, 40, 51, 46, 57, 47, 73, 52, 78, 72, 76, 53, 79, 59, 43, 41, 75, 70, 60, 42, 77, 66, 55, 63, 65, 67, 44, 54, 62, 64, 74, 68, 49, 45, 61, 69, 48, 56], [40, 77, 79, 44, 50, 60, 46, 54, 70, 48, 52, 43, 72, 65, 57, 45, 62, 74, 53, 49, 67, 78, 71, 51, 63, 69, 47, 58, 41, 56, 66, 76, 68, 64, 73, 59, 42, 75, 55, 61], [62, 66, 77, 75, 44, 47, 72, 51, 52, 71, 57, 45, 40, 67, 60, 42, 53, 49, 76, 58, 69, 64, 48, 59, 56, 61, 41, 55, 54, 63, 78, 74, 65, 43, 73, 46, 70, 50, 68, 79], [63, 57, 42, 59, 70, 74, 54, 69, 67, 77, 55, 47, 49, 58, 50, 46, 78, 65, 79, 51, 56, 52, 73, 48, 76, 75, 44, 40, 71, 62, 60, 61, 41, 72, 45, 43, 64, 68, 66, 53], [55, 72, 65, 47, 77, 44, 43, 73, 60, 67, 70, 64, 48, 52, 59, 45, 69, 42, 71, 57, 51, 56, 63, 74, 58, 49, 79, 40, 78, 76, 75, 66, 54, 53, 46, 61, 50, 68, 62, 41], [65, 43, 58, 42, 41, 69, 52, 46, 63, 68, 45, 56, 70, 64, 57, 72, 54, 51, 53, 71, 50, 44, 75, 76, 49, 55, 47, 77, 79, 48, 67, 78, 62, 61, 74, 66, 60, 40, 73, 59], [64, 49, 66, 50, 75, 70, 48, 69, 79, 60, 58, 74, 43, 56, 77, 78, 46, 68, 72, 59, 63, 44, 45, 65, 52, 54, 62, 76, 67, 73, 42, 40, 47, 71, 53, 61, 41, 51, 55, 57], [46, 78, 73, 53, 68, 79, 56, 60, 76, 47, 54, 40, 48, 43, 51, 52, 71, 58, 50, 41, 66, 64, 55, 63, 72, 61, 49, 75, 57, 69, 74, 70, 44, 65, 42, 62, 45, 77, 59, 67], [56, 57, 74, 45, 71, 48, 63, 79, 70, 75, 50, 42, 52, 69, 66, 58, 78, 43, 67, 46, 73, 77, 44, 76, 55, 49, 64, 40, 61, 59, 65, 53, 60, 68, 47, 72, 51, 54, 41, 62], [78, 58, 71, 60, 51, 54, 79, 66, 44, 41, 63, 77, 70, 55, 61, 46, 50, 65, 76, 53, 42, 57, 47, 68, 72, 40, 45, 43, 67, 62, 69, 48, 75, 49, 73, 64, 59, 56, 74, 52], [59, 62, 41, 42, 53, 68, 52, 75, 71, 78, 73, 67, 47, 58, 79, 49, 65, 72, 69, 57, 43, 77, 66, 45, 56, 63, 44, 54, 55, 70, 48, 61, 50, 74, 76, 40, 60, 64, 51, 46], [57, 62, 52, 41, 46, 59, 43, 77, 79, 64, 78, 69, 70, 44, 67, 60, 74, 71, 76, 47, 61, 54, 75, 68, 66, 49, 73, 50, 48, 53, 63, 42, 58, 51, 65, 72, 55, 40, 56, 45], [43, 44, 67, 42, 61, 79, 46, 68, 69, 51, 74, 75, 53, 63, 58, 66, 47, 40, 71, 49, 72, 78, 62, 60, 76, 59, 41, 48, 56, 54, 45, 64, 77, 65, 55, 57, 73, 70, 50, 52], [50, 78, 45, 53, 73, 64, 71, 74, 44, 58, 61, 70, 79, 48, 68, 49, 77, 66, 62, 67, 41, 52, 60, 56, 46, 40, 72, 43, 55, 51, 75, 76, 57, 63, 59, 47, 69, 65, 54, 42], [69, 54, 72, 50, 65, 43, 79, 40, 52, 57, 58, 78, 76, 77, 62, 61, 73, 67, 60, 49, 44, 64, 75, 46, 41, 66, 71, 47, 74, 55, 45, 42, 70, 68, 56, 51, 53, 48, 63, 59], [63, 40, 46, 77, 79, 62, 72, 45, 47, 44, 64, 59, 56, 57, 68, 69, 48, 51, 61, 50, 73, 49, 65, 60, 53, 76, 58, 71, 75, 67, 52, 55, 70, 43, 41, 66, 74, 42, 78, 54], [65, 56, 61, 70, 58, 40, 64, 76, 79, 55, 78, 48, 68, 72, 44, 74, 45, 46, 57, 63, 41, 73, 51, 49, 60, 67, 50, 71, 75, 66, 77, 42, 54, 62, 43, 52, 53, 69, 47, 59], [71, 56, 41, 76, 64, 67, 45, 59, 63, 50, 58, 51, 61, 62, 57, 75, 73, 44, 79, 47, 48, 74, 69, 54, 52, 60, 72, 53, 42, 70, 78, 40, 77, 68, 49, 43, 66, 46, 65, 55], [53, 49, 71, 47, 43, 41, 63, 78, 42, 55, 58, 70, 52, 76, 59, 72, 61, 79, 73, 48, 46, 45, 50, 60, 67, 64, 75, 54, 44, 57, 62, 69, 56, 74, 66, 51, 40, 65, 77, 68], [56, 74, 67, 52, 59, 51, 64, 72, 71, 47, 41, 73, 63, 77, 48, 57, 45, 46, 58, 50, 54, 49, 75, 61, 79, 65, 40, 44, 66, 76, 60, 53, 68, 42, 43, 55, 69, 78, 70, 62], [62, 63, 46, 76, 41, 69, 43, 71, 42, 54, 56, 79, 72, 73, 55, 74, 40, 77, 50, 51, 70, 52, 48, 58, 67, 53, 68, 49, 47, 45, 61, 65, 44, 75, 60, 64, 66, 57, 59, 78], [42, 50, 56, 61, 76, 65, 77, 41, 62, 66, 71, 70, 73, 79, 48, 64, 53, 54, 58, 69, 46, 40, 59, 72, 60, 47, 45, 75, 78, 67, 55, 68, 43, 63, 57, 74, 51, 44, 52, 49], [73, 44, 43, 53, 49, 68, 51, 60, 61, 41, 70, 48, 40, 74, 50, 56, 46, 62, 75, 67, 71, 63, 45, 55, 77, 58, 52, 76, 64, 42, 57, 65, 47, 79, 69, 66, 72, 78, 54, 59], [63, 71, 47, 70, 69, 77, 43, 73, 45, 75, 66, 60, 62, 65, 51, 59, 68, 52, 42, 54, 41, 72, 48, 57, 74, 64, 49, 58, 56, 79, 46, 67, 76, 44, 61, 50, 53, 40, 55, 78], [68, 71, 45, 66, 48, 56, 69, 59, 64, 67, 77, 70, 49, 57, 79, 58, 42, 65, 63, 78, 76, 53, 75, 62, 74, 60, 50, 43, 51, 61, 72, 52, 41, 46, 44, 54, 73, 47, 55, 40], [9, 19, 4, 2, 22, 29, 17, 11, 28, 31, 26, 37, 12, 23, 10, 8, 32, 20, 39, 6, 1, 38, 14, 21, 30, 0, 18, 16, 35, 13, 3, 33, 5, 15, 24, 36, 27, 34, 25, 7], [26, 30, 5, 15, 27, 29, 33, 20, 37, 25, 19, 10, 1, 13, 0, 6, 35, 32, 7, 17, 12, 8, 9, 14, 38, 34, 24, 22, 18, 36, 23, 39, 16, 21, 28, 4, 31, 2, 11, 3], [27, 30, 5, 22, 33, 39, 17, 9, 6, 7, 15, 19, 1, 21, 10, 37, 8, 34, 28, 24, 20, 32, 16, 29, 11, 26, 12, 25, 36, 38, 35, 3, 2, 18, 4, 14, 13, 31, 23, 0], [10, 18, 16, 21, 5, 0, 26, 17, 11, 29, 28, 27, 19, 2, 37, 4, 31, 34, 14, 24, 8, 36, 7, 39, 35, 23, 32, 22, 13, 1, 30, 25, 20, 9, 33, 6, 12, 38, 15, 3], [37, 28, 34, 26, 6, 4, 19, 7, 33, 1, 13, 8, 20, 29, 21, 36, 10, 11, 18, 25, 14, 32, 17, 38, 23, 12, 31, 39, 5, 35, 22, 16, 3, 2, 15, 30, 0, 9, 24, 27], [2, 34, 33, 4, 32, 18, 30, 3, 16, 22, 29, 15, 13, 25, 23, 38, 17, 12, 28, 35, 37, 0, 20, 27, 1, 5, 8, 7, 36, 10, 6, 11, 21, 26, 9, 39, 24, 19, 31, 14], [38, 14, 20, 12, 16, 7, 2, 9, 22, 26, 4, 29, 8, 15, 35, 18, 19, 32, 5, 24, 17, 13, 11, 0, 10, 21, 30, 28, 1, 31, 23, 37, 27, 33, 25, 34, 6, 3, 39, 36], [14, 18, 31, 24, 8, 26, 22, 13, 4, 28, 11, 10, 6, 9, 36, 30, 27, 38, 5, 17, 19, 37, 35, 39, 3, 34, 23, 29, 7, 33, 0, 2, 16, 15, 25, 32, 21, 12, 1, 20], [14, 1, 19, 16, 29, 32, 13, 20, 34, 11, 15, 36, 2, 35, 6, 37, 38, 0, 9, 12, 4, 3, 30, 24, 17, 25, 18, 26, 5, 7, 28, 33, 10, 8, 27, 39, 22, 23, 31, 21], [10, 32, 13, 38, 24, 26, 4, 30, 23, 6, 25, 39, 36, 0, 31, 35, 2, 19, 7, 33, 34, 21, 1, 12, 15, 20, 9, 22, 5, 28, 27, 29, 18, 3, 17, 16, 8, 14, 37, 11], [9, 3, 17, 2, 24, 4, 8, 13, 38, 12, 33, 29, 7, 37, 22, 35, 0, 19, 23, 20, 15, 27, 18, 36, 28, 30, 14, 31, 32, 6, 39, 5, 25, 1, 26, 16, 34, 11, 10, 21], [31, 11, 23, 14, 6, 36, 15, 30, 17, 39, 34, 25, 8, 7, 2, 38, 33, 26, 5, 3, 29, 9, 13, 21, 37, 35, 22, 18, 16, 4, 19, 24, 12, 27, 1, 20, 0, 28, 32, 10], [16, 10, 14, 28, 8, 23, 22, 7, 11, 20, 36, 1, 33, 5, 32, 25, 27, 39, 35, 21, 19, 17, 18, 3, 12, 30, 31, 34, 37, 9, 2, 38, 6, 29, 15, 0, 24, 13, 26, 4], [17, 0, 23, 31, 1, 9, 33, 21, 16, 2, 28, 15, 30, 6, 5, 12, 29, 38, 32, 7, 25, 19, 10, 20, 27, 35, 4, 22, 14, 24, 13, 26, 36, 39, 11, 37, 3, 34, 8, 18], [16, 2, 34, 32, 17, 7, 8, 10, 6, 22, 4, 38, 9, 27, 23, 33, 36, 0, 35, 12, 30, 37, 15, 26, 29, 25, 14, 31, 11, 19, 39, 18, 5, 21, 1, 13, 28, 20, 3, 24], [37, 30, 26, 28, 1, 10, 32, 13, 29, 11, 25, 14, 2, 7, 17, 19, 27, 39, 33, 4, 3, 20, 9, 15, 18, 34, 12, 5, 35, 6, 16, 21, 38, 22, 23, 0, 24, 8, 36, 31], [16, 18, 36, 20, 25, 22, 11, 32, 39, 34, 31, 9, 2, 35, 13, 8, 27, 7, 6, 12, 33, 14, 23, 5, 1, 28, 21, 17, 19, 15, 3, 38, 29, 26, 37, 0, 4, 10, 30, 24], [26, 3, 2, 16, 18, 27, 17, 21, 29, 32, 1, 35, 31, 7, 15, 22, 0, 38, 20, 9, 12, 33, 25, 13, 37, 8, 5, 39, 28, 19, 23, 6, 24, 30, 11, 36, 34, 14, 4, 10], [21, 16, 24, 11, 0, 23, 30, 29, 31, 34, 20, 12, 33, 3, 17, 4, 18, 26, 27, 32, 39, 15, 25, 37, 5, 7, 13, 6, 22, 2, 19, 28, 35, 10, 9, 36, 8, 38, 14, 1], [13, 16, 36, 5, 10, 32, 31, 25, 19, 15, 27, 24, 6, 20, 12, 21, 11, 4, 33, 29, 17, 0, 30, 18, 22, 28, 7, 3, 14, 8, 38, 39, 2, 37, 23, 9, 1, 35, 26, 34], [36, 20, 29, 33, 25, 4, 22, 23, 24, 16, 26, 15, 28, 27, 5, 30, 21, 13, 1, 17, 8, 3, 39, 12, 37, 34, 18, 0, 7, 32, 11, 38, 14, 31, 35, 2, 10, 19, 6, 9], [10, 2, 3, 23, 39, 28, 5, 4, 7, 20, 18, 12, 34, 37, 11, 33, 13, 21, 24, 26, 31, 9, 22, 25, 27, 35, 38, 32, 0, 36, 17, 16, 29, 8, 30, 19, 6, 15, 1, 14], [11, 7, 14, 24, 35, 34, 19, 1, 38, 23, 32, 21, 37, 10, 15, 30, 18, 12, 0, 36, 25, 13, 16, 29, 31, 6, 22, 5, 27, 20, 39, 3, 26, 2, 33, 9, 28, 8, 17, 4], [38, 16, 3, 30, 33, 18, 23, 13, 9, 29, 8, 39, 14, 12, 32, 2, 4, 31, 17, 7, 22, 5, 11, 25, 6, 34, 35, 36, 37, 10, 24, 26, 15, 20, 28, 21, 19, 1, 0, 27], [8, 17, 36, 5, 10, 6, 29, 30, 26, 7, 34, 9, 28, 37, 0, 31, 12, 18, 19, 3, 4, 2, 38, 13, 16, 20, 33, 24, 15, 22, 25, 27, 1, 21, 11, 23, 32, 39, 35, 14], [4, 35, 14, 12, 23, 7, 0, 3, 25, 39, 31, 36, 8, 20, 15, 6, 9, 13, 30, 37, 24, 5, 32, 21, 2, 29, 11, 19, 1, 26, 33, 16, 28, 38, 22, 10, 18, 17, 34, 27], [22, 24, 38, 8, 27, 36, 0, 2, 7, 28, 10, 29, 15, 26, 17, 34, 35, 18, 5, 9, 31, 20, 13, 3, 16, 19, 1, 6, 21, 37, 39, 25, 33, 4, 32, 14, 30, 23, 12, 11], [14, 9, 37, 31, 15, 34, 1, 2, 29, 0, 7, 30, 28, 33, 27, 17, 38, 39, 21, 11, 18, 36, 26, 22, 25, 8, 12, 4, 24, 32, 16, 3, 19, 13, 6, 5, 20, 23, 10, 35], [21, 25, 37, 38, 17, 31, 15, 7, 16, 36, 11, 29, 24, 4, 0, 39, 3, 18, 27, 10, 26, 30, 19, 20, 28, 35, 1, 6, 13, 9, 23, 34, 14, 22, 2, 12, 32, 8, 5, 33], [29, 25, 9, 8, 18, 3, 28, 4, 14, 22, 34, 1, 17, 37, 32, 15, 2, 6, 7, 33, 24, 39, 26, 27, 19, 21, 23, 36, 31, 16, 11, 38, 13, 12, 5, 20, 30, 10, 35, 0], [27, 5, 4, 36, 18, 26, 32, 12, 7, 14, 38, 6, 39, 31, 24, 21, 23, 8, 35, 20, 19, 15, 10, 22, 0, 16, 25, 33, 3, 37, 13, 30, 11, 28, 17, 29, 2, 9, 34, 1], [3, 14, 25, 35, 24, 37, 18, 21, 23, 1, 9, 29, 28, 27, 22, 10, 2, 19, 34, 6, 16, 26, 15, 0, 36, 33, 11, 20, 17, 8, 39, 7, 12, 5, 32, 30, 4, 13, 38, 31], [26, 34, 23, 2, 9, 3, 13, 20, 38, 5, 39, 10, 6, 8, 16, 17, 15, 18, 27, 24, 33, 29, 11, 35, 14, 22, 30, 21, 7, 12, 36, 19, 4, 0, 28, 31, 25, 37, 1, 32], [33, 3, 19, 31, 34, 9, 32, 15, 39, 25, 20, 14, 1, 12, 30, 24, 6, 36, 27, 17, 5, 21, 18, 28, 37, 11, 35, 16, 29, 0, 38, 13, 2, 10, 4, 26, 8, 7, 23, 22], [17, 10, 26, 2, 4, 13, 22, 28, 39, 6, 30, 36, 11, 5, 0, 19, 12, 7, 34, 8, 15, 33, 29, 25, 37, 3, 21, 31, 9, 23, 24, 16, 20, 38, 27, 18, 1, 35, 14, 32], [37, 14, 30, 5, 9, 3, 15, 12, 24, 27, 19, 26, 16, 38, 32, 34, 33, 21, 22, 25, 31, 2, 7, 28, 4, 29, 13, 39, 1, 6, 10, 23, 18, 8, 20, 0, 11, 36, 35, 17], [34, 1, 12, 0, 11, 20, 10, 21, 22, 36, 18, 38, 23, 25, 16, 19, 4, 3, 6, 17, 13, 39, 24, 35, 5, 15, 14, 26, 32, 27, 33, 8, 7, 9, 37, 2, 31, 28, 30, 29], [15, 0, 32, 33, 23, 18, 5, 37, 26, 38, 31, 17, 24, 19, 9, 11, 1, 27, 12, 22, 16, 14, 4, 21, 36, 29, 6, 7, 34, 8, 3, 13, 35, 39, 28, 10, 30, 25, 2, 20], [12, 17, 27, 9, 10, 26, 24, 25, 34, 20, 23, 15, 8, 18, 30, 39, 32, 29, 2, 21, 31, 19, 14, 3, 36, 38, 37, 28, 5, 16, 4, 6, 1, 7, 33, 11, 13, 35, 22, 0], [23, 4, 7, 0, 33, 12, 19, 25, 9, 14, 15, 27, 10, 13, 20, 3, 18, 1, 8, 16, 38, 35, 34, 37, 2, 39, 6, 29, 36, 31, 28, 5, 17, 24, 32, 11, 30, 21, 26, 22]], [[64, 56, 44, 75, 57, 48, 68, 65, 78, 76, 70, 50, 79, 73, 42, 41, 47, 54, 58, 74, 53, 51, 63, 45, 62, 77, 55, 40, 69, 71, 66, 72, 49, 67, 43, 46, 59, 61, 52, 60], [41, 62, 60, 69, 76, 74, 42, 52, 53, 46, 40, 72, 68, 58, 77, 70, 61, 65, 43, 48, 49, 59, 55, 63, 79, 78, 50, 44, 71, 75, 45, 64, 54, 66, 57, 47, 67, 51, 56, 73], [71, 52, 42, 41, 79, 63, 50, 65, 77, 45, 76, 62, 58, 55, 57, 64, 70, 54, 67, 51, 47, 48, 56, 69, 78, 46, 75, 59, 53, 49, 74, 60, 43, 73, 44, 68, 61, 66, 40, 72], [50, 71, 68, 58, 78, 72, 57, 75, 48, 63, 60, 43, 47, 46, 55, 77, 40, 79, 65, 59, 41, 44, 45, 49, 62, 76, 51, 64, 54, 70, 74, 42, 69, 52, 61, 67, 73, 53, 56, 66], [75, 58, 65, 76, 70, 60, 72, 49, 56, 62, 50, 79, 61, 69, 55, 47, 74, 78, 64, 71, 46, 63, 43, 44, 52, 41, 77, 59, 45, 40, 67, 51, 68, 48, 54, 57, 66, 53, 42, 73], [58, 50, 45, 44, 65, 56, 49, 54, 48, 59, 73, 63, 68, 53, 52, 74, 43, 75, 72, 51, 47, 42, 71, 55, 66, 70, 77, 57, 62, 69, 67, 46, 78, 76, 64, 40, 60, 41, 79, 61], [71, 41, 42, 52, 58, 40, 79, 74, 48, 53, 63, 75, 43, 50, 56, 44, 76, 77, 55, 69, 78, 70, 47, 72, 49, 66, 60, 57, 51, 65, 54, 59, 46, 64, 61, 73, 67, 68, 62, 45], [48, 53, 59, 70, 79, 44, 41, 65, 76, 40, 51, 63, 64, 69, 57, 50, 49, 66, 68, 43, 56, 45, 75, 52, 60, 78, 55, 54, 74, 61, 67, 47, 73, 77, 58, 71, 42, 46, 72, 62], [64, 52, 61, 66, 79, 71, 68, 65, 60, 41, 55, 45, 47, 73, 51, 78, 53, 62, 63, 49, 69, 43, 74, 77, 42, 72, 70, 40, 44, 46, 75, 48, 58, 67, 76, 57, 50, 56, 54, 59], [46, 41, 50, 78, 65, 61, 62, 43, 56, 69, 49, 47, 53, 52, 42, 64, 45, 44, 70, 63, 71, 58, 77, 60, 51, 79, 40, 57, 72, 48, 66, 59, 67, 54, 68, 55, 74, 75, 73, 76], [68, 57, 47, 53, 60, 72, 79, 62, 54, 66, 75, 52, 76, 48, 64, 67, 50, 45, 40, 56, 46, 58, 59, 61, 69, 73, 51, 65, 63, 70, 71, 41, 43, 55, 42, 78, 77, 44, 49, 74], [53, 62, 51, 45, 65, 78, 74, 72, 73, 68, 67, 41, 61, 49, 54, 66, 40, 59, 44, 79, 56, 50, 55, 70, 57, 71, 75, 58, 52, 46, 77, 64, 76, 60, 42, 69, 48, 63, 47, 43], [43, 56, 79, 48, 78, 50, 61, 60, 53, 63, 40, 57, 70, 49, 54, 46, 77, 75, 51, 62, 72, 74, 69, 68, 52, 47, 42, 71, 65, 44, 76, 41, 55, 64, 58, 66, 73, 67, 45, 59], [54, 49, 45, 40, 46, 73, 70, 58, 64, 66, 59, 53, 61, 44, 55, 78, 47, 56, 51, 76, 79, 60, 77, 42, 50, 67, 68, 72, 69, 75, 63, 57, 62, 65, 41, 52, 48, 71, 43, 74], [63, 42, 46, 69, 45, 49, 52, 55, 54, 67, 75, 77, 70, 40, 73, 79, 66, 50, 60, 74, 68, 65, 64, 57, 71, 62, 58, 48, 78, 56, 47, 59, 53, 43, 51, 76, 72, 44, 61, 41], [44, 47, 56, 58, 69, 68, 51, 65, 46, 49, 40, 52, 75, 53, 76, 41, 60, 78, 67, 61, 73, 50, 59, 54, 48, 74, 43, 72, 55, 57, 45, 66, 62, 64, 70, 42, 71, 77, 63, 79], [49, 48, 43, 53, 76, 46, 75, 52, 79, 73, 50, 63, 67, 51, 74, 56, 60, 44, 62, 65, 47, 41, 72, 78, 71, 69, 57, 70, 64, 55, 58, 45, 68, 77, 61, 66, 40, 42, 59, 54], [45, 70, 75, 47, 74, 57, 68, 56, 59, 78, 61, 40, 77, 41, 69, 63, 67, 44, 62, 43, 52, 60, 72, 58, 66, 79, 73, 76, 50, 55, 71, 46, 51, 42, 49, 53, 48, 65, 54, 64], [66, 45, 68, 64, 41, 65, 43, 54, 40, 50, 61, 44, 78, 62, 51, 47, 76, 52, 58, 42, 46, 70, 53, 77, 73, 49, 71, 74, 72, 60, 56, 79, 67, 63, 75, 57, 69, 59, 55, 48], [47, 45, 51, 70, 61, 67, 75, 43, 44, 64, 46, 59, 56, 77, 53, 68, 71, 73, 49, 52, 79, 74, 65, 69, 62, 72, 76, 41, 63, 58, 55, 78, 42, 48, 40, 60, 66, 50, 57, 54], [68, 64, 67, 52, 41, 51, 62, 45, 70, 40, 43, 42, 44, 69, 56, 65, 75, 50, 53, 46, 54, 73, 49, 61, 58, 59, 71, 63, 72, 48, 77, 76, 79, 66, 55, 60, 74, 57, 78, 47], [65, 55, 41, 67, 72, 77, 61, 71, 73, 46, 58, 68, 51, 59, 69, 52, 42, 50, 45, 54, 78, 56, 64, 60, 48, 40, 49, 57, 43, 47, 70, 53, 66, 63, 79, 62, 76, 74, 75, 44], [60, 42, 70, 63, 59, 45, 46, 53, 48, 43, 64, 71, 41, 56, 79, 61, 52, 49, 54, 66, 47, 40, 74, 73, 57, 44, 58, 55, 51, 50, 69, 77, 75, 78, 72, 65, 68, 62, 76, 67], [55, 60, 52, 74, 73, 46, 75, 57, 78, 76, 43, 61, 41, 77, 49, 44, 63, 48, 65, 53, 66, 68, 50, 40, 79, 69, 47, 70, 64, 67, 51, 72, 62, 45, 59, 42, 58, 71, 56, 54], [45, 74, 68, 71, 66, 79, 56, 48, 55, 62, 40, 49, 76, 63, 65, 52, 51, 77, 72, 70, 78, 47, 64, 54, 69, 41, 61, 42, 58, 44, 73, 46, 60, 50, 75, 59, 53, 67, 57, 43], [56, 69, 67, 52, 79, 74, 62, 58, 64, 53, 63, 44, 48, 43, 50, 65, 61, 40, 77, 70, 49, 72, 75, 60, 55, 71, 68, 73, 46, 57, 51, 66, 41, 59, 76, 42, 54, 45, 47, 78], [69, 48, 43, 49, 67, 63, 56, 71, 77, 57, 75, 41, 58, 45, 79, 68, 47, 50, 51, 62, 61, 40, 46, 60, 44, 73, 74, 72, 52, 59, 54, 65, 66, 76, 53, 70, 78, 64, 42, 55], [52, 71, 55, 57, 65, 58, 60, 51, 78, 53, 70, 56, 43, 72, 41, 47, 50, 63, 40, 48, 69, 54, 64, 62, 77, 44, 66, 59, 67, 49, 74, 45, 42, 76, 68, 75, 61, 46, 73, 79], [58, 41, 61, 50, 70, 74, 52, 43, 55, 69, 44, 42, 45, 73, 57, 64, 51, 54, 75, 46, 53, 72, 77, 60, 68, 79, 48, 49, 63, 47, 56, 62, 40, 78, 65, 67, 59, 71, 66, 76], [76, 69, 67, 65, 77, 74, 41, 53, 79, 58, 49, 64, 59, 57, 61, 44, 72, 78, 60, 48, 66, 47, 56, 68, 40, 62, 52, 73, 63, 50, 75, 45, 43, 46, 51, 55, 70, 54, 71, 42], [70, 77, 59, 51, 43, 74, 47, 53, 56, 79, 60, 71, 72, 52, 61, 54, 65, 64, 48, 66, 58, 73, 50, 68, 78, 49, 57, 40, 41, 75, 63, 67, 69, 42, 46, 76, 55, 45, 62, 44], [68, 48, 52, 61, 46, 65, 57, 55, 58, 71, 70, 51, 66, 73, 41, 62, 74, 67, 54, 43, 47, 45, 63, 53, 79, 42, 77, 78, 64, 40, 69, 44, 49, 72, 50, 56, 59, 75, 76, 60], [79, 40, 78, 69, 49, 61, 55, 50, 54, 47, 52, 71, 51, 60, 48, 74, 42, 59, 44, 76, 45, 73, 46, 64, 72, 65, 77, 70, 43, 68, 41, 66, 67, 57, 62, 75, 56, 53, 58, 63], [58, 40, 57, 48, 46, 63, 74, 79, 67, 53, 54, 49, 44, 50, 47, 71, 62, 69, 52, 65, 77, 75, 66, 55, 59, 61, 78, 64, 42, 60, 45, 68, 70, 51, 43, 76, 72, 41, 73, 56], [71, 58, 61, 41, 66, 73, 60, 65, 42, 47, 49, 54, 55, 74, 57, 59, 53, 48, 75, 40, 79, 46, 43, 72, 70, 78, 45, 77, 51, 56, 69, 50, 63, 68, 76, 67, 52, 64, 44, 62], [49, 57, 55, 58, 52, 41, 60, 63, 64, 56, 54, 42, 51, 71, 50, 70, 44, 65, 79, 59, 69, 68, 43, 72, 48, 77, 75, 62, 74, 78, 61, 47, 40, 67, 46, 66, 53, 73, 76, 45], [70, 61, 78, 48, 68, 54, 67, 44, 62, 75, 56, 40, 76, 60, 73, 59, 79, 49, 65, 46, 74, 77, 55, 43, 64, 45, 58, 53, 42, 69, 57, 52, 72, 71, 47, 66, 50, 41, 51, 63], [40, 52, 44, 65, 59, 62, 48, 58, 61, 53, 41, 50, 79, 73, 75, 74, 66, 72, 77, 54, 57, 60, 51, 64, 43, 63, 55, 69, 47, 46, 76, 56, 71, 42, 68, 67, 70, 49, 45, 78], [71, 44, 64, 48, 61, 40, 78, 54, 46, 53, 77, 58, 76, 56, 50, 41, 51, 68, 45, 47, 55, 66, 62, 75, 52, 67, 73, 69, 60, 57, 43, 59, 65, 70, 49, 72, 42, 63, 79, 74], [65, 50, 49, 71, 46, 40, 54, 60, 47, 78, 55, 41, 51, 52, 62, 42, 66, 64, 58, 75, 68, 73, 70, 63, 45, 61, 59, 76, 43, 67, 74, 56, 69, 44, 79, 77, 57, 53, 72, 48], [39, 26, 10, 7, 36, 32, 17, 38, 16, 15, 19, 8, 4, 30, 24, 5, 29, 22, 13, 20, 2, 3, 23, 34, 37, 6, 21, 12, 27, 9, 35, 31, 11, 18, 14, 0, 33, 25, 1, 28], [22, 2, 33, 38, 0, 13, 15, 4, 25, 26, 39, 30, 28, 3, 34, 19, 36, 10, 12, 11, 5, 24, 27, 29, 21, 1, 8, 6, 23, 32, 35, 31, 18, 9, 14, 17, 37, 20, 16, 7], [23, 9, 37, 10, 3, 16, 30, 17, 12, 38, 21, 15, 36, 4, 8, 32, 6, 22, 27, 20, 34, 35, 7, 31, 2, 13, 5, 33, 1, 19, 28, 26, 14, 24, 18, 39, 29, 0, 11, 25], [16, 3, 9, 26, 2, 17, 13, 24, 31, 23, 25, 22, 19, 36, 27, 29, 4, 32, 33, 34, 7, 38, 39, 18, 1, 15, 28, 20, 12, 21, 8, 37, 30, 0, 11, 6, 10, 14, 5, 35], [38, 3, 26, 24, 31, 30, 37, 10, 23, 5, 16, 14, 35, 19, 39, 6, 7, 34, 20, 1, 28, 2, 9, 27, 33, 17, 4, 0, 22, 29, 25, 18, 36, 12, 13, 21, 8, 15, 32, 11], [20, 32, 30, 37, 1, 11, 38, 28, 34, 14, 9, 5, 16, 29, 19, 33, 13, 15, 12, 10, 39, 31, 26, 2, 17, 23, 24, 3, 21, 25, 22, 36, 27, 8, 35, 4, 0, 6, 7, 18], [16, 39, 35, 5, 8, 31, 12, 29, 33, 36, 21, 37, 11, 18, 1, 19, 32, 6, 28, 4, 2, 34, 25, 15, 27, 10, 38, 26, 24, 7, 3, 20, 17, 23, 14, 22, 0, 30, 13, 9], [9, 34, 25, 6, 36, 26, 30, 37, 19, 16, 24, 15, 3, 4, 14, 23, 5, 12, 17, 29, 8, 13, 33, 0, 7, 39, 11, 1, 32, 21, 20, 28, 38, 27, 35, 31, 10, 18, 22, 2], [4, 8, 24, 34, 33, 15, 32, 21, 31, 22, 28, 26, 9, 38, 13, 36, 3, 37, 16, 25, 35, 30, 10, 6, 11, 5, 18, 14, 39, 0, 1, 7, 17, 23, 12, 20, 19, 2, 29, 27], [11, 32, 30, 37, 22, 38, 14, 10, 8, 16, 1, 34, 26, 9, 27, 20, 7, 6, 3, 23, 2, 13, 35, 5, 31, 28, 19, 0, 17, 33, 36, 25, 21, 18, 15, 4, 29, 39, 24, 12], [10, 12, 33, 3, 24, 35, 2, 16, 0, 21, 11, 28, 37, 15, 27, 20, 32, 36, 6, 5, 9, 25, 30, 4, 29, 17, 18, 19, 14, 7, 22, 8, 34, 1, 31, 38, 23, 13, 39, 26], [11, 28, 1, 38, 15, 22, 25, 35, 30, 14, 9, 13, 36, 34, 8, 2, 12, 26, 7, 6, 32, 3, 17, 18, 29, 31, 24, 27, 23, 0, 10, 20, 5, 37, 19, 21, 39, 4, 33, 16], [24, 30, 20, 19, 12, 17, 38, 10, 37, 8, 16, 33, 3, 18, 7, 31, 21, 1, 27, 23, 4, 6, 14, 25, 9, 11, 32, 34, 28, 22, 5, 13, 26, 39, 15, 0, 29, 35, 2, 36], [28, 17, 1, 20, 23, 24, 29, 30, 14, 27, 39, 18, 36, 6, 7, 3, 16, 25, 31, 19, 12, 8, 34, 2, 5, 4, 0, 15, 13, 10, 38, 22, 9, 11, 26, 37, 35, 33, 21, 32], [38, 31, 8, 29, 12, 7, 27, 21, 37, 9, 3, 28, 4, 5, 20, 0, 23, 36, 24, 16, 11, 10, 39, 13, 18, 14, 6, 35, 25, 30, 22, 2, 32, 1, 33, 17, 34, 26, 15, 19], [5, 36, 4, 30, 33, 15, 2, 6, 3, 27, 10, 8, 7, 23, 17, 16, 37, 9, 12, 20, 18, 32, 26, 28, 39, 34, 11, 25, 13, 14, 29, 24, 35, 1, 21, 31, 19, 22, 38, 0], [15, 29, 13, 22, 24, 39, 36, 7, 3, 11, 33, 35, 10, 8, 0, 26, 20, 5, 21, 27, 30, 31, 19, 14, 23, 16, 18, 6, 12, 4, 25, 38, 28, 1, 2, 32, 17, 34, 37, 9], [8, 4, 32, 11, 1, 28, 22, 13, 20, 16, 36, 31, 18, 37, 9, 30, 19, 26, 5, 12, 15, 29, 21, 33, 34, 0, 14, 25, 23, 38, 35, 6, 2, 3, 7, 10, 17, 24, 27, 39], [17, 20, 7, 24, 34, 10, 29, 36, 23, 39, 32, 0, 30, 3, 1, 28, 25, 9, 33, 11, 18, 21, 5, 2, 38, 27, 22, 15, 31, 6, 16, 8, 37, 19, 35, 12, 4, 14, 26, 13], [34, 5, 19, 11, 31, 16, 17, 21, 28, 30, 26, 36, 37, 18, 24, 9, 1, 8, 6, 22, 13, 33, 2, 35, 7, 3, 10, 27, 32, 14, 15, 38, 20, 4, 39, 0, 29, 23, 12, 25], [35, 16, 28, 27, 38, 1, 3, 20, 25, 12, 18, 31, 39, 34, 36, 2, 30, 23, 14, 29, 8, 21, 6, 10, 26, 19, 37, 17, 7, 4, 5, 13, 9, 24, 33, 22, 32, 0, 11, 15], [21, 12, 33, 22, 8, 26, 39, 30, 18, 29, 36, 27, 13, 9, 16, 37, 3, 1, 25, 19, 28, 10, 0, 11, 32, 5, 24, 17, 35, 6, 23, 31, 15, 7, 38, 2, 20, 4, 14, 34], [17, 0, 29, 33, 10, 36, 13, 3, 28, 18, 19, 37, 32, 23, 21, 27, 15, 39, 24, 6, 12, 38, 8, 1, 25, 22, 26, 7, 35, 20, 2, 31, 5, 9, 16, 34, 4, 30, 11, 14], [37, 29, 3, 39, 10, 6, 2, 30, 13, 25, 16, 4, 21, 32, 28, 24, 27, 34, 33, 31, 9, 11, 36, 1, 20, 23, 26, 0, 8, 17, 38, 18, 14, 15, 35, 12, 7, 5, 22, 19], [10, 2, 12, 14, 13, 32, 11, 19, 27, 18, 8, 22, 34, 21, 33, 39, 29, 17, 6, 5, 16, 36, 15, 9, 35, 24, 38, 28, 30, 1, 31, 37, 26, 25, 0, 7, 20, 3, 4, 23], [22, 35, 32, 11, 30, 12, 33, 13, 16, 25, 34, 4, 5, 29, 39, 6, 31, 15, 36, 14, 21, 26, 24, 9, 7, 1, 37, 19, 2, 8, 38, 18, 23, 0, 17, 3, 27, 10, 20, 28], [14, 25, 1, 26, 32, 35, 11, 8, 12, 21, 34, 18, 17, 31, 39, 30, 27, 7, 36, 19, 9, 5, 6, 28, 37, 38, 24, 2, 16, 20, 15, 3, 23, 13, 29, 10, 0, 33, 4, 22], [8, 21, 32, 4, 16, 10, 35, 7, 1, 14, 20, 2, 33, 25, 29, 34, 5, 11, 31, 22, 13, 24, 39, 0, 27, 12, 3, 17, 38, 9, 18, 36, 30, 6, 26, 28, 23, 37, 15, 19], [5, 23, 18, 6, 10, 27, 26, 9, 14, 39, 38, 15, 28, 3, 22, 29, 20, 7, 34, 8, 17, 30, 12, 33, 21, 13, 16, 1, 24, 36, 19, 0, 31, 35, 32, 25, 2, 4, 37, 11], [8, 20, 24, 5, 34, 32, 27, 38, 33, 3, 6, 21, 31, 12, 37, 26, 9, 11, 10, 29, 18, 7, 39, 35, 22, 30, 23, 2, 0, 36, 19, 16, 13, 14, 25, 15, 17, 4, 28, 1], [0, 39, 23, 22, 20, 19, 8, 35, 11, 1, 37, 16, 18, 5, 24, 33, 30, 12, 25, 15, 38, 21, 31, 26, 36, 2, 4, 32, 29, 27, 14, 17, 10, 13, 28, 6, 34, 7, 3, 9], [5, 39, 9, 14, 19, 35, 33, 28, 30, 0, 10, 21, 36, 31, 15, 4, 29, 17, 38, 8, 32, 13, 1, 27, 11, 12, 25, 24, 20, 3, 22, 6, 16, 18, 37, 34, 26, 7, 2, 23], [36, 22, 11, 3, 1, 13, 19, 18, 14, 9, 26, 35, 29, 12, 8, 10, 33, 7, 34, 17, 38, 15, 2, 39, 16, 30, 32, 31, 4, 21, 25, 5, 24, 28, 6, 0, 27, 37, 23, 20], [26, 2, 9, 21, 15, 33, 6, 39, 24, 32, 31, 0, 38, 12, 30, 1, 8, 37, 27, 28, 11, 29, 25, 16, 4, 34, 17, 20, 10, 7, 13, 19, 5, 18, 36, 35, 22, 14, 3, 23], [16, 0, 12, 39, 22, 14, 5, 9, 17, 30, 7, 10, 24, 37, 32, 4, 28, 21, 15, 20, 13, 31, 19, 27, 38, 6, 8, 3, 25, 2, 36, 11, 18, 29, 34, 35, 33, 1, 23, 26], [22, 12, 29, 20, 25, 24, 30, 16, 2, 39, 37, 34, 21, 26, 19, 14, 1, 23, 35, 4, 6, 33, 27, 38, 5, 31, 18, 17, 8, 13, 36, 9, 28, 11, 15, 10, 3, 0, 7, 32], [4, 36, 38, 39, 37, 16, 14, 31, 7, 33, 6, 23, 19, 35, 20, 27, 21, 32, 1, 30, 5, 0, 24, 25, 26, 34, 18, 11, 8, 28, 10, 13, 12, 17, 2, 3, 9, 15, 22, 29], [5, 0, 15, 7, 32, 1, 38, 17, 27, 19, 28, 14, 36, 22, 10, 13, 23, 8, 35, 6, 18, 34, 33, 37, 29, 3, 11, 21, 4, 2, 20, 12, 39, 16, 24, 26, 30, 9, 25, 31], [11, 13, 1, 22, 9, 12, 15, 18, 17, 7, 32, 2, 21, 34, 14, 23, 5, 8, 31, 39, 6, 36, 20, 19, 35, 26, 10, 25, 30, 24, 29, 3, 27, 4, 16, 0, 37, 38, 28, 33], [12, 20, 34, 3, 8, 18, 22, 32, 28, 36, 13, 37, 30, 2, 17, 35, 21, 14, 23, 29, 33, 25, 0, 11, 19, 39, 31, 38, 16, 24, 1, 6, 27, 15, 10, 7, 5, 26, 9, 4]], [[62, 75, 44, 45, 47, 50, 72, 67, 52, 55, 78, 56, 41, 74, 61, 42, 58, 49, 64, 40, 63, 76, 43, 57, 60, 65, 51, 77, 66, 54, 69, 53, 59, 79, 68, 73, 46, 71, 48, 70], [62, 71, 54, 72, 78, 61, 43, 77, 56, 64, 44, 69, 47, 45, 48, 53, 51, 67, 68, 57, 63, 50, 55, 40, 49, 46, 75, 58, 76, 52, 41, 42, 73, 70, 65, 59, 74, 79, 60, 66], [40, 53, 42, 54, 65, 68, 52, 73, 47, 74, 64, 56, 72, 57, 61, 51, 43, 69, 48, 60, 71, 66, 50, 49, 58, 70, 59, 67, 63, 78, 41, 75, 62, 55, 46, 44, 76, 77, 45, 79], [40, 79, 76, 43, 57, 48, 41, 66, 51, 46, 72, 71, 74, 44, 58, 65, 63, 77, 52, 59, 75, 64, 49, 45, 60, 55, 54, 69, 56, 61, 62, 70, 47, 53, 68, 73, 50, 67, 42, 78], [79, 66, 78, 56, 68, 63, 48, 43, 67, 54, 60, 75, 74, 42, 50, 44, 41, 64, 51, 46, 61, 52, 45, 77, 73, 70, 69, 49, 76, 53, 57, 71, 59, 40, 62, 65, 72, 58, 47, 55], [70, 58, 73, 77, 66, 40, 42, 65, 69, 72, 64, 61, 74, 53, 45, 59, 68, 54, 55, 44, 67, 49, 76, 60, 41, 56, 57, 62, 51, 63, 43, 78, 50, 47, 71, 75, 52, 48, 79, 46], [47, 71, 59, 68, 58, 44, 45, 60, 57, 76, 40, 70, 77, 54, 66, 62, 67, 53, 50, 69, 43, 75, 74, 79, 55, 49, 52, 61, 56, 73, 78, 48, 63, 41, 65, 46, 72, 64, 42, 51], [62, 69, 48, 79, 52, 55, 68, 60, 46, 53, 54, 66, 49, 64, 56, 61, 51, 57, 72, 63, 44, 67, 47, 73, 77, 41, 43, 75, 74, 78, 40, 76, 50, 42, 59, 45, 70, 71, 58, 65], [74, 43, 67, 66, 62, 79, 45, 63, 59, 68, 50, 61, 55, 52, 77, 49, 65, 70, 72, 40, 73, 48, 42, 69, 51, 58, 53, 47, 64, 46, 54, 76, 71, 75, 44, 78, 57, 56, 41, 60], [75, 77, 76, 40, 62, 71, 42, 50, 72, 57, 65, 46, 73, 68, 79, 69, 54, 53, 44, 48, 52, 43, 51, 45, 59, 49, 66, 64, 58, 55, 70, 74, 78, 61, 63, 56, 41, 67, 47, 60], [71, 74, 41, 77, 59, 64, 56, 43, 79, 50, 48, 76, 63, 51, 57, 54, 67, 68, 55, 61, 78, 52, 42, 45, 40, 72, 69, 44, 49, 65, 66, 60, 47, 75, 53, 46, 73, 62, 58, 70], [53, 47, 61, 62, 68, 58, 50, 71, 77, 66, 67, 54, 64, 43, 79, 56, 40, 42, 55, 48, 69, 41, 46, 70, 63, 52, 75, 44, 59, 73, 57, 51, 60, 76, 45, 49, 72, 78, 74, 65], [61, 70, 56, 48, 75, 62, 51, 67, 45, 47, 74, 60, 58, 65, 76, 69, 42, 50, 55, 63, 52, 46, 64, 49, 54, 57, 77, 41, 71, 43, 68, 59, 53, 79, 44, 40, 72, 66, 73, 78], [75, 48, 43, 73, 40, 76, 47, 49, 55, 72, 71, 44, 53, 51, 78, 62, 41, 45, 79, 74, 50, 54, 63, 65, 77, 52, 66, 60, 57, 59, 56, 58, 42, 70, 68, 64, 69, 67, 46, 61], [78, 66, 69, 75, 42, 67, 61, 76, 74, 72, 62, 53, 68, 70, 54, 58, 40, 47, 51, 52, 59, 60, 49, 41, 65, 71, 48, 46, 79, 43, 63, 57, 73, 55, 44, 56, 45, 77, 64, 50], [61, 42, 63, 70, 49, 56, 66, 44, 69, 50, 45, 53, 48, 64, 43, 72, 68, 55, 54, 67, 46, 41, 52, 47, 40, 79, 60, 76, 77, 74, 62, 65, 59, 71, 73, 78, 75, 51, 57, 58], [57, 63, 40, 56, 41, 50, 43, 59, 52, 49, 67, 46, 65, 47, 48, 54, 69, 44, 79, 74, 55, 45, 53, 51, 73, 62, 77, 75, 76, 71, 61, 42, 78, 64, 72, 70, 68, 60, 58, 66], [74, 66, 45, 46, 77, 58, 60, 73, 41, 72, 65, 42, 64, 56, 55, 71, 52, 50, 53, 67, 78, 59, 76, 51, 79, 62, 57, 44, 75, 40, 48, 61, 69, 43, 63, 47, 54, 68, 49, 70], [57, 44, 59, 79, 52, 61, 50, 55, 65, 63, 67, 45, 71, 68, 41, 78, 51, 58, 66, 49, 73, 42, 70, 72, 47, 74, 46, 75, 43, 76, 56, 62, 53, 60, 69, 48, 54, 64, 77, 40], [40, 42, 61, 55, 50, 64, 71, 69, 41, 60, 79, 63, 57, 51, 53, 72, 78, 68, 59, 54, 73, 43, 77, 46, 62, 67, 47, 75, 49, 74, 76, 65, 44, 52, 58, 48, 45, 66, 56, 70], [67, 73, 71, 42, 60, 78, 64, 47, 57, 59, 63, 40, 44, 65, 79, 43, 55, 50, 72, 45, 41, 49, 62, 56, 46, 52, 53, 48, 61, 70, 58, 77, 54, 51, 75, 66, 68, 76, 69, 74], [53, 59, 68, 46, 61, 47, 51, 72, 58, 45, 44, 75, 54, 43, 56, 65, 62, 55, 52, 67, 74, 60, 73, 78, 66, 79, 70, 48, 49, 71, 69, 77, 64, 41, 40, 76, 57, 63, 42, 50], [47, 44, 79, 51, 78, 70, 63, 73, 68, 75, 49, 60, 71, 77, 61, 42, 65, 54, 41, 67, 48, 57, 69, 58, 53, 52, 43, 66, 74, 40, 59, 76, 45, 56, 46, 50, 62, 72, 55, 64], [57, 70, 43, 67, 76, 64, 72, 75, 61, 54, 45, 60, 62, 55, 65, 63, 69, 49, 52, 78, 42, 59, 44, 48, 47, 58, 68, 41, 73, 71, 46, 79, 40, 51, 56, 74, 53, 77, 50, 66], [63, 64, 66, 78, 69, 73, 70, 76, 72, 41, 60, 55, 40, 71, 49, 74, 61, 42, 52, 46, 67, 54, 59, 56, 43, 58, 47, 48, 68, 79, 57, 44, 53, 50, 77, 45, 62, 75, 51, 65], [78, 61, 48, 60, 40, 65, 71, 79, 46, 68, 59, 45, 55, 77, 54, 73, 58, 76, 41, 57, 66, 72, 53, 64, 42, 75, 63, 56, 70, 47, 52, 74, 51, 43, 69, 67, 44, 50, 49, 62], [45, 48, 72, 63, 76, 41, 67, 54, 47, 61, 73, 79, 68, 74, 55, 57, 56, 77, 44, 46, 69, 71, 51, 59, 40, 65, 78, 53, 49, 58, 70, 43, 60, 64, 66, 62, 50, 42, 75, 52], [45, 60, 59, 44, 55, 46, 41, 48, 66, 43, 53, 47, 56, 71, 49, 58, 78, 77, 62, 75, 50, 52, 61, 76, 51, 72, 74, 65, 68, 54, 63, 40, 70, 64, 79, 73, 57, 67, 42, 69], [54, 64, 42, 46, 75, 71, 78, 57, 69, 52, 61, 62, 56, 68, 63, 50, 48, 79, 40, 73, 60, 51, 65, 58, 47, 45, 53, 70, 49, 66, 59, 72, 55, 43, 44, 76, 67, 74, 41, 77], [56, 62, 41, 46, 65, 43, 79, 54, 73, 58, 67, 77, 69, 51, 66, 55, 74, 75, 68, 44, 72, 42, 49, 61, 64, 52, 60, 48, 76, 59, 45, 63, 57, 78, 53, 50, 70, 71, 47, 40], [70, 49, 73, 60, 56, 79, 52, 66, 72, 42, 41, 61, 55, 76, 64, 54, 59, 63, 46, 69, 40, 43, 45, 44, 62, 57, 67, 65, 78, 58, 71, 68, 77, 50, 75, 53, 47, 74, 48, 51], [57, 47, 44, 42, 55, 40, 59, 43, 63, 68, 76, 75, 53, 79, 60, 51, 77, 66, 74, 58, 56, 46, 67, 45, 64, 65, 50, 52, 70, 61, 69, 62, 48, 49, 72, 78, 41, 71, 73, 54], [78, 45, 66, 57, 71, 43, 72, 62, 53, 52, 68, 67, 58, 47, 51, 76, 75, 65, 74, 69, 77, 73, 41, 54, 48, 61, 55, 40, 50, 46, 63, 56, 44, 60, 70, 79, 64, 42, 49, 59], [40, 70, 43, 58, 74, 72, 61, 69, 64, 77, 67, 55, 63, 41, 50, 56, 73, 66, 46, 42, 52, 60, 78, 51, 71, 62, 59, 76, 45, 53, 65, 79, 68, 44, 75, 48, 54, 57, 47, 49], [55, 41, 56, 74, 78, 76, 64, 62, 57, 75, 48, 42, 65, 47, 71, 63, 52, 66, 59, 45, 70, 40, 72, 79, 44, 50, 68, 54, 49, 53, 77, 61, 67, 69, 58, 43, 46, 51, 60, 73], [49, 57, 76, 72, 68, 65, 79, 53, 50, 75, 67, 77, 78, 42, 40, 60, 54, 70, 62, 58, 47, 43, 66, 45, 74, 73, 48, 69, 63, 52, 46, 61, 64, 71, 44, 59, 55, 51, 56, 41], [41, 42, 64, 75, 56, 54, 73, 77, 71, 72, 50, 63, 67, 44, 69, 55, 52, 74, 48, 43, 76, 62, 68, 46, 61, 65, 49, 58, 79, 57, 78, 45, 66, 60, 47, 40, 51, 53, 70, 59], [55, 71, 79, 74, 44, 50, 40, 53, 78, 43, 75, 67, 69, 64, 68, 47, 51, 60, 57, 76, 49, 42, 62, 70, 59, 41, 56, 46, 72, 54, 61, 48, 65, 73, 45, 52, 66, 77, 58, 63], [72, 69, 77, 60, 54, 41, 67, 76, 73, 55, 58, 66, 68, 48, 51, 43, 44, 79, 53, 45, 61, 56, 63, 75, 57, 49, 78, 42, 74, 50, 64, 70, 46, 52, 59, 65, 71, 47, 40, 62], [65, 68, 69, 63, 57, 70, 75, 64, 79, 77, 66, 73, 45, 50, 52, 62, 41, 58, 55, 76, 54, 47, 42, 56, 46, 67, 48, 51, 74, 43, 44, 60, 40, 59, 78, 72, 53, 71, 61, 49], [21, 2, 10, 14, 12, 39, 37, 1, 22, 36, 20, 4, 24, 13, 17, 28, 38, 25, 27, 32, 31, 35, 5, 15, 30, 18, 34, 16, 9, 26, 3, 11, 0, 6, 23, 8, 7, 29, 19, 33], [35, 22, 36, 6, 39, 20, 18, 27, 4, 33, 16, 30, 15, 17, 25, 31, 38, 8, 26, 28, 21, 7, 5, 37, 14, 19, 23, 0, 34, 29, 10, 2, 9, 13, 11, 3, 24, 32, 1, 12], [25, 26, 23, 27, 9, 14, 1, 12, 5, 2, 32, 3, 35, 8, 6, 28, 0, 37, 30, 20, 19, 17, 13, 33, 21, 39, 31, 36, 4, 11, 24, 38, 15, 34, 29, 22, 10, 16, 7, 18], [29, 23, 1, 20, 39, 0, 24, 30, 10, 27, 15, 32, 33, 18, 34, 12, 14, 25, 11, 6, 38, 28, 2, 31, 37, 16, 8, 35, 21, 4, 36, 5, 3, 13, 17, 26, 9, 22, 7, 19], [17, 20, 25, 24, 6, 38, 32, 21, 15, 33, 36, 19, 0, 26, 35, 30, 8, 31, 10, 7, 28, 2, 1, 3, 9, 18, 11, 23, 5, 29, 39, 27, 12, 37, 4, 16, 34, 14, 22, 13], [31, 34, 18, 0, 30, 4, 39, 9, 7, 8, 3, 13, 6, 25, 20, 2, 33, 10, 14, 16, 21, 24, 1, 38, 23, 11, 15, 28, 27, 22, 19, 36, 26, 29, 5, 35, 12, 17, 37, 32], [32, 1, 12, 35, 22, 8, 38, 25, 39, 30, 37, 28, 5, 2, 26, 20, 7, 17, 23, 34, 29, 16, 24, 10, 4, 19, 3, 18, 33, 36, 27, 15, 0, 9, 31, 6, 13, 14, 21, 11], [14, 28, 32, 33, 36, 22, 3, 17, 1, 31, 34, 13, 7, 20, 37, 35, 21, 2, 39, 8, 27, 26, 5, 29, 18, 12, 25, 19, 10, 38, 15, 9, 0, 4, 6, 30, 16, 23, 11, 24], [3, 36, 2, 0, 11, 33, 28, 25, 27, 23, 4, 5, 20, 37, 32, 21, 31, 22, 39, 6, 12, 35, 13, 29, 26, 17, 16, 38, 10, 7, 1, 8, 34, 9, 18, 19, 15, 30, 24, 14], [18, 32, 31, 16, 19, 2, 20, 8, 23, 38, 1, 5, 9, 39, 21, 4, 0, 15, 12, 7, 33, 35, 24, 25, 37, 14, 13, 3, 36, 22, 28, 27, 29, 34, 6, 17, 26, 10, 11, 30], [26, 23, 22, 27, 6, 21, 13, 36, 16, 5, 34, 8, 20, 18, 30, 17, 31, 10, 33, 24, 19, 0, 11, 35, 3, 29, 9, 38, 1, 7, 25, 4, 15, 2, 14, 32, 39, 12, 37, 28], [17, 27, 29, 4, 34, 23, 6, 10, 22, 26, 15, 31, 36, 11, 12, 35, 19, 13, 20, 8, 25, 9, 38, 24, 7, 2, 37, 28, 18, 30, 14, 5, 3, 33, 16, 1, 21, 32, 39, 0], [20, 11, 13, 21, 32, 3, 30, 5, 34, 19, 36, 7, 14, 37, 22, 15, 17, 1, 39, 26, 8, 27, 4, 28, 12, 23, 38, 24, 10, 9, 31, 16, 0, 18, 35, 2, 29, 25, 6, 33], [15, 29, 3, 39, 11, 16, 22, 26, 7, 27, 9, 37, 5, 34, 13, 14, 17, 12, 6, 18, 35, 0, 23, 20, 19, 24, 8, 21, 30, 38, 31, 10, 25, 1, 36, 32, 28, 4, 33, 2], [12, 17, 8, 3, 20, 36, 22, 13, 27, 30, 33, 5, 6, 31, 28, 26, 24, 14, 25, 9, 34, 11, 21, 18, 1, 35, 10, 7, 23, 32, 2, 16, 4, 15, 0, 37, 29, 19, 39, 38], [38, 5, 39, 31, 3, 20, 34, 18, 9, 13, 4, 30, 29, 0, 8, 11, 25, 17, 36, 12, 14, 33, 2, 6, 28, 15, 22, 1, 32, 24, 19, 21, 35, 7, 37, 26, 10, 16, 27, 23], [24, 18, 1, 5, 12, 20, 11, 31, 17, 30, 14, 13, 34, 27, 7, 8, 2, 26, 37, 16, 36, 9, 33, 21, 23, 10, 4, 28, 19, 39, 32, 15, 38, 6, 0, 3, 29, 22, 35, 25], [17, 9, 23, 20, 36, 33, 32, 10, 4, 24, 38, 34, 11, 8, 7, 31, 3, 13, 6, 12, 26, 16, 39, 1, 25, 30, 37, 21, 5, 15, 14, 27, 29, 18, 2, 22, 35, 19, 28, 0], [28, 17, 20, 3, 23, 9, 1, 29, 32, 39, 21, 22, 26, 33, 2, 37, 35, 8, 0, 7, 13, 34, 19, 14, 12, 38, 25, 27, 4, 24, 16, 11, 6, 36, 30, 10, 5, 18, 15, 31], [0, 1, 35, 38, 30, 36, 37, 34, 23, 5, 20, 21, 15, 31, 33, 26, 39, 16, 3, 28, 6, 9, 25, 32, 19, 13, 2, 24, 7, 22, 29, 10, 27, 4, 14, 17, 18, 12, 11, 8], [32, 13, 37, 14, 22, 31, 38, 29, 6, 24, 4, 30, 20, 12, 28, 3, 1, 0, 39, 2, 26, 5, 10, 36, 7, 21, 9, 11, 35, 15, 25, 34, 33, 17, 19, 23, 27, 16, 18, 8], [9, 15, 27, 13, 38, 11, 4, 26, 16, 12, 30, 37, 20, 18, 1, 10, 3, 0, 7, 2, 28, 21, 31, 32, 29, 19, 39, 14, 33, 36, 6, 5, 22, 25, 8, 35, 24, 34, 17, 23], [9, 37, 11, 16, 18, 17, 7, 20, 33, 31, 1, 5, 35, 25, 38, 13, 28, 23, 21, 2, 30, 27, 10, 39, 12, 8, 29, 0, 36, 19, 26, 3, 24, 22, 6, 14, 4, 32, 34, 15], [30, 3, 2, 29, 25, 34, 19, 36, 33, 8, 21, 4, 20, 7, 12, 18, 23, 9, 15, 13, 24, 1, 37, 27, 14, 32, 35, 31, 26, 39, 11, 0, 10, 5, 17, 22, 38, 6, 28, 16], [7, 18, 39, 34, 27, 9, 2, 8, 14, 13, 21, 30, 4, 5, 19, 24, 35, 12, 16, 3, 32, 28, 22, 0, 1, 25, 36, 38, 20, 33, 17, 37, 11, 6, 29, 15, 23, 31, 10, 26], [5, 39, 32, 1, 18, 38, 3, 31, 12, 20, 7, 33, 8, 11, 2, 27, 24, 15, 17, 37, 21, 34, 28, 16, 14, 0, 35, 23, 22, 19, 25, 26, 4, 9, 10, 36, 29, 30, 13, 6], [28, 10, 26, 1, 3, 0, 37, 20, 5, 14, 18, 12, 29, 32, 7, 30, 15, 4, 31, 13, 2, 23, 21, 38, 16, 8, 25, 6, 35, 36, 34, 33, 9, 19, 11, 39, 17, 24, 27, 22], [5, 16, 1, 12, 3, 36, 21, 26, 31, 35, 19, 37, 30, 2, 24, 8, 18, 39, 17, 10, 20, 7, 6, 38, 0, 33, 15, 23, 25, 28, 32, 13, 27, 11, 14, 34, 29, 22, 4, 9], [21, 11, 6, 25, 34, 23, 26, 15, 17, 27, 3, 39, 2, 31, 30, 36, 38, 20, 24, 22, 8, 14, 29, 12, 4, 32, 9, 16, 7, 10, 5, 18, 28, 13, 37, 35, 1, 0, 19, 33], [27, 17, 28, 4, 26, 23, 20, 2, 38, 29, 12, 7, 1, 37, 39, 19, 32, 5, 36, 21, 16, 18, 11, 35, 13, 33, 6, 14, 34, 10, 25, 30, 22, 15, 31, 3, 9, 8, 0, 24], [24, 1, 21, 19, 15, 8, 22, 26, 35, 33, 28, 0, 17, 14, 37, 3, 2, 20, 4, 32, 6, 36, 38, 13, 25, 18, 39, 5, 7, 11, 16, 9, 34, 10, 23, 27, 12, 30, 31, 29], [6, 19, 12, 3, 9, 23, 0, 8, 13, 16, 22, 24, 10, 38, 20, 35, 4, 36, 32, 31, 11, 29, 25, 15, 27, 1, 18, 2, 26, 5, 14, 17, 39, 21, 28, 7, 37, 30, 33, 34], [4, 1, 26, 13, 9, 35, 6, 23, 14, 34, 12, 27, 32, 21, 19, 2, 3, 22, 31, 24, 28, 30, 7, 29, 15, 37, 36, 11, 16, 38, 8, 25, 39, 10, 5, 17, 20, 0, 18, 33], [30, 23, 16, 38, 8, 13, 7, 21, 0, 15, 28, 9, 29, 19, 36, 14, 34, 11, 35, 10, 20, 37, 17, 18, 1, 6, 32, 39, 12, 5, 24, 25, 31, 3, 4, 27, 33, 22, 26, 2], [10, 9, 0, 38, 15, 33, 14, 36, 23, 21, 17, 8, 1, 35, 32, 22, 18, 39, 12, 28, 34, 7, 13, 20, 31, 30, 6, 24, 29, 27, 4, 3, 5, 16, 2, 11, 25, 26, 19, 37], [12, 16, 38, 1, 25, 4, 35, 11, 23, 21, 36, 37, 6, 7, 39, 8, 13, 19, 2, 30, 17, 34, 33, 32, 14, 3, 24, 27, 22, 9, 18, 15, 5, 28, 31, 20, 10, 29, 0, 26], [30, 38, 28, 3, 7, 33, 19, 13, 14, 22, 10, 21, 4, 32, 26, 18, 2, 17, 29, 1, 39, 27, 12, 5, 36, 0, 16, 24, 37, 31, 25, 15, 20, 11, 8, 34, 23, 6, 35, 9], [0, 15, 30, 36, 35, 38, 18, 19, 5, 8, 17, 24, 34, 22, 39, 23, 1, 9, 6, 7, 27, 32, 2, 29, 14, 25, 37, 31, 28, 11, 10, 26, 21, 4, 33, 3, 13, 20, 12, 16], [35, 14, 10, 33, 36, 23, 7, 15, 11, 38, 30, 28, 6, 1, 13, 25, 29, 3, 21, 37, 31, 26, 39, 17, 0, 4, 32, 8, 27, 20, 2, 34, 12, 9, 19, 18, 22, 16, 5, 24], [18, 9, 25, 13, 16, 38, 12, 14, 20, 5, 26, 30, 15, 6, 17, 1, 31, 4, 11, 22, 29, 34, 10, 19, 3, 21, 0, 27, 32, 23, 39, 37, 8, 33, 24, 7, 2, 36, 28, 35]]]\n"
          ],
          "name": "stdout"
        }
      ]
    },
    {
      "cell_type": "markdown",
      "metadata": {
        "id": "aUskKzZ8t0VF"
      },
      "source": [
        "*Mejores tiempos para N=40*"
      ]
    },
    {
      "cell_type": "code",
      "metadata": {
        "colab": {
          "base_uri": "https://localhost:8080/"
        },
        "id": "p3nKwO16t6rI",
        "outputId": "44dbcd52-dffc-4d78-d85e-302eaeba8ea3"
      },
      "source": [
        "print(timer[0])\n",
        "preferMens=prefer[0][:N]\n",
        "preferGirls=prefer[0][N:]\n",
        "\n",
        "print(\"PreferBoys = \",preferMens)\n",
        "print(\"PreferGirls = \",preferGirls)\n",
        "stableMarriage2(prefer[0])\n",
        "%time"
      ],
      "execution_count": 14,
      "outputs": [
        {
          "output_type": "stream",
          "text": [
            "0.00018358230590820312\n",
            "PreferBoys =  [[51, 71, 57, 41, 69, 63, 43, 77, 73, 72, 78, 48, 45, 44, 64, 76, 61, 79, 47, 70, 65, 67, 75, 62, 49, 60, 58, 50, 68, 55, 59, 52, 46, 66, 74, 53, 40, 56, 42, 54], [71, 54, 61, 46, 67, 45, 62, 63, 64, 44, 43, 77, 68, 75, 58, 51, 73, 65, 70, 55, 66, 57, 69, 41, 72, 59, 48, 47, 60, 79, 49, 40, 42, 76, 53, 50, 52, 56, 78, 74], [77, 46, 43, 57, 53, 41, 68, 72, 58, 61, 44, 51, 79, 42, 45, 73, 54, 59, 63, 48, 50, 78, 52, 75, 55, 56, 62, 64, 47, 40, 70, 67, 60, 66, 76, 49, 71, 65, 74, 69], [66, 65, 76, 71, 50, 62, 43, 56, 68, 51, 75, 60, 58, 69, 70, 79, 73, 55, 48, 41, 78, 63, 47, 49, 54, 64, 46, 59, 77, 44, 53, 72, 57, 45, 67, 52, 40, 74, 61, 42], [56, 52, 54, 63, 69, 51, 72, 55, 73, 62, 44, 68, 43, 53, 40, 77, 71, 64, 70, 46, 45, 41, 76, 49, 48, 75, 58, 59, 65, 42, 60, 66, 67, 57, 47, 61, 50, 79, 74, 78], [76, 62, 79, 73, 58, 56, 50, 63, 60, 66, 53, 57, 47, 72, 75, 67, 69, 70, 40, 61, 74, 42, 78, 41, 65, 59, 48, 55, 71, 46, 43, 44, 49, 52, 64, 54, 45, 77, 68, 51], [48, 65, 59, 40, 79, 53, 57, 43, 45, 56, 60, 49, 63, 46, 52, 72, 62, 71, 74, 73, 61, 55, 70, 41, 50, 69, 78, 67, 44, 51, 58, 42, 76, 75, 68, 64, 77, 54, 66, 47], [79, 40, 43, 74, 78, 66, 76, 69, 70, 62, 61, 47, 54, 73, 71, 52, 50, 51, 53, 56, 63, 75, 64, 68, 65, 48, 72, 44, 59, 45, 67, 57, 58, 60, 46, 41, 42, 77, 49, 55], [57, 54, 78, 69, 43, 67, 48, 70, 61, 68, 44, 74, 56, 49, 46, 63, 76, 62, 58, 55, 73, 77, 60, 71, 72, 45, 66, 64, 75, 40, 47, 53, 51, 65, 59, 50, 52, 41, 42, 79], [79, 43, 58, 76, 73, 71, 46, 48, 72, 49, 65, 61, 64, 77, 42, 50, 68, 69, 74, 59, 45, 62, 56, 53, 44, 40, 52, 78, 70, 57, 75, 51, 63, 41, 60, 66, 55, 54, 47, 67], [63, 68, 57, 48, 59, 44, 67, 46, 40, 65, 41, 58, 75, 53, 50, 64, 73, 66, 78, 52, 45, 61, 69, 72, 54, 60, 71, 74, 42, 70, 51, 47, 49, 76, 43, 55, 79, 56, 62, 77], [55, 66, 59, 46, 45, 54, 56, 69, 60, 41, 73, 68, 71, 61, 57, 40, 42, 51, 77, 52, 76, 47, 49, 70, 67, 48, 74, 78, 62, 53, 65, 75, 58, 50, 43, 64, 63, 79, 44, 72], [74, 59, 57, 67, 78, 43, 54, 61, 70, 42, 69, 56, 51, 46, 41, 73, 64, 53, 60, 76, 66, 72, 79, 55, 71, 62, 75, 47, 52, 50, 49, 44, 40, 68, 63, 58, 48, 65, 77, 45], [47, 56, 65, 42, 61, 54, 59, 69, 70, 67, 44, 46, 51, 50, 55, 40, 74, 45, 76, 41, 62, 57, 77, 66, 49, 43, 75, 72, 58, 48, 63, 73, 79, 78, 68, 60, 64, 53, 52, 71], [59, 46, 54, 61, 47, 69, 72, 64, 49, 76, 50, 55, 78, 79, 68, 41, 60, 66, 51, 53, 73, 62, 44, 65, 40, 63, 58, 52, 74, 75, 67, 45, 42, 43, 77, 70, 56, 57, 48, 71], [48, 45, 70, 65, 78, 60, 67, 43, 57, 63, 51, 54, 40, 71, 58, 49, 72, 76, 79, 74, 47, 69, 59, 75, 46, 41, 56, 73, 55, 62, 50, 66, 68, 53, 64, 42, 77, 52, 61, 44], [52, 64, 70, 59, 47, 45, 74, 71, 78, 72, 60, 49, 51, 55, 58, 69, 76, 43, 75, 48, 44, 46, 62, 56, 57, 63, 68, 66, 50, 73, 67, 41, 54, 40, 53, 65, 61, 42, 77, 79], [53, 41, 62, 46, 71, 56, 55, 57, 61, 65, 70, 68, 54, 72, 44, 43, 63, 64, 73, 59, 67, 78, 40, 77, 76, 42, 66, 74, 52, 45, 47, 60, 79, 48, 58, 69, 50, 75, 49, 51], [61, 50, 73, 63, 69, 68, 60, 75, 70, 40, 54, 66, 59, 53, 62, 49, 72, 51, 42, 76, 55, 52, 77, 57, 48, 67, 56, 44, 74, 43, 41, 64, 47, 45, 71, 79, 46, 65, 78, 58], [67, 79, 77, 46, 47, 70, 49, 50, 65, 41, 61, 40, 57, 45, 78, 74, 56, 71, 66, 76, 62, 55, 59, 53, 42, 48, 68, 73, 72, 60, 52, 44, 54, 58, 63, 43, 69, 64, 51, 75], [79, 75, 55, 69, 70, 62, 74, 51, 63, 65, 49, 76, 73, 44, 50, 58, 66, 56, 57, 48, 42, 60, 53, 77, 54, 78, 46, 72, 43, 45, 52, 64, 68, 40, 47, 71, 67, 61, 41, 59], [62, 68, 56, 50, 42, 41, 60, 46, 53, 48, 65, 51, 63, 59, 76, 44, 69, 58, 79, 52, 40, 55, 74, 61, 57, 73, 49, 75, 47, 64, 66, 54, 71, 43, 77, 70, 45, 72, 67, 78], [56, 60, 74, 79, 44, 41, 48, 73, 59, 52, 49, 71, 61, 64, 42, 63, 69, 55, 53, 51, 58, 72, 46, 62, 75, 70, 40, 47, 67, 65, 78, 66, 77, 76, 43, 54, 50, 45, 68, 57], [46, 64, 67, 45, 53, 73, 58, 74, 44, 43, 78, 42, 69, 63, 72, 50, 56, 61, 75, 51, 47, 57, 77, 55, 60, 40, 49, 68, 66, 76, 54, 79, 41, 59, 71, 48, 65, 70, 52, 62], [48, 65, 68, 63, 40, 78, 73, 77, 41, 50, 46, 49, 60, 62, 55, 67, 74, 44, 76, 71, 59, 61, 45, 72, 42, 64, 69, 57, 66, 51, 52, 79, 43, 75, 56, 47, 53, 70, 54, 58], [59, 41, 53, 50, 63, 57, 73, 45, 65, 77, 52, 60, 70, 61, 43, 72, 46, 71, 64, 51, 48, 68, 54, 55, 76, 78, 47, 56, 75, 42, 44, 49, 69, 62, 58, 74, 79, 66, 67, 40], [48, 78, 54, 73, 65, 64, 44, 77, 69, 42, 58, 49, 61, 56, 67, 41, 72, 66, 62, 59, 75, 74, 71, 52, 43, 55, 40, 57, 51, 63, 47, 46, 60, 76, 79, 68, 45, 53, 50, 70], [46, 72, 54, 77, 40, 56, 76, 79, 49, 78, 51, 70, 75, 48, 69, 63, 55, 67, 52, 53, 61, 59, 50, 45, 41, 68, 43, 58, 60, 74, 66, 42, 47, 64, 65, 71, 57, 73, 44, 62], [73, 76, 71, 57, 60, 64, 43, 59, 66, 47, 53, 74, 48, 44, 72, 62, 78, 79, 56, 65, 46, 67, 52, 40, 51, 75, 49, 77, 58, 69, 50, 41, 68, 42, 45, 61, 70, 54, 55, 63], [74, 78, 48, 77, 76, 72, 70, 50, 42, 69, 46, 47, 60, 55, 57, 71, 64, 63, 41, 53, 59, 66, 68, 44, 58, 56, 65, 61, 51, 79, 49, 52, 62, 45, 75, 43, 73, 40, 67, 54], [60, 43, 49, 71, 50, 78, 77, 66, 51, 72, 63, 74, 73, 40, 59, 61, 75, 48, 44, 46, 41, 65, 70, 79, 56, 45, 53, 57, 42, 67, 64, 76, 47, 69, 55, 62, 58, 54, 68, 52], [44, 58, 70, 65, 46, 40, 56, 53, 60, 63, 52, 72, 51, 41, 75, 66, 47, 55, 49, 69, 78, 57, 42, 59, 71, 48, 64, 50, 61, 67, 79, 68, 54, 74, 62, 43, 77, 76, 45, 73], [42, 54, 72, 76, 64, 73, 53, 57, 74, 45, 55, 58, 65, 40, 69, 63, 79, 66, 50, 70, 44, 71, 59, 56, 49, 43, 60, 61, 47, 68, 75, 52, 62, 46, 77, 41, 48, 51, 67, 78], [72, 47, 53, 62, 60, 44, 50, 76, 74, 41, 54, 73, 46, 71, 55, 57, 59, 56, 42, 65, 49, 64, 79, 40, 51, 61, 78, 75, 77, 45, 70, 48, 58, 52, 43, 67, 69, 68, 66, 63], [77, 67, 76, 45, 60, 40, 74, 73, 50, 72, 68, 44, 78, 49, 64, 62, 48, 52, 65, 53, 43, 61, 66, 42, 70, 46, 47, 69, 57, 51, 71, 75, 63, 58, 54, 55, 59, 79, 41, 56], [68, 66, 50, 78, 43, 46, 71, 45, 62, 42, 58, 64, 48, 57, 56, 70, 60, 59, 51, 47, 44, 73, 61, 65, 67, 72, 54, 63, 40, 74, 49, 41, 75, 52, 77, 53, 79, 69, 55, 76], [58, 51, 48, 44, 62, 73, 57, 68, 79, 75, 61, 69, 77, 49, 72, 59, 78, 66, 70, 42, 64, 63, 50, 53, 74, 60, 56, 76, 65, 71, 41, 55, 46, 43, 45, 40, 47, 67, 52, 54], [69, 74, 54, 49, 55, 45, 57, 72, 76, 78, 75, 43, 60, 46, 79, 48, 65, 59, 68, 73, 41, 53, 61, 52, 71, 70, 56, 47, 40, 58, 50, 62, 77, 64, 44, 51, 66, 63, 42, 67], [65, 52, 41, 57, 53, 47, 68, 77, 79, 49, 43, 73, 69, 55, 74, 61, 54, 72, 75, 48, 63, 76, 67, 66, 44, 45, 56, 40, 46, 78, 64, 58, 59, 71, 60, 50, 70, 42, 62, 51], [79, 52, 41, 44, 62, 54, 53, 76, 69, 77, 43, 64, 47, 73, 48, 78, 67, 57, 74, 72, 66, 68, 56, 50, 58, 75, 60, 55, 51, 42, 71, 63, 40, 45, 46, 65, 61, 49, 70, 59]]\n",
            "PreferGirls =  [[33, 24, 34, 27, 11, 13, 0, 37, 35, 26, 10, 21, 8, 7, 6, 4, 17, 19, 25, 12, 38, 31, 28, 36, 30, 1, 16, 15, 3, 20, 29, 14, 5, 18, 9, 39, 32, 23, 2, 22], [29, 1, 3, 18, 34, 36, 8, 25, 14, 28, 19, 20, 39, 5, 35, 38, 21, 7, 15, 16, 31, 10, 37, 2, 22, 11, 13, 4, 24, 6, 17, 0, 32, 12, 33, 27, 30, 9, 26, 23], [9, 13, 6, 33, 19, 32, 34, 14, 30, 18, 0, 23, 1, 15, 3, 28, 12, 25, 35, 38, 16, 5, 31, 26, 22, 10, 36, 8, 37, 7, 2, 11, 29, 20, 27, 21, 4, 24, 17, 39], [6, 3, 10, 2, 5, 27, 15, 8, 13, 37, 20, 35, 16, 25, 9, 30, 0, 31, 22, 21, 28, 11, 38, 34, 7, 33, 29, 19, 26, 23, 12, 4, 1, 39, 14, 18, 24, 17, 36, 32], [2, 37, 31, 32, 36, 30, 15, 29, 22, 34, 35, 4, 17, 33, 13, 26, 18, 11, 14, 27, 19, 7, 25, 39, 38, 28, 10, 20, 5, 8, 9, 23, 1, 0, 16, 21, 24, 6, 3, 12], [36, 4, 14, 6, 15, 30, 11, 8, 25, 18, 17, 27, 39, 34, 5, 0, 21, 2, 20, 32, 3, 22, 9, 7, 35, 29, 23, 26, 37, 1, 16, 28, 13, 19, 31, 38, 33, 12, 24, 10], [30, 38, 1, 18, 8, 3, 12, 32, 19, 17, 29, 24, 6, 14, 36, 0, 31, 10, 23, 11, 16, 37, 15, 26, 39, 2, 20, 25, 5, 7, 28, 34, 22, 27, 4, 9, 33, 13, 21, 35], [24, 26, 21, 9, 10, 3, 12, 1, 8, 36, 38, 4, 39, 7, 11, 25, 31, 0, 16, 5, 19, 30, 20, 2, 34, 23, 27, 17, 6, 37, 32, 33, 13, 35, 28, 29, 18, 15, 14, 22], [33, 8, 25, 32, 21, 11, 23, 24, 30, 7, 22, 31, 28, 3, 18, 38, 39, 19, 37, 14, 5, 16, 1, 13, 15, 35, 26, 9, 17, 6, 10, 29, 20, 4, 0, 2, 36, 12, 27, 34], [30, 10, 18, 16, 36, 24, 13, 22, 7, 23, 33, 3, 19, 38, 28, 8, 32, 9, 29, 20, 6, 0, 25, 35, 2, 34, 15, 31, 4, 12, 27, 39, 14, 5, 17, 37, 21, 26, 11, 1], [39, 35, 29, 15, 19, 4, 17, 31, 0, 13, 37, 25, 10, 30, 12, 36, 32, 24, 1, 18, 11, 7, 9, 2, 23, 8, 38, 14, 34, 22, 26, 33, 27, 21, 20, 28, 16, 6, 3, 5], [37, 8, 12, 34, 3, 10, 39, 15, 11, 30, 7, 19, 21, 33, 16, 32, 0, 23, 28, 36, 38, 14, 4, 17, 18, 6, 2, 27, 9, 20, 26, 13, 22, 24, 29, 35, 31, 25, 1, 5], [14, 9, 5, 21, 11, 4, 3, 16, 23, 24, 32, 10, 18, 8, 17, 37, 36, 15, 27, 7, 2, 0, 6, 13, 26, 28, 30, 19, 29, 22, 1, 31, 33, 20, 12, 38, 34, 35, 39, 25], [3, 33, 24, 35, 37, 26, 4, 25, 21, 16, 36, 27, 8, 28, 17, 5, 7, 12, 13, 18, 31, 11, 39, 2, 22, 32, 23, 38, 14, 10, 0, 30, 15, 6, 34, 29, 20, 9, 19, 1], [25, 21, 29, 28, 20, 11, 38, 35, 0, 23, 36, 1, 7, 3, 18, 30, 19, 24, 4, 26, 12, 5, 22, 16, 17, 32, 27, 2, 37, 31, 13, 14, 6, 33, 9, 15, 34, 8, 39, 10], [25, 3, 38, 37, 32, 29, 15, 5, 39, 20, 2, 26, 35, 22, 0, 27, 17, 23, 19, 33, 1, 16, 10, 31, 9, 14, 18, 12, 24, 7, 11, 21, 28, 4, 8, 13, 36, 34, 30, 6], [13, 7, 30, 24, 37, 18, 2, 33, 10, 4, 1, 5, 6, 28, 0, 23, 9, 27, 25, 8, 31, 39, 35, 19, 38, 17, 26, 3, 22, 32, 36, 14, 16, 21, 20, 29, 15, 34, 11, 12], [22, 16, 1, 9, 38, 5, 39, 15, 27, 21, 7, 10, 11, 2, 28, 19, 23, 25, 36, 26, 30, 20, 14, 24, 35, 4, 29, 6, 0, 31, 32, 3, 18, 37, 12, 13, 8, 34, 33, 17], [32, 26, 5, 3, 11, 6, 17, 18, 13, 36, 28, 23, 7, 21, 33, 19, 22, 37, 20, 24, 35, 16, 30, 9, 31, 29, 38, 10, 12, 27, 4, 0, 8, 1, 14, 34, 25, 15, 2, 39], [39, 6, 26, 25, 4, 3, 34, 11, 32, 7, 23, 13, 33, 21, 9, 31, 1, 5, 35, 38, 20, 29, 10, 15, 36, 14, 37, 27, 24, 28, 12, 19, 8, 18, 2, 30, 22, 16, 0, 17], [26, 32, 22, 9, 16, 4, 0, 15, 3, 19, 6, 34, 2, 20, 28, 29, 14, 10, 13, 17, 31, 11, 24, 33, 8, 38, 12, 25, 21, 36, 27, 30, 7, 23, 39, 1, 35, 37, 5, 18], [13, 28, 1, 31, 38, 12, 4, 15, 24, 6, 7, 9, 5, 22, 17, 30, 37, 39, 8, 14, 20, 26, 3, 34, 18, 35, 16, 11, 33, 25, 10, 36, 19, 21, 29, 23, 0, 32, 27, 2], [1, 10, 14, 39, 12, 4, 8, 28, 18, 22, 30, 5, 32, 26, 19, 29, 37, 27, 13, 9, 6, 38, 7, 25, 17, 33, 24, 23, 21, 31, 20, 34, 35, 15, 11, 2, 16, 0, 36, 3], [16, 37, 3, 22, 4, 2, 27, 33, 19, 29, 1, 39, 23, 12, 0, 20, 24, 21, 28, 14, 35, 8, 25, 10, 34, 36, 7, 31, 32, 6, 11, 13, 5, 9, 30, 15, 18, 38, 26, 17], [4, 28, 12, 15, 38, 6, 23, 0, 13, 20, 39, 17, 34, 14, 7, 8, 9, 5, 19, 31, 29, 37, 3, 24, 36, 26, 27, 25, 21, 35, 10, 32, 11, 30, 33, 1, 16, 2, 22, 18], [16, 3, 18, 34, 33, 15, 23, 38, 14, 20, 39, 24, 26, 5, 2, 31, 17, 10, 29, 28, 9, 8, 37, 35, 25, 30, 4, 21, 19, 11, 6, 0, 7, 32, 12, 36, 27, 1, 22, 13], [39, 37, 4, 18, 23, 7, 33, 1, 22, 9, 19, 10, 17, 6, 5, 24, 0, 20, 3, 30, 34, 35, 28, 25, 31, 27, 8, 14, 29, 13, 15, 32, 36, 38, 2, 16, 21, 26, 11, 12], [11, 2, 4, 15, 33, 35, 23, 13, 29, 24, 20, 34, 30, 31, 19, 38, 37, 26, 6, 0, 22, 32, 16, 36, 21, 39, 5, 18, 8, 12, 7, 10, 25, 14, 1, 9, 27, 28, 17, 3], [31, 21, 24, 19, 2, 6, 18, 4, 3, 9, 7, 1, 8, 35, 37, 14, 29, 38, 23, 11, 28, 36, 22, 32, 20, 0, 30, 5, 33, 13, 25, 10, 15, 39, 27, 34, 16, 26, 17, 12], [22, 5, 28, 7, 14, 27, 31, 18, 25, 23, 32, 34, 11, 10, 13, 12, 17, 30, 37, 2, 19, 26, 9, 8, 33, 36, 38, 15, 29, 6, 4, 39, 20, 3, 21, 0, 24, 1, 16, 35], [31, 28, 29, 35, 34, 1, 32, 16, 5, 18, 25, 38, 33, 30, 26, 21, 17, 7, 24, 12, 0, 20, 11, 37, 27, 9, 36, 8, 2, 3, 23, 4, 15, 13, 6, 22, 10, 14, 39, 19], [7, 27, 19, 20, 22, 1, 15, 2, 13, 33, 3, 8, 31, 9, 38, 16, 17, 11, 14, 29, 26, 5, 30, 12, 28, 21, 35, 34, 32, 25, 6, 36, 18, 37, 10, 39, 23, 24, 4, 0], [10, 1, 14, 7, 3, 29, 0, 21, 9, 38, 15, 34, 17, 12, 37, 11, 32, 27, 18, 5, 28, 2, 20, 33, 13, 8, 31, 4, 22, 26, 30, 16, 24, 36, 39, 35, 25, 19, 6, 23], [14, 1, 8, 25, 23, 34, 27, 33, 24, 6, 26, 22, 28, 0, 35, 16, 29, 20, 2, 15, 18, 39, 21, 30, 12, 38, 10, 36, 7, 19, 5, 9, 32, 3, 37, 4, 13, 11, 31, 17], [26, 23, 7, 24, 19, 37, 18, 3, 20, 29, 5, 1, 8, 17, 36, 30, 22, 4, 2, 13, 34, 28, 0, 9, 21, 15, 32, 38, 14, 39, 35, 25, 12, 27, 10, 31, 33, 6, 11, 16], [29, 13, 31, 6, 18, 25, 12, 27, 21, 39, 23, 38, 16, 10, 2, 14, 34, 17, 20, 30, 9, 26, 15, 11, 37, 4, 24, 3, 28, 5, 32, 8, 36, 7, 1, 19, 35, 0, 33, 22], [13, 11, 37, 5, 19, 32, 1, 26, 4, 16, 29, 21, 39, 28, 6, 10, 7, 25, 22, 9, 18, 24, 8, 17, 31, 33, 38, 30, 36, 15, 34, 23, 2, 12, 3, 27, 35, 0, 14, 20], [11, 4, 14, 8, 5, 13, 38, 19, 22, 29, 39, 9, 20, 3, 0, 37, 12, 2, 36, 16, 26, 27, 33, 28, 31, 32, 35, 15, 34, 7, 25, 17, 23, 18, 30, 6, 24, 10, 21, 1], [22, 11, 35, 38, 21, 37, 14, 25, 18, 5, 10, 12, 24, 31, 7, 32, 36, 33, 23, 19, 4, 17, 9, 0, 27, 20, 34, 16, 6, 28, 15, 2, 39, 8, 13, 30, 1, 29, 26, 3], [16, 3, 0, 18, 37, 34, 38, 12, 36, 9, 29, 1, 23, 35, 19, 26, 32, 2, 30, 33, 17, 15, 6, 27, 22, 4, 28, 24, 20, 7, 5, 11, 14, 25, 8, 13, 21, 10, 39, 31]]\n",
            "Woman   Man\n",
            "40 \t 7\n",
            "41 \t 25\n",
            "42 \t 32\n",
            "43 \t 2\n",
            "44 \t 31\n",
            "45 \t 15\n",
            "46 \t 14\n",
            "47 \t 33\n",
            "48 \t 24\n",
            "49 \t 30\n",
            "50 \t 35\n",
            "51 \t 0\n",
            "52 \t 4\n",
            "53 \t 17\n",
            "54 \t 8\n",
            "55 \t 11\n",
            "56 \t 13\n",
            "57 \t 12\n",
            "58 \t 36\n",
            "59 \t 6\n",
            "60 \t 22\n",
            "61 \t 18\n",
            "62 \t 39\n",
            "63 \t 10\n",
            "64 \t 23\n",
            "65 \t 38\n",
            "66 \t 3\n",
            "67 \t 34\n",
            "68 \t 21\n",
            "69 \t 37\n",
            "70 \t 16\n",
            "71 \t 1\n",
            "72 \t 27\n",
            "73 \t 28\n",
            "74 \t 29\n",
            "75 \t 20\n",
            "76 \t 5\n",
            "77 \t 19\n",
            "78 \t 26\n",
            "79 \t 9\n",
            "CPU times: user 3 µs, sys: 0 ns, total: 3 µs\n",
            "Wall time: 5.96 µs\n"
          ],
          "name": "stdout"
        }
      ]
    },
    {
      "cell_type": "code",
      "metadata": {
        "colab": {
          "base_uri": "https://localhost:8080/"
        },
        "id": "YAzI3x7KuK1R",
        "outputId": "3a33560d-b1a1-46b6-fc0d-9202765a9a00"
      },
      "source": [
        "print(timer[1])\n",
        "preferMens=prefer[1][:N]\n",
        "preferGirls=prefer[1][N:]\n",
        "\n",
        "print(\"PreferBoys = \",preferMens)\n",
        "print(\"PreferGirls = \",preferGirls)\n",
        "stableMarriage2(prefer[1])\n",
        "%time"
      ],
      "execution_count": 15,
      "outputs": [
        {
          "output_type": "stream",
          "text": [
            "0.0001957416534423828\n",
            "PreferBoys =  [[46, 57, 79, 52, 71, 43, 60, 64, 76, 72, 68, 73, 70, 63, 58, 56, 50, 66, 48, 41, 65, 55, 44, 42, 45, 61, 75, 47, 54, 62, 53, 51, 74, 49, 69, 67, 78, 40, 59, 77], [50, 63, 60, 49, 44, 45, 57, 64, 76, 54, 55, 65, 47, 70, 68, 72, 40, 59, 51, 48, 46, 69, 43, 41, 67, 66, 61, 56, 79, 58, 53, 75, 74, 77, 62, 42, 73, 52, 71, 78], [51, 42, 47, 41, 59, 64, 61, 73, 43, 63, 69, 56, 52, 50, 49, 40, 72, 77, 65, 71, 66, 48, 46, 67, 57, 62, 70, 76, 45, 78, 54, 58, 53, 60, 74, 68, 79, 75, 55, 44], [59, 70, 77, 40, 61, 42, 73, 71, 76, 53, 74, 41, 66, 43, 69, 60, 75, 46, 63, 56, 65, 72, 55, 78, 45, 52, 50, 58, 48, 64, 44, 51, 49, 68, 54, 57, 79, 62, 47, 67], [75, 49, 70, 68, 74, 56, 62, 50, 47, 54, 77, 71, 48, 45, 60, 78, 53, 57, 58, 43, 65, 67, 40, 66, 42, 59, 44, 52, 72, 51, 61, 69, 64, 46, 55, 73, 41, 63, 79, 76], [52, 62, 70, 40, 57, 46, 56, 71, 76, 64, 74, 41, 69, 42, 53, 54, 65, 44, 72, 43, 78, 48, 51, 77, 45, 63, 47, 50, 79, 67, 49, 60, 73, 55, 75, 61, 59, 58, 68, 66], [53, 48, 57, 49, 56, 70, 77, 73, 52, 72, 46, 55, 40, 79, 41, 61, 59, 54, 44, 67, 66, 42, 58, 50, 76, 43, 69, 51, 78, 68, 45, 63, 74, 75, 64, 47, 65, 71, 62, 60], [53, 71, 78, 48, 62, 46, 65, 68, 41, 66, 57, 64, 77, 72, 50, 79, 52, 60, 55, 45, 63, 54, 74, 42, 76, 70, 44, 47, 61, 59, 40, 51, 49, 43, 56, 75, 69, 73, 67, 58], [43, 63, 73, 60, 47, 64, 76, 68, 67, 46, 51, 72, 41, 48, 61, 52, 69, 79, 49, 71, 74, 53, 54, 56, 57, 62, 66, 75, 78, 40, 44, 42, 59, 50, 45, 58, 77, 70, 55, 65], [50, 76, 58, 78, 57, 52, 47, 77, 71, 75, 73, 79, 56, 51, 49, 55, 70, 42, 44, 45, 63, 48, 64, 40, 68, 53, 72, 65, 41, 67, 62, 74, 46, 59, 43, 60, 61, 66, 69, 54], [66, 76, 74, 78, 51, 75, 72, 67, 60, 55, 52, 79, 43, 50, 63, 65, 57, 70, 45, 61, 42, 71, 44, 77, 69, 49, 68, 53, 46, 62, 40, 54, 41, 58, 56, 73, 48, 47, 64, 59], [78, 55, 75, 64, 40, 69, 65, 76, 63, 70, 67, 58, 45, 51, 46, 66, 41, 61, 49, 48, 68, 43, 42, 71, 54, 56, 50, 60, 52, 53, 62, 73, 77, 44, 72, 79, 59, 74, 47, 57], [66, 45, 54, 71, 57, 43, 59, 51, 49, 47, 67, 50, 60, 68, 77, 79, 41, 48, 63, 78, 56, 44, 46, 70, 42, 55, 53, 62, 64, 72, 40, 76, 73, 69, 75, 61, 52, 74, 65, 58], [67, 56, 48, 43, 41, 78, 61, 66, 47, 51, 73, 58, 42, 59, 40, 44, 68, 45, 74, 71, 63, 62, 52, 49, 72, 64, 70, 76, 75, 77, 54, 55, 69, 46, 60, 53, 65, 79, 50, 57], [40, 75, 55, 42, 65, 73, 70, 41, 61, 56, 44, 59, 51, 74, 79, 54, 67, 64, 60, 69, 43, 53, 76, 63, 68, 58, 72, 57, 48, 49, 46, 52, 78, 50, 71, 66, 47, 45, 77, 62], [74, 42, 63, 70, 49, 62, 51, 78, 73, 60, 75, 69, 61, 77, 47, 40, 41, 46, 58, 76, 72, 52, 57, 48, 64, 67, 54, 79, 65, 45, 50, 66, 68, 55, 43, 44, 59, 53, 71, 56], [49, 78, 68, 53, 60, 79, 52, 65, 75, 77, 50, 56, 51, 57, 48, 46, 43, 76, 63, 70, 59, 55, 73, 61, 42, 74, 66, 47, 41, 40, 44, 54, 45, 69, 67, 58, 71, 72, 62, 64], [62, 79, 58, 56, 63, 59, 70, 53, 49, 72, 68, 69, 73, 71, 66, 40, 44, 51, 57, 61, 67, 43, 42, 64, 52, 77, 75, 47, 41, 65, 50, 78, 54, 48, 76, 55, 46, 45, 60, 74], [74, 63, 64, 53, 54, 59, 71, 50, 57, 46, 72, 65, 76, 42, 47, 60, 69, 45, 61, 43, 51, 68, 70, 56, 52, 55, 73, 58, 66, 40, 75, 78, 41, 67, 49, 79, 48, 77, 62, 44], [57, 47, 64, 71, 55, 44, 65, 56, 53, 45, 77, 75, 63, 42, 60, 72, 61, 59, 43, 67, 54, 73, 76, 46, 41, 74, 66, 50, 49, 78, 79, 58, 51, 70, 40, 48, 52, 62, 69, 68], [76, 53, 69, 54, 41, 50, 55, 62, 66, 51, 57, 40, 61, 64, 56, 67, 49, 71, 48, 42, 72, 47, 65, 70, 60, 79, 68, 59, 46, 45, 75, 74, 77, 78, 52, 58, 63, 73, 43, 44], [61, 78, 45, 65, 57, 56, 47, 62, 40, 70, 64, 55, 72, 42, 60, 76, 67, 48, 71, 50, 53, 44, 46, 51, 66, 68, 63, 58, 41, 43, 69, 77, 74, 54, 73, 49, 52, 59, 79, 75], [40, 73, 65, 64, 55, 50, 43, 49, 61, 70, 51, 59, 52, 71, 42, 78, 77, 58, 68, 44, 48, 66, 53, 46, 54, 67, 56, 62, 79, 60, 63, 76, 72, 47, 74, 75, 57, 69, 45, 41], [79, 58, 44, 63, 48, 46, 70, 43, 45, 69, 56, 74, 78, 52, 71, 40, 66, 47, 57, 49, 41, 75, 64, 61, 60, 42, 62, 51, 53, 54, 59, 68, 65, 76, 77, 50, 73, 55, 72, 67], [73, 50, 49, 75, 57, 72, 40, 54, 58, 45, 43, 62, 51, 41, 48, 69, 64, 53, 65, 47, 59, 68, 63, 71, 44, 74, 52, 67, 66, 60, 56, 70, 42, 78, 79, 46, 76, 61, 55, 77], [68, 55, 53, 74, 78, 40, 41, 58, 46, 52, 60, 70, 44, 64, 57, 56, 62, 65, 54, 50, 73, 79, 77, 61, 49, 72, 69, 75, 67, 51, 71, 48, 42, 63, 59, 45, 76, 43, 47, 66], [53, 41, 42, 48, 69, 78, 68, 63, 46, 67, 75, 74, 54, 49, 76, 58, 62, 55, 52, 47, 79, 64, 45, 57, 56, 77, 73, 70, 60, 50, 51, 59, 61, 40, 72, 71, 65, 44, 66, 43], [54, 67, 49, 45, 51, 75, 77, 57, 62, 60, 71, 47, 64, 63, 48, 43, 66, 41, 55, 73, 65, 40, 74, 79, 52, 42, 53, 58, 59, 68, 72, 50, 56, 46, 78, 69, 70, 76, 44, 61], [66, 50, 46, 61, 43, 63, 48, 78, 58, 49, 68, 51, 72, 76, 42, 60, 77, 55, 40, 75, 74, 57, 54, 73, 53, 44, 67, 64, 69, 45, 65, 47, 62, 56, 79, 70, 59, 71, 52, 41], [40, 79, 52, 51, 48, 54, 42, 45, 56, 58, 65, 69, 50, 66, 49, 68, 78, 73, 55, 41, 71, 43, 74, 57, 76, 62, 75, 64, 77, 44, 72, 70, 46, 60, 67, 63, 61, 53, 59, 47], [47, 70, 53, 72, 79, 43, 67, 57, 40, 74, 44, 73, 58, 64, 42, 51, 49, 56, 60, 65, 63, 45, 41, 69, 78, 71, 62, 52, 48, 66, 61, 68, 54, 46, 59, 77, 55, 50, 76, 75], [55, 43, 58, 77, 78, 48, 61, 46, 47, 50, 42, 54, 72, 79, 63, 59, 53, 52, 60, 73, 45, 62, 49, 71, 40, 74, 64, 66, 69, 57, 70, 68, 65, 76, 44, 41, 51, 75, 56, 67], [60, 49, 70, 62, 79, 74, 44, 45, 50, 61, 66, 43, 57, 78, 65, 52, 40, 67, 47, 59, 41, 54, 76, 56, 48, 75, 58, 71, 55, 64, 46, 72, 69, 73, 63, 77, 53, 51, 42, 68], [42, 54, 68, 75, 57, 49, 79, 77, 55, 56, 69, 43, 41, 58, 47, 64, 73, 51, 48, 78, 44, 63, 61, 45, 62, 40, 60, 74, 65, 71, 67, 70, 52, 46, 50, 76, 72, 59, 53, 66], [62, 63, 72, 52, 41, 75, 45, 69, 55, 64, 77, 43, 71, 70, 49, 78, 54, 74, 46, 60, 40, 56, 58, 59, 73, 53, 47, 51, 50, 76, 42, 57, 65, 66, 67, 79, 44, 48, 68, 61], [45, 77, 71, 67, 76, 61, 49, 73, 53, 65, 42, 63, 79, 46, 52, 50, 59, 74, 75, 48, 60, 54, 41, 78, 69, 72, 51, 40, 70, 57, 43, 62, 58, 47, 68, 66, 64, 55, 44, 56], [62, 67, 65, 60, 68, 78, 76, 45, 71, 61, 74, 52, 44, 42, 70, 57, 43, 58, 59, 55, 63, 53, 56, 48, 75, 46, 72, 50, 66, 69, 79, 51, 47, 41, 49, 77, 54, 64, 73, 40], [72, 74, 53, 60, 40, 68, 57, 52, 76, 70, 49, 69, 50, 45, 61, 58, 51, 65, 56, 41, 77, 59, 75, 62, 66, 79, 54, 44, 78, 71, 73, 64, 63, 43, 48, 46, 67, 55, 42, 47], [68, 55, 66, 64, 59, 58, 40, 42, 70, 67, 78, 47, 53, 41, 71, 65, 63, 76, 52, 74, 51, 75, 62, 44, 46, 49, 56, 43, 79, 57, 50, 72, 69, 73, 54, 48, 60, 45, 61, 77], [46, 64, 79, 74, 63, 61, 66, 77, 50, 56, 57, 49, 53, 60, 71, 47, 40, 41, 54, 70, 69, 45, 52, 62, 78, 68, 51, 48, 75, 42, 43, 76, 67, 59, 58, 55, 73, 65, 72, 44]]\n",
            "PreferGirls =  [[33, 13, 16, 34, 6, 32, 37, 27, 14, 20, 26, 25, 29, 17, 30, 31, 11, 39, 24, 19, 2, 0, 5, 22, 23, 21, 1, 8, 28, 12, 36, 9, 4, 10, 38, 7, 35, 15, 3, 18], [36, 15, 0, 6, 31, 19, 28, 38, 22, 26, 2, 21, 29, 12, 10, 34, 14, 8, 11, 7, 17, 35, 39, 1, 30, 9, 4, 16, 13, 3, 27, 18, 20, 25, 32, 23, 37, 33, 24, 5], [7, 27, 24, 23, 25, 10, 28, 26, 17, 18, 2, 29, 8, 22, 11, 3, 4, 35, 37, 1, 16, 19, 20, 38, 36, 32, 14, 34, 15, 31, 12, 9, 21, 0, 39, 6, 13, 5, 33, 30], [37, 10, 32, 28, 22, 15, 0, 39, 3, 16, 18, 6, 25, 5, 9, 4, 27, 7, 12, 19, 2, 24, 30, 20, 8, 38, 17, 11, 1, 34, 21, 29, 35, 26, 23, 31, 36, 33, 13, 14], [18, 31, 7, 25, 38, 19, 22, 30, 37, 23, 35, 6, 14, 3, 5, 27, 15, 17, 8, 11, 10, 26, 32, 33, 39, 36, 1, 0, 2, 24, 34, 12, 16, 29, 4, 13, 9, 20, 28, 21], [27, 16, 12, 0, 22, 17, 30, 29, 15, 19, 36, 1, 2, 3, 24, 20, 39, 32, 5, 23, 37, 14, 28, 11, 35, 26, 10, 4, 21, 13, 7, 18, 34, 31, 25, 33, 9, 6, 38, 8], [8, 37, 26, 17, 13, 29, 16, 27, 0, 35, 19, 31, 24, 4, 38, 3, 10, 23, 18, 7, 11, 15, 28, 6, 2, 1, 30, 20, 39, 34, 32, 36, 5, 22, 33, 9, 12, 14, 21, 25], [10, 21, 24, 1, 14, 2, 25, 31, 28, 6, 18, 38, 22, 13, 30, 29, 27, 19, 9, 37, 11, 15, 39, 20, 33, 23, 34, 0, 3, 5, 26, 36, 16, 4, 8, 12, 32, 7, 35, 17], [11, 35, 36, 28, 27, 21, 22, 6, 4, 13, 2, 15, 9, 1, 37, 33, 16, 29, 26, 30, 38, 12, 5, 24, 20, 23, 19, 8, 32, 7, 18, 31, 14, 0, 17, 25, 39, 34, 3, 10], [25, 36, 15, 37, 9, 21, 38, 13, 5, 34, 31, 2, 16, 35, 6, 12, 17, 24, 3, 29, 1, 19, 14, 7, 26, 0, 8, 33, 20, 30, 10, 4, 28, 32, 18, 39, 23, 27, 22, 11], [36, 37, 33, 3, 23, 15, 17, 1, 31, 11, 10, 39, 38, 29, 4, 22, 27, 8, 12, 34, 25, 2, 16, 5, 21, 9, 14, 19, 18, 26, 24, 20, 0, 6, 7, 13, 28, 32, 35, 30], [6, 3, 7, 36, 16, 35, 22, 0, 21, 4, 27, 26, 19, 8, 24, 13, 31, 23, 37, 18, 29, 39, 17, 9, 30, 14, 28, 38, 15, 20, 25, 11, 34, 5, 33, 12, 32, 1, 2, 10], [27, 21, 11, 1, 7, 15, 6, 22, 8, 32, 3, 5, 31, 23, 14, 39, 36, 2, 28, 16, 33, 24, 13, 38, 4, 30, 35, 26, 18, 25, 17, 9, 19, 10, 12, 0, 20, 37, 29, 34], [4, 2, 16, 18, 7, 28, 25, 37, 34, 30, 22, 33, 21, 9, 6, 11, 27, 0, 5, 1, 23, 13, 32, 24, 31, 10, 17, 19, 36, 20, 3, 38, 8, 15, 14, 29, 39, 35, 26, 12], [34, 33, 4, 11, 26, 6, 7, 15, 0, 29, 36, 28, 18, 9, 39, 27, 35, 13, 1, 38, 8, 20, 14, 24, 17, 31, 37, 32, 21, 25, 12, 23, 3, 10, 22, 16, 2, 5, 30, 19], [11, 4, 27, 8, 7, 38, 22, 39, 14, 1, 31, 28, 6, 19, 10, 25, 9, 29, 36, 15, 21, 35, 18, 5, 24, 16, 3, 2, 34, 23, 0, 17, 32, 12, 20, 30, 13, 33, 26, 37], [22, 31, 26, 32, 34, 36, 37, 18, 19, 11, 39, 15, 24, 14, 23, 28, 9, 3, 8, 0, 21, 6, 4, 17, 27, 20, 7, 35, 2, 13, 29, 25, 33, 30, 10, 12, 1, 16, 38, 5], [23, 30, 27, 8, 21, 34, 12, 24, 3, 39, 20, 7, 37, 17, 4, 15, 9, 25, 19, 28, 31, 22, 29, 38, 18, 10, 1, 33, 11, 16, 2, 14, 36, 5, 13, 6, 35, 26, 0, 32], [4, 23, 39, 28, 19, 35, 31, 29, 14, 5, 34, 10, 2, 22, 32, 18, 17, 6, 38, 12, 20, 3, 27, 0, 1, 36, 11, 24, 26, 15, 9, 33, 8, 25, 16, 7, 37, 21, 13, 30], [32, 35, 3, 24, 6, 30, 18, 27, 29, 2, 20, 9, 13, 8, 4, 39, 5, 37, 11, 34, 10, 36, 31, 19, 15, 25, 38, 33, 7, 21, 23, 0, 22, 12, 28, 14, 16, 17, 1, 26], [37, 14, 4, 5, 19, 0, 20, 7, 6, 11, 29, 2, 38, 31, 12, 39, 32, 25, 35, 13, 22, 30, 26, 1, 10, 27, 15, 21, 33, 36, 23, 16, 34, 24, 18, 9, 8, 17, 28, 3], [3, 25, 21, 13, 38, 37, 39, 0, 15, 34, 30, 14, 18, 26, 10, 19, 8, 24, 31, 2, 16, 5, 12, 32, 6, 11, 7, 22, 20, 27, 9, 28, 23, 35, 4, 17, 33, 29, 1, 36], [15, 1, 14, 4, 12, 34, 25, 3, 29, 33, 39, 11, 32, 0, 2, 9, 31, 21, 36, 10, 26, 23, 30, 20, 8, 37, 7, 5, 6, 38, 28, 13, 18, 19, 27, 17, 22, 35, 16, 24], [32, 3, 16, 20, 22, 13, 10, 8, 30, 17, 11, 31, 2, 6, 36, 28, 9, 35, 38, 23, 1, 21, 14, 19, 7, 33, 39, 25, 24, 27, 29, 34, 37, 15, 4, 0, 5, 26, 18, 12], [14, 26, 28, 9, 18, 3, 1, 13, 32, 39, 12, 36, 23, 10, 4, 35, 24, 33, 34, 5, 37, 25, 7, 19, 0, 21, 2, 22, 31, 29, 6, 8, 17, 16, 15, 38, 30, 27, 11, 20], [39, 32, 31, 18, 11, 15, 4, 7, 23, 26, 19, 37, 20, 29, 2, 24, 16, 25, 33, 17, 13, 30, 1, 8, 36, 34, 22, 9, 35, 38, 12, 21, 28, 0, 5, 3, 6, 27, 14, 10], [28, 19, 27, 16, 12, 36, 11, 10, 38, 32, 14, 29, 0, 20, 3, 23, 6, 35, 34, 22, 17, 39, 8, 37, 4, 1, 31, 26, 15, 7, 24, 33, 2, 9, 21, 5, 13, 30, 18, 25], [24, 8, 26, 7, 18, 31, 36, 9, 22, 35, 29, 14, 1, 23, 37, 39, 4, 20, 34, 6, 0, 15, 12, 21, 3, 27, 10, 17, 25, 16, 38, 33, 11, 13, 32, 28, 19, 30, 2, 5], [11, 8, 32, 17, 36, 29, 33, 14, 19, 1, 31, 9, 21, 34, 0, 30, 7, 18, 38, 6, 25, 16, 28, 23, 27, 22, 15, 26, 5, 37, 2, 10, 35, 4, 20, 3, 13, 39, 12, 24], [1, 11, 25, 33, 17, 13, 30, 0, 23, 3, 36, 18, 16, 15, 14, 38, 29, 2, 4, 24, 8, 37, 27, 26, 22, 21, 28, 7, 39, 32, 34, 12, 5, 19, 31, 10, 35, 6, 9, 20], [4, 29, 16, 25, 30, 0, 12, 17, 9, 31, 1, 18, 22, 15, 2, 10, 36, 5, 35, 20, 33, 6, 32, 7, 26, 3, 14, 38, 28, 27, 19, 21, 8, 11, 23, 39, 37, 34, 13, 24], [17, 37, 28, 22, 34, 5, 8, 30, 7, 15, 0, 38, 2, 12, 35, 32, 26, 20, 6, 11, 31, 3, 9, 4, 27, 29, 10, 13, 19, 1, 18, 21, 16, 39, 24, 36, 25, 23, 33, 14], [9, 7, 35, 18, 20, 3, 23, 34, 15, 29, 37, 38, 4, 28, 6, 8, 39, 10, 24, 2, 36, 16, 14, 1, 11, 32, 33, 30, 22, 25, 5, 31, 27, 13, 21, 17, 12, 0, 26, 19], [7, 12, 24, 15, 1, 18, 6, 36, 17, 39, 8, 21, 3, 20, 23, 35, 0, 16, 9, 11, 37, 10, 22, 30, 33, 13, 14, 2, 29, 5, 25, 28, 19, 34, 27, 4, 26, 31, 38, 32], [35, 15, 32, 0, 1, 22, 9, 5, 20, 8, 27, 19, 26, 25, 37, 31, 18, 28, 23, 16, 24, 39, 38, 4, 6, 36, 12, 17, 30, 21, 2, 34, 29, 13, 10, 14, 3, 33, 11, 7], [37, 31, 7, 32, 26, 2, 8, 35, 22, 3, 19, 25, 23, 21, 30, 27, 28, 24, 29, 5, 17, 34, 18, 1, 0, 6, 15, 20, 10, 16, 39, 4, 36, 38, 9, 12, 11, 14, 33, 13], [30, 4, 12, 36, 14, 34, 9, 26, 39, 5, 37, 35, 0, 22, 20, 8, 19, 27, 29, 28, 31, 21, 10, 7, 16, 18, 38, 25, 23, 11, 3, 15, 1, 17, 32, 2, 13, 24, 6, 33], [4, 38, 26, 25, 15, 19, 29, 6, 0, 10, 39, 14, 13, 21, 36, 5, 24, 11, 27, 17, 12, 9, 7, 22, 2, 1, 30, 32, 37, 3, 35, 31, 16, 33, 23, 34, 18, 28, 20, 8], [19, 3, 35, 11, 21, 16, 32, 7, 5, 27, 18, 20, 14, 30, 34, 23, 36, 13, 33, 29, 2, 0, 39, 12, 37, 28, 25, 9, 31, 17, 24, 8, 22, 26, 6, 15, 10, 38, 1, 4], [1, 5, 0, 13, 3, 8, 11, 27, 36, 18, 12, 35, 39, 26, 25, 7, 34, 17, 16, 20, 23, 14, 30, 37, 24, 28, 9, 29, 15, 19, 32, 22, 21, 2, 38, 10, 6, 4, 31, 33]]\n",
            "Woman   Man\n",
            "40 \t 14\n",
            "41 \t 26\n",
            "42 \t 2\n",
            "43 \t 8\n",
            "44 \t 25\n",
            "45 \t 27\n",
            "46 \t 0\n",
            "47 \t 30\n",
            "48 \t 6\n",
            "49 \t 16\n",
            "50 \t 1\n",
            "51 \t 29\n",
            "52 \t 5\n",
            "53 \t 7\n",
            "54 \t 33\n",
            "55 \t 31\n",
            "56 \t 13\n",
            "57 \t 19\n",
            "58 \t 23\n",
            "59 \t 3\n",
            "60 \t 32\n",
            "61 \t 21\n",
            "62 \t 34\n",
            "63 \t 18\n",
            "64 \t 39\n",
            "65 \t 22\n",
            "66 \t 28\n",
            "67 \t 36\n",
            "68 \t 38\n",
            "69 \t 20\n",
            "70 \t 4\n",
            "71 \t 12\n",
            "72 \t 37\n",
            "73 \t 24\n",
            "74 \t 15\n",
            "75 \t 10\n",
            "76 \t 9\n",
            "77 \t 35\n",
            "78 \t 11\n",
            "79 \t 17\n",
            "CPU times: user 3 µs, sys: 0 ns, total: 3 µs\n",
            "Wall time: 5.48 µs\n"
          ],
          "name": "stdout"
        }
      ]
    },
    {
      "cell_type": "code",
      "metadata": {
        "colab": {
          "base_uri": "https://localhost:8080/"
        },
        "id": "Efo0lvSiuQ-r",
        "outputId": "2485aed4-29b7-4041-ed2b-1e1088c4be16"
      },
      "source": [
        "print(timer[2])\n",
        "preferMens=prefer[2][:N]\n",
        "preferGirls=prefer[2][N:]\n",
        "\n",
        "print(\"PreferBoys = \",preferMens)\n",
        "print(\"PreferGirls = \",preferGirls)\n",
        "stableMarriage2(prefer[2])\n",
        "%time"
      ],
      "execution_count": 16,
      "outputs": [
        {
          "output_type": "stream",
          "text": [
            "0.0002422332763671875\n",
            "PreferBoys =  [[59, 53, 58, 57, 64, 79, 61, 42, 43, 48, 51, 76, 72, 75, 67, 66, 47, 45, 44, 40, 46, 50, 77, 41, 69, 78, 74, 68, 60, 63, 49, 73, 55, 65, 71, 62, 70, 52, 56, 54], [48, 43, 56, 74, 77, 59, 68, 49, 70, 41, 79, 78, 46, 55, 64, 63, 42, 51, 50, 47, 75, 58, 67, 40, 76, 71, 73, 61, 62, 66, 44, 69, 52, 60, 72, 54, 57, 53, 45, 65], [40, 56, 71, 68, 60, 73, 61, 50, 64, 69, 76, 79, 52, 41, 46, 77, 65, 75, 72, 54, 47, 63, 43, 74, 48, 49, 59, 44, 57, 70, 55, 53, 58, 42, 78, 66, 51, 67, 45, 62], [40, 64, 54, 42, 79, 52, 62, 49, 45, 70, 53, 78, 43, 63, 61, 77, 66, 41, 72, 65, 76, 46, 69, 50, 75, 56, 55, 48, 73, 59, 44, 67, 58, 68, 60, 74, 51, 47, 71, 57], [69, 58, 47, 41, 77, 60, 43, 44, 55, 65, 54, 42, 70, 71, 56, 63, 78, 64, 48, 79, 72, 57, 50, 67, 51, 74, 49, 59, 53, 45, 62, 68, 75, 46, 61, 73, 52, 66, 40, 76], [74, 54, 50, 70, 76, 57, 72, 53, 77, 65, 63, 44, 52, 75, 43, 64, 59, 51, 42, 55, 48, 78, 45, 61, 46, 68, 40, 49, 41, 66, 60, 73, 69, 79, 67, 62, 47, 58, 56, 71], [48, 62, 56, 71, 67, 72, 46, 49, 41, 42, 50, 78, 59, 43, 70, 66, 65, 55, 47, 73, 45, 61, 64, 53, 54, 63, 76, 44, 40, 79, 68, 69, 52, 75, 51, 77, 60, 74, 57, 58], [43, 66, 61, 56, 53, 57, 62, 49, 58, 52, 44, 47, 74, 59, 45, 71, 72, 60, 68, 77, 78, 40, 48, 55, 76, 63, 50, 75, 70, 46, 64, 41, 79, 65, 51, 73, 69, 67, 54, 42], [58, 64, 52, 61, 77, 72, 63, 66, 65, 68, 79, 44, 54, 78, 49, 51, 41, 45, 43, 59, 69, 53, 46, 67, 50, 70, 73, 48, 55, 74, 62, 56, 40, 71, 75, 47, 42, 60, 57, 76], [45, 52, 56, 61, 55, 44, 49, 48, 54, 53, 76, 59, 69, 67, 43, 68, 71, 62, 77, 63, 57, 51, 46, 64, 74, 73, 75, 70, 78, 65, 42, 40, 41, 47, 72, 79, 50, 58, 66, 60], [63, 48, 42, 41, 59, 47, 62, 64, 45, 73, 44, 57, 70, 68, 72, 56, 61, 76, 69, 79, 51, 67, 46, 77, 66, 75, 49, 60, 55, 50, 43, 78, 58, 54, 40, 74, 52, 65, 71, 53], [54, 55, 49, 78, 59, 62, 65, 50, 76, 41, 51, 44, 58, 67, 45, 48, 61, 43, 40, 42, 70, 71, 72, 53, 60, 68, 66, 77, 79, 52, 56, 57, 69, 47, 63, 73, 75, 46, 64, 74], [49, 44, 53, 50, 66, 47, 72, 56, 73, 62, 41, 68, 43, 69, 55, 65, 71, 40, 74, 76, 45, 52, 42, 77, 46, 79, 54, 60, 67, 78, 70, 48, 61, 59, 51, 75, 63, 57, 64, 58], [58, 78, 59, 75, 79, 44, 68, 57, 67, 51, 71, 56, 60, 49, 52, 53, 64, 69, 42, 65, 76, 63, 40, 48, 70, 55, 46, 41, 47, 50, 77, 72, 43, 73, 74, 45, 66, 62, 54, 61], [76, 51, 46, 78, 77, 40, 65, 55, 63, 53, 67, 57, 74, 60, 73, 47, 64, 42, 43, 75, 62, 66, 68, 59, 79, 54, 72, 50, 71, 44, 61, 41, 70, 58, 56, 48, 49, 45, 52, 69], [59, 55, 44, 58, 45, 49, 43, 53, 72, 48, 42, 54, 74, 62, 70, 47, 73, 69, 68, 61, 77, 75, 50, 76, 56, 40, 46, 57, 41, 67, 51, 78, 71, 66, 63, 52, 64, 65, 60, 79], [65, 67, 76, 63, 66, 46, 79, 64, 71, 52, 43, 54, 59, 45, 51, 42, 57, 68, 58, 75, 53, 60, 47, 44, 70, 56, 49, 78, 48, 73, 74, 41, 55, 72, 40, 61, 77, 62, 50, 69], [48, 74, 41, 72, 45, 61, 51, 68, 73, 50, 54, 63, 58, 43, 49, 76, 64, 75, 65, 62, 47, 79, 52, 69, 56, 44, 77, 42, 67, 46, 71, 40, 55, 60, 66, 59, 57, 70, 53, 78], [70, 61, 54, 71, 56, 79, 62, 66, 58, 69, 63, 68, 75, 64, 77, 55, 78, 43, 42, 50, 46, 67, 53, 47, 40, 65, 41, 72, 60, 52, 51, 76, 74, 73, 45, 49, 59, 44, 57, 48], [61, 72, 40, 69, 46, 76, 73, 54, 71, 66, 65, 53, 45, 58, 55, 49, 68, 63, 64, 67, 48, 60, 79, 47, 74, 44, 70, 75, 43, 51, 78, 62, 77, 59, 57, 42, 50, 41, 52, 56], [40, 53, 62, 63, 72, 43, 76, 73, 79, 59, 52, 57, 50, 46, 71, 64, 58, 45, 66, 51, 67, 70, 47, 44, 55, 78, 49, 54, 69, 74, 48, 56, 41, 65, 77, 61, 68, 42, 75, 60], [54, 78, 79, 77, 71, 59, 46, 43, 55, 48, 62, 52, 74, 45, 51, 49, 57, 68, 41, 56, 66, 53, 60, 72, 63, 65, 75, 44, 73, 67, 69, 40, 42, 61, 50, 58, 64, 70, 47, 76], [69, 76, 48, 41, 49, 54, 56, 72, 77, 71, 47, 74, 59, 73, 79, 44, 62, 78, 68, 64, 43, 52, 75, 51, 53, 70, 46, 55, 45, 67, 40, 65, 42, 60, 66, 63, 58, 57, 61, 50], [62, 71, 58, 75, 50, 44, 47, 59, 54, 56, 67, 52, 42, 40, 77, 74, 61, 51, 72, 79, 66, 43, 55, 46, 69, 68, 57, 73, 45, 64, 76, 60, 65, 53, 41, 78, 63, 70, 49, 48], [76, 73, 59, 62, 68, 65, 54, 46, 64, 71, 41, 52, 67, 40, 51, 75, 70, 42, 47, 58, 50, 69, 63, 72, 43, 61, 57, 79, 53, 56, 55, 45, 78, 48, 77, 44, 66, 74, 60, 49], [53, 65, 66, 75, 57, 70, 44, 67, 55, 74, 47, 77, 68, 79, 45, 72, 51, 61, 63, 60, 58, 73, 56, 71, 59, 78, 41, 49, 76, 69, 40, 42, 52, 62, 43, 46, 64, 54, 48, 50], [42, 55, 63, 41, 56, 49, 64, 45, 50, 51, 65, 58, 61, 68, 53, 44, 79, 67, 62, 75, 48, 54, 47, 72, 66, 59, 73, 43, 70, 40, 71, 69, 76, 52, 77, 74, 78, 57, 60, 46], [48, 79, 53, 69, 74, 70, 63, 42, 46, 51, 41, 61, 65, 64, 72, 54, 47, 40, 62, 49, 75, 58, 59, 60, 67, 57, 76, 44, 55, 45, 71, 78, 50, 68, 77, 52, 73, 66, 43, 56], [50, 43, 42, 58, 41, 64, 66, 56, 65, 74, 44, 73, 62, 47, 70, 68, 76, 51, 53, 63, 72, 67, 79, 77, 49, 75, 57, 59, 45, 40, 78, 61, 52, 55, 54, 71, 69, 46, 48, 60], [62, 47, 71, 78, 63, 58, 64, 40, 75, 50, 48, 65, 42, 61, 77, 74, 72, 55, 57, 53, 41, 52, 46, 70, 44, 67, 59, 60, 56, 69, 79, 49, 76, 43, 45, 73, 66, 54, 68, 51], [77, 53, 44, 57, 58, 71, 79, 60, 42, 51, 76, 50, 45, 47, 75, 78, 67, 73, 46, 72, 61, 68, 70, 52, 69, 64, 65, 62, 55, 49, 63, 66, 41, 43, 40, 54, 59, 48, 56, 74], [65, 78, 71, 64, 58, 74, 60, 61, 69, 40, 53, 54, 57, 76, 56, 55, 70, 44, 49, 73, 59, 47, 72, 66, 45, 62, 67, 46, 79, 77, 51, 43, 75, 42, 63, 50, 48, 68, 41, 52], [58, 66, 74, 55, 56, 47, 40, 70, 51, 52, 67, 60, 68, 49, 43, 72, 62, 57, 41, 73, 46, 48, 71, 44, 50, 76, 79, 63, 65, 42, 78, 59, 77, 61, 54, 64, 69, 53, 75, 45], [59, 68, 50, 61, 74, 43, 48, 40, 57, 64, 67, 56, 76, 62, 75, 44, 79, 60, 71, 72, 78, 66, 77, 63, 58, 51, 49, 41, 53, 73, 54, 55, 52, 70, 45, 65, 69, 42, 46, 47], [59, 72, 54, 60, 49, 74, 67, 44, 65, 73, 47, 56, 41, 75, 61, 42, 79, 52, 62, 78, 40, 68, 55, 63, 71, 43, 45, 48, 76, 58, 50, 69, 53, 77, 57, 66, 51, 46, 64, 70], [56, 76, 73, 59, 54, 44, 52, 75, 74, 60, 47, 79, 41, 65, 40, 43, 57, 69, 72, 58, 66, 78, 62, 45, 77, 42, 48, 55, 70, 67, 49, 53, 64, 46, 51, 68, 50, 61, 63, 71], [54, 49, 74, 46, 48, 42, 61, 56, 65, 47, 40, 68, 66, 71, 63, 72, 44, 60, 79, 53, 43, 78, 41, 51, 73, 59, 76, 67, 45, 62, 75, 69, 64, 50, 77, 70, 55, 57, 58, 52], [69, 67, 42, 45, 52, 66, 41, 57, 71, 46, 63, 77, 68, 48, 70, 53, 64, 72, 47, 76, 51, 49, 79, 55, 58, 61, 54, 60, 50, 62, 40, 44, 56, 65, 43, 78, 59, 73, 74, 75], [53, 43, 50, 78, 48, 44, 75, 47, 54, 79, 51, 67, 52, 72, 46, 60, 70, 77, 61, 71, 64, 74, 66, 62, 45, 73, 55, 40, 41, 65, 59, 68, 57, 49, 56, 63, 76, 42, 69, 58], [77, 43, 46, 56, 63, 48, 55, 76, 42, 47, 54, 51, 40, 44, 59, 41, 57, 64, 60, 69, 70, 65, 72, 73, 52, 53, 50, 68, 45, 58, 61, 75, 79, 78, 67, 49, 71, 62, 74, 66]]\n",
            "PreferGirls =  [[22, 31, 35, 16, 4, 14, 37, 32, 2, 24, 11, 12, 33, 36, 8, 29, 21, 18, 9, 0, 26, 13, 38, 10, 7, 6, 20, 30, 5, 15, 3, 17, 28, 34, 27, 19, 1, 23, 25, 39], [35, 27, 10, 30, 15, 39, 37, 26, 8, 13, 29, 11, 7, 21, 4, 6, 36, 19, 18, 9, 20, 34, 12, 24, 17, 32, 28, 23, 14, 22, 3, 38, 5, 0, 16, 1, 2, 31, 25, 33], [33, 8, 31, 39, 11, 21, 6, 9, 23, 17, 25, 14, 16, 5, 10, 20, 38, 26, 12, 2, 0, 7, 36, 3, 35, 34, 32, 29, 22, 30, 1, 27, 24, 4, 15, 28, 13, 18, 19, 37], [20, 1, 23, 19, 35, 31, 9, 28, 29, 39, 38, 8, 22, 12, 37, 25, 6, 7, 10, 33, 26, 17, 36, 2, 15, 30, 11, 3, 0, 18, 21, 24, 13, 27, 5, 32, 34, 14, 4, 16], [25, 18, 8, 0, 17, 15, 3, 21, 28, 11, 36, 9, 13, 26, 2, 37, 33, 30, 6, 27, 19, 10, 24, 31, 38, 4, 1, 35, 23, 16, 39, 32, 20, 22, 12, 5, 34, 14, 7, 29], [18, 33, 16, 3, 11, 4, 13, 27, 17, 10, 8, 20, 0, 25, 1, 19, 7, 34, 14, 29, 23, 5, 35, 2, 37, 15, 36, 21, 26, 12, 31, 6, 22, 24, 38, 30, 39, 28, 9, 32], [37, 34, 25, 33, 8, 4, 12, 3, 6, 35, 36, 2, 27, 10, 30, 31, 16, 22, 39, 23, 28, 0, 20, 21, 24, 26, 19, 11, 38, 14, 13, 32, 18, 17, 9, 29, 7, 5, 1, 15], [26, 36, 8, 30, 39, 23, 34, 5, 29, 32, 33, 3, 16, 24, 18, 19, 35, 27, 31, 21, 37, 7, 20, 11, 10, 14, 12, 4, 0, 1, 38, 25, 6, 15, 28, 2, 17, 9, 13, 22], [20, 23, 5, 4, 0, 15, 38, 35, 39, 13, 12, 19, 25, 17, 34, 32, 16, 30, 11, 6, 14, 28, 21, 22, 37, 3, 33, 7, 31, 29, 9, 24, 18, 36, 2, 8, 27, 10, 26, 1], [5, 2, 15, 9, 29, 31, 33, 10, 17, 28, 6, 3, 23, 35, 16, 0, 24, 39, 7, 36, 34, 19, 37, 25, 26, 14, 13, 20, 18, 4, 1, 11, 27, 38, 8, 30, 21, 22, 32, 12], [19, 3, 16, 26, 7, 4, 35, 39, 29, 9, 18, 32, 8, 20, 22, 13, 38, 12, 28, 36, 23, 15, 0, 25, 37, 33, 11, 2, 30, 27, 17, 5, 34, 24, 21, 31, 10, 6, 1, 14], [22, 9, 0, 39, 19, 4, 3, 34, 38, 31, 13, 16, 12, 8, 36, 33, 18, 27, 11, 7, 32, 15, 23, 30, 2, 26, 17, 37, 5, 35, 14, 10, 25, 20, 29, 6, 1, 28, 21, 24], [21, 7, 2, 19, 3, 6, 16, 31, 39, 25, 37, 13, 32, 35, 20, 28, 22, 12, 9, 14, 1, 17, 15, 0, 27, 4, 26, 36, 38, 33, 8, 34, 29, 18, 5, 11, 23, 24, 30, 10], [33, 28, 32, 9, 37, 25, 14, 24, 18, 29, 21, 6, 34, 16, 15, 8, 13, 5, 7, 26, 12, 11, 3, 27, 20, 17, 39, 31, 38, 23, 0, 1, 4, 30, 10, 35, 22, 19, 2, 36], [21, 19, 13, 32, 23, 28, 36, 22, 0, 30, 39, 24, 9, 10, 1, 20, 29, 11, 18, 17, 26, 35, 2, 14, 7, 3, 25, 12, 8, 33, 27, 5, 38, 16, 37, 4, 15, 31, 6, 34], [35, 38, 33, 19, 30, 25, 39, 17, 15, 2, 11, 7, 5, 3, 21, 23, 36, 12, 9, 20, 31, 29, 1, 6, 4, 28, 32, 8, 37, 10, 13, 16, 27, 0, 34, 22, 24, 14, 26, 18], [4, 21, 2, 3, 37, 18, 29, 34, 8, 15, 22, 23, 33, 5, 35, 10, 26, 36, 24, 12, 38, 7, 30, 31, 27, 16, 6, 17, 28, 25, 13, 32, 1, 19, 14, 0, 11, 9, 20, 39], [25, 19, 32, 20, 3, 6, 13, 22, 0, 17, 4, 8, 1, 35, 23, 16, 11, 18, 7, 24, 26, 36, 5, 21, 29, 34, 30, 31, 28, 39, 15, 33, 38, 27, 10, 12, 2, 14, 9, 37], [17, 8, 30, 11, 32, 10, 18, 16, 24, 38, 27, 1, 33, 39, 7, 36, 3, 29, 22, 12, 25, 0, 4, 37, 14, 19, 2, 6, 13, 34, 31, 21, 20, 26, 9, 28, 5, 15, 23, 35], [16, 37, 5, 24, 19, 6, 23, 8, 35, 14, 1, 28, 18, 15, 39, 0, 21, 9, 26, 2, 10, 7, 12, 30, 31, 20, 4, 33, 22, 13, 38, 11, 27, 29, 3, 17, 34, 32, 36, 25], [20, 15, 9, 11, 35, 26, 30, 4, 39, 3, 13, 29, 25, 21, 16, 24, 33, 6, 19, 31, 32, 14, 37, 17, 28, 10, 12, 2, 27, 38, 18, 7, 34, 36, 22, 1, 23, 8, 5, 0], [6, 26, 3, 5, 15, 23, 31, 14, 19, 32, 39, 1, 2, 20, 9, 8, 12, 28, 33, 25, 4, 17, 29, 30, 21, 37, 24, 13, 10, 0, 11, 38, 22, 35, 34, 7, 36, 18, 16, 27], [5, 36, 18, 3, 6, 13, 31, 22, 30, 26, 1, 2, 9, 29, 17, 15, 35, 38, 20, 34, 33, 10, 23, 11, 24, 19, 25, 21, 12, 39, 27, 14, 7, 16, 8, 4, 28, 37, 32, 0], [6, 39, 28, 35, 4, 13, 10, 14, 25, 19, 37, 11, 22, 9, 17, 24, 20, 5, 30, 18, 0, 38, 8, 23, 34, 21, 36, 26, 16, 33, 12, 31, 1, 15, 7, 2, 32, 29, 3, 27], [5, 38, 25, 4, 39, 16, 7, 29, 1, 37, 19, 32, 36, 20, 27, 34, 22, 3, 24, 6, 31, 15, 17, 8, 28, 9, 26, 13, 14, 2, 11, 21, 23, 30, 33, 0, 18, 12, 10, 35], [16, 14, 33, 15, 9, 39, 17, 26, 8, 37, 10, 1, 11, 6, 4, 19, 32, 3, 18, 0, 23, 30, 5, 29, 2, 12, 34, 13, 28, 7, 22, 35, 38, 27, 36, 25, 24, 21, 20, 31], [30, 6, 19, 11, 31, 15, 27, 9, 37, 2, 24, 23, 26, 13, 29, 7, 20, 25, 0, 32, 18, 16, 1, 33, 10, 22, 34, 28, 21, 14, 3, 12, 39, 35, 4, 8, 36, 17, 5, 38], [23, 18, 2, 10, 28, 17, 24, 14, 20, 35, 5, 32, 21, 9, 37, 11, 22, 3, 27, 4, 31, 26, 39, 15, 19, 8, 36, 1, 33, 7, 25, 38, 0, 29, 13, 12, 16, 34, 6, 30], [33, 27, 16, 22, 8, 35, 30, 14, 17, 38, 18, 24, 19, 12, 15, 20, 5, 3, 28, 2, 21, 31, 29, 39, 0, 23, 32, 4, 11, 37, 6, 9, 7, 13, 36, 10, 26, 1, 34, 25], [13, 28, 2, 8, 16, 30, 22, 3, 18, 14, 36, 15, 39, 23, 38, 35, 19, 21, 5, 20, 26, 27, 33, 0, 1, 4, 7, 25, 6, 9, 11, 34, 31, 29, 10, 32, 12, 17, 24, 37], [29, 18, 1, 30, 8, 12, 13, 14, 6, 27, 25, 7, 2, 24, 15, 5, 39, 19, 20, 33, 26, 22, 23, 11, 3, 38, 9, 37, 28, 31, 16, 34, 0, 17, 10, 35, 36, 32, 21, 4], [20, 14, 6, 0, 21, 26, 39, 27, 38, 17, 22, 29, 7, 8, 18, 30, 35, 33, 4, 31, 32, 12, 15, 37, 36, 24, 2, 11, 25, 23, 5, 10, 1, 9, 3, 28, 16, 13, 34, 19], [26, 0, 20, 35, 22, 32, 11, 16, 29, 4, 31, 14, 38, 3, 15, 21, 37, 2, 28, 12, 33, 18, 25, 8, 5, 9, 34, 23, 1, 13, 24, 27, 7, 30, 10, 39, 36, 17, 19, 6], [33, 37, 22, 9, 30, 11, 24, 32, 31, 39, 16, 35, 18, 25, 2, 28, 29, 0, 14, 4, 38, 1, 19, 13, 8, 12, 6, 7, 3, 17, 26, 5, 36, 15, 20, 27, 34, 23, 21, 10], [9, 0, 25, 39, 5, 38, 1, 37, 3, 16, 22, 6, 28, 13, 19, 12, 27, 14, 2, 15, 24, 20, 32, 35, 33, 36, 31, 11, 4, 21, 30, 34, 18, 8, 17, 7, 26, 29, 23, 10], [38, 10, 24, 26, 13, 3, 6, 23, 30, 22, 21, 2, 4, 5, 20, 16, 12, 34, 33, 19, 31, 17, 1, 29, 35, 32, 36, 0, 14, 9, 25, 28, 27, 11, 37, 18, 15, 8, 7, 39], [9, 24, 14, 39, 34, 25, 8, 3, 36, 20, 17, 33, 35, 29, 22, 0, 38, 23, 27, 15, 5, 21, 11, 13, 6, 10, 7, 31, 26, 28, 32, 4, 30, 16, 37, 12, 18, 19, 1, 2], [5, 3, 26, 27, 7, 37, 25, 8, 21, 30, 0, 36, 9, 38, 4, 2, 31, 15, 29, 20, 34, 22, 23, 16, 10, 19, 12, 35, 18, 33, 11, 1, 28, 24, 13, 14, 39, 6, 32, 17], [32, 20, 19, 14, 15, 29, 30, 35, 3, 38, 5, 22, 2, 21, 33, 11, 36, 16, 0, 13, 25, 4, 26, 24, 1, 27, 7, 12, 17, 37, 39, 9, 6, 18, 34, 28, 31, 23, 8, 10], [39, 32, 34, 13, 3, 11, 18, 20, 24, 25, 38, 1, 29, 16, 27, 26, 23, 19, 5, 35, 0, 30, 21, 10, 8, 12, 9, 4, 2, 28, 15, 14, 22, 37, 6, 33, 7, 36, 17, 31]]\n",
            "Woman   Man\n",
            "40 \t 32\n",
            "41 \t 4\n",
            "42 \t 26\n",
            "43 \t 1\n",
            "44 \t 28\n",
            "45 \t 12\n",
            "46 \t 39\n",
            "47 \t 29\n",
            "48 \t 17\n",
            "49 \t 36\n",
            "50 \t 38\n",
            "51 \t 14\n",
            "52 \t 9\n",
            "53 \t 25\n",
            "54 \t 21\n",
            "55 \t 11\n",
            "56 \t 2\n",
            "57 \t 0\n",
            "58 \t 8\n",
            "59 \t 15\n",
            "60 \t 34\n",
            "61 \t 19\n",
            "62 \t 6\n",
            "63 \t 10\n",
            "64 \t 3\n",
            "65 \t 16\n",
            "66 \t 7\n",
            "67 \t 37\n",
            "68 \t 33\n",
            "69 \t 22\n",
            "70 \t 18\n",
            "71 \t 31\n",
            "72 \t 20\n",
            "73 \t 35\n",
            "74 \t 5\n",
            "75 \t 23\n",
            "76 \t 24\n",
            "77 \t 30\n",
            "78 \t 13\n",
            "79 \t 27\n",
            "CPU times: user 3 µs, sys: 0 ns, total: 3 µs\n",
            "Wall time: 6.91 µs\n"
          ],
          "name": "stdout"
        }
      ]
    },
    {
      "cell_type": "markdown",
      "metadata": {
        "id": "JLDxiicguYDw"
      },
      "source": [
        "*Peores tiempos para N=40*"
      ]
    },
    {
      "cell_type": "code",
      "metadata": {
        "colab": {
          "base_uri": "https://localhost:8080/"
        },
        "id": "ivehLF5vumYI",
        "outputId": "31b9dbed-589a-49e7-d03a-9f1365abd17f"
      },
      "source": [
        "print(timer[3])\n",
        "preferMens=prefer[3][:N]\n",
        "preferGirls=prefer[3][N:]\n",
        "\n",
        "print(\"PreferBoys = \",preferMens)\n",
        "print(\"PreferGirls = \",preferGirls)\n",
        "stableMarriage2(prefer[3])\n",
        "%time"
      ],
      "execution_count": 17,
      "outputs": [
        {
          "output_type": "stream",
          "text": [
            "0.0026383399963378906\n",
            "PreferBoys =  [[75, 68, 56, 52, 71, 70, 69, 63, 42, 51, 45, 72, 62, 78, 73, 55, 77, 48, 66, 60, 59, 50, 79, 74, 57, 46, 64, 53, 65, 58, 67, 54, 41, 76, 61, 44, 49, 43, 40, 47], [40, 45, 47, 73, 54, 69, 76, 70, 63, 71, 74, 44, 66, 48, 42, 60, 61, 41, 46, 78, 64, 53, 75, 68, 79, 72, 50, 43, 57, 67, 65, 77, 56, 51, 58, 49, 55, 59, 62, 52], [57, 52, 44, 77, 70, 53, 40, 55, 65, 46, 50, 63, 43, 74, 67, 59, 56, 78, 48, 47, 51, 49, 68, 66, 79, 72, 41, 75, 54, 76, 64, 69, 73, 42, 58, 45, 62, 60, 61, 71], [70, 64, 75, 44, 68, 42, 51, 45, 65, 48, 40, 71, 66, 53, 73, 72, 43, 46, 76, 47, 57, 77, 60, 49, 41, 54, 52, 56, 63, 61, 59, 67, 62, 79, 78, 69, 50, 58, 55, 74], [48, 58, 51, 43, 75, 45, 62, 52, 76, 73, 41, 46, 74, 54, 71, 65, 69, 55, 64, 53, 42, 47, 78, 56, 77, 57, 70, 61, 59, 49, 67, 63, 40, 66, 72, 50, 68, 44, 79, 60], [66, 75, 61, 78, 69, 41, 62, 55, 49, 57, 77, 43, 54, 60, 53, 56, 74, 52, 72, 51, 64, 63, 46, 58, 65, 47, 50, 48, 45, 40, 44, 71, 67, 76, 79, 59, 73, 70, 68, 42], [45, 41, 70, 62, 43, 48, 54, 71, 69, 56, 67, 53, 68, 40, 64, 66, 76, 44, 72, 65, 42, 79, 57, 47, 59, 63, 78, 58, 51, 74, 73, 46, 50, 61, 60, 77, 49, 75, 52, 55], [41, 77, 75, 58, 49, 64, 47, 65, 51, 73, 60, 44, 46, 69, 45, 54, 55, 74, 52, 40, 43, 71, 70, 63, 79, 68, 62, 57, 66, 48, 50, 42, 53, 78, 67, 59, 72, 76, 56, 61], [51, 58, 53, 48, 60, 43, 75, 47, 66, 56, 74, 55, 45, 61, 40, 72, 63, 54, 71, 68, 42, 73, 46, 70, 50, 57, 64, 67, 44, 69, 62, 59, 49, 78, 65, 52, 41, 76, 77, 79], [40, 72, 45, 41, 77, 64, 71, 69, 57, 74, 65, 56, 60, 48, 66, 62, 68, 44, 70, 58, 51, 79, 61, 42, 54, 50, 49, 46, 73, 63, 76, 53, 59, 75, 47, 52, 67, 43, 55, 78], [53, 44, 47, 79, 45, 54, 40, 42, 46, 76, 70, 51, 41, 62, 72, 67, 78, 50, 43, 69, 52, 48, 57, 55, 66, 75, 60, 77, 59, 73, 64, 71, 56, 49, 58, 68, 63, 65, 61, 74], [57, 60, 51, 72, 62, 59, 66, 71, 76, 63, 79, 65, 47, 70, 67, 55, 49, 50, 75, 68, 61, 54, 69, 53, 40, 42, 44, 73, 78, 45, 74, 43, 48, 58, 64, 56, 52, 46, 77, 41], [50, 45, 71, 56, 78, 70, 52, 68, 57, 60, 47, 49, 43, 66, 46, 55, 72, 59, 44, 58, 77, 63, 53, 40, 79, 73, 62, 76, 65, 64, 54, 74, 61, 75, 48, 69, 51, 41, 42, 67], [42, 52, 50, 46, 74, 43, 40, 61, 77, 49, 55, 47, 78, 72, 79, 60, 56, 48, 57, 51, 76, 63, 66, 44, 73, 59, 62, 54, 68, 70, 75, 65, 64, 58, 71, 53, 69, 41, 67, 45], [52, 55, 72, 60, 69, 64, 68, 42, 77, 61, 70, 62, 43, 45, 57, 59, 41, 63, 58, 48, 53, 44, 74, 54, 65, 49, 76, 50, 40, 73, 78, 47, 46, 66, 67, 75, 51, 79, 56, 71], [50, 58, 71, 40, 51, 46, 57, 47, 73, 52, 78, 72, 76, 53, 79, 59, 43, 41, 75, 70, 60, 42, 77, 66, 55, 63, 65, 67, 44, 54, 62, 64, 74, 68, 49, 45, 61, 69, 48, 56], [40, 77, 79, 44, 50, 60, 46, 54, 70, 48, 52, 43, 72, 65, 57, 45, 62, 74, 53, 49, 67, 78, 71, 51, 63, 69, 47, 58, 41, 56, 66, 76, 68, 64, 73, 59, 42, 75, 55, 61], [62, 66, 77, 75, 44, 47, 72, 51, 52, 71, 57, 45, 40, 67, 60, 42, 53, 49, 76, 58, 69, 64, 48, 59, 56, 61, 41, 55, 54, 63, 78, 74, 65, 43, 73, 46, 70, 50, 68, 79], [63, 57, 42, 59, 70, 74, 54, 69, 67, 77, 55, 47, 49, 58, 50, 46, 78, 65, 79, 51, 56, 52, 73, 48, 76, 75, 44, 40, 71, 62, 60, 61, 41, 72, 45, 43, 64, 68, 66, 53], [55, 72, 65, 47, 77, 44, 43, 73, 60, 67, 70, 64, 48, 52, 59, 45, 69, 42, 71, 57, 51, 56, 63, 74, 58, 49, 79, 40, 78, 76, 75, 66, 54, 53, 46, 61, 50, 68, 62, 41], [65, 43, 58, 42, 41, 69, 52, 46, 63, 68, 45, 56, 70, 64, 57, 72, 54, 51, 53, 71, 50, 44, 75, 76, 49, 55, 47, 77, 79, 48, 67, 78, 62, 61, 74, 66, 60, 40, 73, 59], [64, 49, 66, 50, 75, 70, 48, 69, 79, 60, 58, 74, 43, 56, 77, 78, 46, 68, 72, 59, 63, 44, 45, 65, 52, 54, 62, 76, 67, 73, 42, 40, 47, 71, 53, 61, 41, 51, 55, 57], [46, 78, 73, 53, 68, 79, 56, 60, 76, 47, 54, 40, 48, 43, 51, 52, 71, 58, 50, 41, 66, 64, 55, 63, 72, 61, 49, 75, 57, 69, 74, 70, 44, 65, 42, 62, 45, 77, 59, 67], [56, 57, 74, 45, 71, 48, 63, 79, 70, 75, 50, 42, 52, 69, 66, 58, 78, 43, 67, 46, 73, 77, 44, 76, 55, 49, 64, 40, 61, 59, 65, 53, 60, 68, 47, 72, 51, 54, 41, 62], [78, 58, 71, 60, 51, 54, 79, 66, 44, 41, 63, 77, 70, 55, 61, 46, 50, 65, 76, 53, 42, 57, 47, 68, 72, 40, 45, 43, 67, 62, 69, 48, 75, 49, 73, 64, 59, 56, 74, 52], [59, 62, 41, 42, 53, 68, 52, 75, 71, 78, 73, 67, 47, 58, 79, 49, 65, 72, 69, 57, 43, 77, 66, 45, 56, 63, 44, 54, 55, 70, 48, 61, 50, 74, 76, 40, 60, 64, 51, 46], [57, 62, 52, 41, 46, 59, 43, 77, 79, 64, 78, 69, 70, 44, 67, 60, 74, 71, 76, 47, 61, 54, 75, 68, 66, 49, 73, 50, 48, 53, 63, 42, 58, 51, 65, 72, 55, 40, 56, 45], [43, 44, 67, 42, 61, 79, 46, 68, 69, 51, 74, 75, 53, 63, 58, 66, 47, 40, 71, 49, 72, 78, 62, 60, 76, 59, 41, 48, 56, 54, 45, 64, 77, 65, 55, 57, 73, 70, 50, 52], [50, 78, 45, 53, 73, 64, 71, 74, 44, 58, 61, 70, 79, 48, 68, 49, 77, 66, 62, 67, 41, 52, 60, 56, 46, 40, 72, 43, 55, 51, 75, 76, 57, 63, 59, 47, 69, 65, 54, 42], [69, 54, 72, 50, 65, 43, 79, 40, 52, 57, 58, 78, 76, 77, 62, 61, 73, 67, 60, 49, 44, 64, 75, 46, 41, 66, 71, 47, 74, 55, 45, 42, 70, 68, 56, 51, 53, 48, 63, 59], [63, 40, 46, 77, 79, 62, 72, 45, 47, 44, 64, 59, 56, 57, 68, 69, 48, 51, 61, 50, 73, 49, 65, 60, 53, 76, 58, 71, 75, 67, 52, 55, 70, 43, 41, 66, 74, 42, 78, 54], [65, 56, 61, 70, 58, 40, 64, 76, 79, 55, 78, 48, 68, 72, 44, 74, 45, 46, 57, 63, 41, 73, 51, 49, 60, 67, 50, 71, 75, 66, 77, 42, 54, 62, 43, 52, 53, 69, 47, 59], [71, 56, 41, 76, 64, 67, 45, 59, 63, 50, 58, 51, 61, 62, 57, 75, 73, 44, 79, 47, 48, 74, 69, 54, 52, 60, 72, 53, 42, 70, 78, 40, 77, 68, 49, 43, 66, 46, 65, 55], [53, 49, 71, 47, 43, 41, 63, 78, 42, 55, 58, 70, 52, 76, 59, 72, 61, 79, 73, 48, 46, 45, 50, 60, 67, 64, 75, 54, 44, 57, 62, 69, 56, 74, 66, 51, 40, 65, 77, 68], [56, 74, 67, 52, 59, 51, 64, 72, 71, 47, 41, 73, 63, 77, 48, 57, 45, 46, 58, 50, 54, 49, 75, 61, 79, 65, 40, 44, 66, 76, 60, 53, 68, 42, 43, 55, 69, 78, 70, 62], [62, 63, 46, 76, 41, 69, 43, 71, 42, 54, 56, 79, 72, 73, 55, 74, 40, 77, 50, 51, 70, 52, 48, 58, 67, 53, 68, 49, 47, 45, 61, 65, 44, 75, 60, 64, 66, 57, 59, 78], [42, 50, 56, 61, 76, 65, 77, 41, 62, 66, 71, 70, 73, 79, 48, 64, 53, 54, 58, 69, 46, 40, 59, 72, 60, 47, 45, 75, 78, 67, 55, 68, 43, 63, 57, 74, 51, 44, 52, 49], [73, 44, 43, 53, 49, 68, 51, 60, 61, 41, 70, 48, 40, 74, 50, 56, 46, 62, 75, 67, 71, 63, 45, 55, 77, 58, 52, 76, 64, 42, 57, 65, 47, 79, 69, 66, 72, 78, 54, 59], [63, 71, 47, 70, 69, 77, 43, 73, 45, 75, 66, 60, 62, 65, 51, 59, 68, 52, 42, 54, 41, 72, 48, 57, 74, 64, 49, 58, 56, 79, 46, 67, 76, 44, 61, 50, 53, 40, 55, 78], [68, 71, 45, 66, 48, 56, 69, 59, 64, 67, 77, 70, 49, 57, 79, 58, 42, 65, 63, 78, 76, 53, 75, 62, 74, 60, 50, 43, 51, 61, 72, 52, 41, 46, 44, 54, 73, 47, 55, 40]]\n",
            "PreferGirls =  [[9, 19, 4, 2, 22, 29, 17, 11, 28, 31, 26, 37, 12, 23, 10, 8, 32, 20, 39, 6, 1, 38, 14, 21, 30, 0, 18, 16, 35, 13, 3, 33, 5, 15, 24, 36, 27, 34, 25, 7], [26, 30, 5, 15, 27, 29, 33, 20, 37, 25, 19, 10, 1, 13, 0, 6, 35, 32, 7, 17, 12, 8, 9, 14, 38, 34, 24, 22, 18, 36, 23, 39, 16, 21, 28, 4, 31, 2, 11, 3], [27, 30, 5, 22, 33, 39, 17, 9, 6, 7, 15, 19, 1, 21, 10, 37, 8, 34, 28, 24, 20, 32, 16, 29, 11, 26, 12, 25, 36, 38, 35, 3, 2, 18, 4, 14, 13, 31, 23, 0], [10, 18, 16, 21, 5, 0, 26, 17, 11, 29, 28, 27, 19, 2, 37, 4, 31, 34, 14, 24, 8, 36, 7, 39, 35, 23, 32, 22, 13, 1, 30, 25, 20, 9, 33, 6, 12, 38, 15, 3], [37, 28, 34, 26, 6, 4, 19, 7, 33, 1, 13, 8, 20, 29, 21, 36, 10, 11, 18, 25, 14, 32, 17, 38, 23, 12, 31, 39, 5, 35, 22, 16, 3, 2, 15, 30, 0, 9, 24, 27], [2, 34, 33, 4, 32, 18, 30, 3, 16, 22, 29, 15, 13, 25, 23, 38, 17, 12, 28, 35, 37, 0, 20, 27, 1, 5, 8, 7, 36, 10, 6, 11, 21, 26, 9, 39, 24, 19, 31, 14], [38, 14, 20, 12, 16, 7, 2, 9, 22, 26, 4, 29, 8, 15, 35, 18, 19, 32, 5, 24, 17, 13, 11, 0, 10, 21, 30, 28, 1, 31, 23, 37, 27, 33, 25, 34, 6, 3, 39, 36], [14, 18, 31, 24, 8, 26, 22, 13, 4, 28, 11, 10, 6, 9, 36, 30, 27, 38, 5, 17, 19, 37, 35, 39, 3, 34, 23, 29, 7, 33, 0, 2, 16, 15, 25, 32, 21, 12, 1, 20], [14, 1, 19, 16, 29, 32, 13, 20, 34, 11, 15, 36, 2, 35, 6, 37, 38, 0, 9, 12, 4, 3, 30, 24, 17, 25, 18, 26, 5, 7, 28, 33, 10, 8, 27, 39, 22, 23, 31, 21], [10, 32, 13, 38, 24, 26, 4, 30, 23, 6, 25, 39, 36, 0, 31, 35, 2, 19, 7, 33, 34, 21, 1, 12, 15, 20, 9, 22, 5, 28, 27, 29, 18, 3, 17, 16, 8, 14, 37, 11], [9, 3, 17, 2, 24, 4, 8, 13, 38, 12, 33, 29, 7, 37, 22, 35, 0, 19, 23, 20, 15, 27, 18, 36, 28, 30, 14, 31, 32, 6, 39, 5, 25, 1, 26, 16, 34, 11, 10, 21], [31, 11, 23, 14, 6, 36, 15, 30, 17, 39, 34, 25, 8, 7, 2, 38, 33, 26, 5, 3, 29, 9, 13, 21, 37, 35, 22, 18, 16, 4, 19, 24, 12, 27, 1, 20, 0, 28, 32, 10], [16, 10, 14, 28, 8, 23, 22, 7, 11, 20, 36, 1, 33, 5, 32, 25, 27, 39, 35, 21, 19, 17, 18, 3, 12, 30, 31, 34, 37, 9, 2, 38, 6, 29, 15, 0, 24, 13, 26, 4], [17, 0, 23, 31, 1, 9, 33, 21, 16, 2, 28, 15, 30, 6, 5, 12, 29, 38, 32, 7, 25, 19, 10, 20, 27, 35, 4, 22, 14, 24, 13, 26, 36, 39, 11, 37, 3, 34, 8, 18], [16, 2, 34, 32, 17, 7, 8, 10, 6, 22, 4, 38, 9, 27, 23, 33, 36, 0, 35, 12, 30, 37, 15, 26, 29, 25, 14, 31, 11, 19, 39, 18, 5, 21, 1, 13, 28, 20, 3, 24], [37, 30, 26, 28, 1, 10, 32, 13, 29, 11, 25, 14, 2, 7, 17, 19, 27, 39, 33, 4, 3, 20, 9, 15, 18, 34, 12, 5, 35, 6, 16, 21, 38, 22, 23, 0, 24, 8, 36, 31], [16, 18, 36, 20, 25, 22, 11, 32, 39, 34, 31, 9, 2, 35, 13, 8, 27, 7, 6, 12, 33, 14, 23, 5, 1, 28, 21, 17, 19, 15, 3, 38, 29, 26, 37, 0, 4, 10, 30, 24], [26, 3, 2, 16, 18, 27, 17, 21, 29, 32, 1, 35, 31, 7, 15, 22, 0, 38, 20, 9, 12, 33, 25, 13, 37, 8, 5, 39, 28, 19, 23, 6, 24, 30, 11, 36, 34, 14, 4, 10], [21, 16, 24, 11, 0, 23, 30, 29, 31, 34, 20, 12, 33, 3, 17, 4, 18, 26, 27, 32, 39, 15, 25, 37, 5, 7, 13, 6, 22, 2, 19, 28, 35, 10, 9, 36, 8, 38, 14, 1], [13, 16, 36, 5, 10, 32, 31, 25, 19, 15, 27, 24, 6, 20, 12, 21, 11, 4, 33, 29, 17, 0, 30, 18, 22, 28, 7, 3, 14, 8, 38, 39, 2, 37, 23, 9, 1, 35, 26, 34], [36, 20, 29, 33, 25, 4, 22, 23, 24, 16, 26, 15, 28, 27, 5, 30, 21, 13, 1, 17, 8, 3, 39, 12, 37, 34, 18, 0, 7, 32, 11, 38, 14, 31, 35, 2, 10, 19, 6, 9], [10, 2, 3, 23, 39, 28, 5, 4, 7, 20, 18, 12, 34, 37, 11, 33, 13, 21, 24, 26, 31, 9, 22, 25, 27, 35, 38, 32, 0, 36, 17, 16, 29, 8, 30, 19, 6, 15, 1, 14], [11, 7, 14, 24, 35, 34, 19, 1, 38, 23, 32, 21, 37, 10, 15, 30, 18, 12, 0, 36, 25, 13, 16, 29, 31, 6, 22, 5, 27, 20, 39, 3, 26, 2, 33, 9, 28, 8, 17, 4], [38, 16, 3, 30, 33, 18, 23, 13, 9, 29, 8, 39, 14, 12, 32, 2, 4, 31, 17, 7, 22, 5, 11, 25, 6, 34, 35, 36, 37, 10, 24, 26, 15, 20, 28, 21, 19, 1, 0, 27], [8, 17, 36, 5, 10, 6, 29, 30, 26, 7, 34, 9, 28, 37, 0, 31, 12, 18, 19, 3, 4, 2, 38, 13, 16, 20, 33, 24, 15, 22, 25, 27, 1, 21, 11, 23, 32, 39, 35, 14], [4, 35, 14, 12, 23, 7, 0, 3, 25, 39, 31, 36, 8, 20, 15, 6, 9, 13, 30, 37, 24, 5, 32, 21, 2, 29, 11, 19, 1, 26, 33, 16, 28, 38, 22, 10, 18, 17, 34, 27], [22, 24, 38, 8, 27, 36, 0, 2, 7, 28, 10, 29, 15, 26, 17, 34, 35, 18, 5, 9, 31, 20, 13, 3, 16, 19, 1, 6, 21, 37, 39, 25, 33, 4, 32, 14, 30, 23, 12, 11], [14, 9, 37, 31, 15, 34, 1, 2, 29, 0, 7, 30, 28, 33, 27, 17, 38, 39, 21, 11, 18, 36, 26, 22, 25, 8, 12, 4, 24, 32, 16, 3, 19, 13, 6, 5, 20, 23, 10, 35], [21, 25, 37, 38, 17, 31, 15, 7, 16, 36, 11, 29, 24, 4, 0, 39, 3, 18, 27, 10, 26, 30, 19, 20, 28, 35, 1, 6, 13, 9, 23, 34, 14, 22, 2, 12, 32, 8, 5, 33], [29, 25, 9, 8, 18, 3, 28, 4, 14, 22, 34, 1, 17, 37, 32, 15, 2, 6, 7, 33, 24, 39, 26, 27, 19, 21, 23, 36, 31, 16, 11, 38, 13, 12, 5, 20, 30, 10, 35, 0], [27, 5, 4, 36, 18, 26, 32, 12, 7, 14, 38, 6, 39, 31, 24, 21, 23, 8, 35, 20, 19, 15, 10, 22, 0, 16, 25, 33, 3, 37, 13, 30, 11, 28, 17, 29, 2, 9, 34, 1], [3, 14, 25, 35, 24, 37, 18, 21, 23, 1, 9, 29, 28, 27, 22, 10, 2, 19, 34, 6, 16, 26, 15, 0, 36, 33, 11, 20, 17, 8, 39, 7, 12, 5, 32, 30, 4, 13, 38, 31], [26, 34, 23, 2, 9, 3, 13, 20, 38, 5, 39, 10, 6, 8, 16, 17, 15, 18, 27, 24, 33, 29, 11, 35, 14, 22, 30, 21, 7, 12, 36, 19, 4, 0, 28, 31, 25, 37, 1, 32], [33, 3, 19, 31, 34, 9, 32, 15, 39, 25, 20, 14, 1, 12, 30, 24, 6, 36, 27, 17, 5, 21, 18, 28, 37, 11, 35, 16, 29, 0, 38, 13, 2, 10, 4, 26, 8, 7, 23, 22], [17, 10, 26, 2, 4, 13, 22, 28, 39, 6, 30, 36, 11, 5, 0, 19, 12, 7, 34, 8, 15, 33, 29, 25, 37, 3, 21, 31, 9, 23, 24, 16, 20, 38, 27, 18, 1, 35, 14, 32], [37, 14, 30, 5, 9, 3, 15, 12, 24, 27, 19, 26, 16, 38, 32, 34, 33, 21, 22, 25, 31, 2, 7, 28, 4, 29, 13, 39, 1, 6, 10, 23, 18, 8, 20, 0, 11, 36, 35, 17], [34, 1, 12, 0, 11, 20, 10, 21, 22, 36, 18, 38, 23, 25, 16, 19, 4, 3, 6, 17, 13, 39, 24, 35, 5, 15, 14, 26, 32, 27, 33, 8, 7, 9, 37, 2, 31, 28, 30, 29], [15, 0, 32, 33, 23, 18, 5, 37, 26, 38, 31, 17, 24, 19, 9, 11, 1, 27, 12, 22, 16, 14, 4, 21, 36, 29, 6, 7, 34, 8, 3, 13, 35, 39, 28, 10, 30, 25, 2, 20], [12, 17, 27, 9, 10, 26, 24, 25, 34, 20, 23, 15, 8, 18, 30, 39, 32, 29, 2, 21, 31, 19, 14, 3, 36, 38, 37, 28, 5, 16, 4, 6, 1, 7, 33, 11, 13, 35, 22, 0], [23, 4, 7, 0, 33, 12, 19, 25, 9, 14, 15, 27, 10, 13, 20, 3, 18, 1, 8, 16, 38, 35, 34, 37, 2, 39, 6, 29, 36, 31, 28, 5, 17, 24, 32, 11, 30, 21, 26, 22]]\n",
            "Woman   Man\n",
            "40 \t 9\n",
            "41 \t 6\n",
            "42 \t 20\n",
            "43 \t 27\n",
            "44 \t 37\n",
            "45 \t 32\n",
            "46 \t 22\n",
            "47 \t 8\n",
            "48 \t 4\n",
            "49 \t 7\n",
            "50 \t 13\n",
            "51 \t 11\n",
            "52 \t 14\n",
            "53 \t 33\n",
            "54 \t 10\n",
            "55 \t 2\n",
            "56 \t 36\n",
            "57 \t 26\n",
            "58 \t 21\n",
            "59 \t 25\n",
            "60 \t 16\n",
            "61 \t 31\n",
            "62 \t 35\n",
            "63 \t 38\n",
            "64 \t 28\n",
            "65 \t 3\n",
            "66 \t 17\n",
            "67 \t 39\n",
            "68 \t 0\n",
            "69 \t 29\n",
            "70 \t 18\n",
            "71 \t 24\n",
            "72 \t 30\n",
            "73 \t 15\n",
            "74 \t 34\n",
            "75 \t 5\n",
            "76 \t 1\n",
            "77 \t 19\n",
            "78 \t 12\n",
            "79 \t 23\n",
            "CPU times: user 3 µs, sys: 1e+03 ns, total: 4 µs\n",
            "Wall time: 6.91 µs\n"
          ],
          "name": "stdout"
        }
      ]
    },
    {
      "cell_type": "code",
      "metadata": {
        "colab": {
          "base_uri": "https://localhost:8080/"
        },
        "id": "5dzasfkEutPD",
        "outputId": "df779da5-a169-4940-a4cd-49e663c33c40"
      },
      "source": [
        "print(timer[4])\n",
        "preferMens=prefer[4][:N]\n",
        "preferGirls=prefer[4][N:]\n",
        "\n",
        "print(\"PreferBoys = \",preferMens)\n",
        "print(\"PreferGirls = \",preferGirls)\n",
        "stableMarriage2(prefer[4])\n",
        "%time"
      ],
      "execution_count": 18,
      "outputs": [
        {
          "output_type": "stream",
          "text": [
            "0.0014264583587646484\n",
            "PreferBoys =  [[64, 56, 44, 75, 57, 48, 68, 65, 78, 76, 70, 50, 79, 73, 42, 41, 47, 54, 58, 74, 53, 51, 63, 45, 62, 77, 55, 40, 69, 71, 66, 72, 49, 67, 43, 46, 59, 61, 52, 60], [41, 62, 60, 69, 76, 74, 42, 52, 53, 46, 40, 72, 68, 58, 77, 70, 61, 65, 43, 48, 49, 59, 55, 63, 79, 78, 50, 44, 71, 75, 45, 64, 54, 66, 57, 47, 67, 51, 56, 73], [71, 52, 42, 41, 79, 63, 50, 65, 77, 45, 76, 62, 58, 55, 57, 64, 70, 54, 67, 51, 47, 48, 56, 69, 78, 46, 75, 59, 53, 49, 74, 60, 43, 73, 44, 68, 61, 66, 40, 72], [50, 71, 68, 58, 78, 72, 57, 75, 48, 63, 60, 43, 47, 46, 55, 77, 40, 79, 65, 59, 41, 44, 45, 49, 62, 76, 51, 64, 54, 70, 74, 42, 69, 52, 61, 67, 73, 53, 56, 66], [75, 58, 65, 76, 70, 60, 72, 49, 56, 62, 50, 79, 61, 69, 55, 47, 74, 78, 64, 71, 46, 63, 43, 44, 52, 41, 77, 59, 45, 40, 67, 51, 68, 48, 54, 57, 66, 53, 42, 73], [58, 50, 45, 44, 65, 56, 49, 54, 48, 59, 73, 63, 68, 53, 52, 74, 43, 75, 72, 51, 47, 42, 71, 55, 66, 70, 77, 57, 62, 69, 67, 46, 78, 76, 64, 40, 60, 41, 79, 61], [71, 41, 42, 52, 58, 40, 79, 74, 48, 53, 63, 75, 43, 50, 56, 44, 76, 77, 55, 69, 78, 70, 47, 72, 49, 66, 60, 57, 51, 65, 54, 59, 46, 64, 61, 73, 67, 68, 62, 45], [48, 53, 59, 70, 79, 44, 41, 65, 76, 40, 51, 63, 64, 69, 57, 50, 49, 66, 68, 43, 56, 45, 75, 52, 60, 78, 55, 54, 74, 61, 67, 47, 73, 77, 58, 71, 42, 46, 72, 62], [64, 52, 61, 66, 79, 71, 68, 65, 60, 41, 55, 45, 47, 73, 51, 78, 53, 62, 63, 49, 69, 43, 74, 77, 42, 72, 70, 40, 44, 46, 75, 48, 58, 67, 76, 57, 50, 56, 54, 59], [46, 41, 50, 78, 65, 61, 62, 43, 56, 69, 49, 47, 53, 52, 42, 64, 45, 44, 70, 63, 71, 58, 77, 60, 51, 79, 40, 57, 72, 48, 66, 59, 67, 54, 68, 55, 74, 75, 73, 76], [68, 57, 47, 53, 60, 72, 79, 62, 54, 66, 75, 52, 76, 48, 64, 67, 50, 45, 40, 56, 46, 58, 59, 61, 69, 73, 51, 65, 63, 70, 71, 41, 43, 55, 42, 78, 77, 44, 49, 74], [53, 62, 51, 45, 65, 78, 74, 72, 73, 68, 67, 41, 61, 49, 54, 66, 40, 59, 44, 79, 56, 50, 55, 70, 57, 71, 75, 58, 52, 46, 77, 64, 76, 60, 42, 69, 48, 63, 47, 43], [43, 56, 79, 48, 78, 50, 61, 60, 53, 63, 40, 57, 70, 49, 54, 46, 77, 75, 51, 62, 72, 74, 69, 68, 52, 47, 42, 71, 65, 44, 76, 41, 55, 64, 58, 66, 73, 67, 45, 59], [54, 49, 45, 40, 46, 73, 70, 58, 64, 66, 59, 53, 61, 44, 55, 78, 47, 56, 51, 76, 79, 60, 77, 42, 50, 67, 68, 72, 69, 75, 63, 57, 62, 65, 41, 52, 48, 71, 43, 74], [63, 42, 46, 69, 45, 49, 52, 55, 54, 67, 75, 77, 70, 40, 73, 79, 66, 50, 60, 74, 68, 65, 64, 57, 71, 62, 58, 48, 78, 56, 47, 59, 53, 43, 51, 76, 72, 44, 61, 41], [44, 47, 56, 58, 69, 68, 51, 65, 46, 49, 40, 52, 75, 53, 76, 41, 60, 78, 67, 61, 73, 50, 59, 54, 48, 74, 43, 72, 55, 57, 45, 66, 62, 64, 70, 42, 71, 77, 63, 79], [49, 48, 43, 53, 76, 46, 75, 52, 79, 73, 50, 63, 67, 51, 74, 56, 60, 44, 62, 65, 47, 41, 72, 78, 71, 69, 57, 70, 64, 55, 58, 45, 68, 77, 61, 66, 40, 42, 59, 54], [45, 70, 75, 47, 74, 57, 68, 56, 59, 78, 61, 40, 77, 41, 69, 63, 67, 44, 62, 43, 52, 60, 72, 58, 66, 79, 73, 76, 50, 55, 71, 46, 51, 42, 49, 53, 48, 65, 54, 64], [66, 45, 68, 64, 41, 65, 43, 54, 40, 50, 61, 44, 78, 62, 51, 47, 76, 52, 58, 42, 46, 70, 53, 77, 73, 49, 71, 74, 72, 60, 56, 79, 67, 63, 75, 57, 69, 59, 55, 48], [47, 45, 51, 70, 61, 67, 75, 43, 44, 64, 46, 59, 56, 77, 53, 68, 71, 73, 49, 52, 79, 74, 65, 69, 62, 72, 76, 41, 63, 58, 55, 78, 42, 48, 40, 60, 66, 50, 57, 54], [68, 64, 67, 52, 41, 51, 62, 45, 70, 40, 43, 42, 44, 69, 56, 65, 75, 50, 53, 46, 54, 73, 49, 61, 58, 59, 71, 63, 72, 48, 77, 76, 79, 66, 55, 60, 74, 57, 78, 47], [65, 55, 41, 67, 72, 77, 61, 71, 73, 46, 58, 68, 51, 59, 69, 52, 42, 50, 45, 54, 78, 56, 64, 60, 48, 40, 49, 57, 43, 47, 70, 53, 66, 63, 79, 62, 76, 74, 75, 44], [60, 42, 70, 63, 59, 45, 46, 53, 48, 43, 64, 71, 41, 56, 79, 61, 52, 49, 54, 66, 47, 40, 74, 73, 57, 44, 58, 55, 51, 50, 69, 77, 75, 78, 72, 65, 68, 62, 76, 67], [55, 60, 52, 74, 73, 46, 75, 57, 78, 76, 43, 61, 41, 77, 49, 44, 63, 48, 65, 53, 66, 68, 50, 40, 79, 69, 47, 70, 64, 67, 51, 72, 62, 45, 59, 42, 58, 71, 56, 54], [45, 74, 68, 71, 66, 79, 56, 48, 55, 62, 40, 49, 76, 63, 65, 52, 51, 77, 72, 70, 78, 47, 64, 54, 69, 41, 61, 42, 58, 44, 73, 46, 60, 50, 75, 59, 53, 67, 57, 43], [56, 69, 67, 52, 79, 74, 62, 58, 64, 53, 63, 44, 48, 43, 50, 65, 61, 40, 77, 70, 49, 72, 75, 60, 55, 71, 68, 73, 46, 57, 51, 66, 41, 59, 76, 42, 54, 45, 47, 78], [69, 48, 43, 49, 67, 63, 56, 71, 77, 57, 75, 41, 58, 45, 79, 68, 47, 50, 51, 62, 61, 40, 46, 60, 44, 73, 74, 72, 52, 59, 54, 65, 66, 76, 53, 70, 78, 64, 42, 55], [52, 71, 55, 57, 65, 58, 60, 51, 78, 53, 70, 56, 43, 72, 41, 47, 50, 63, 40, 48, 69, 54, 64, 62, 77, 44, 66, 59, 67, 49, 74, 45, 42, 76, 68, 75, 61, 46, 73, 79], [58, 41, 61, 50, 70, 74, 52, 43, 55, 69, 44, 42, 45, 73, 57, 64, 51, 54, 75, 46, 53, 72, 77, 60, 68, 79, 48, 49, 63, 47, 56, 62, 40, 78, 65, 67, 59, 71, 66, 76], [76, 69, 67, 65, 77, 74, 41, 53, 79, 58, 49, 64, 59, 57, 61, 44, 72, 78, 60, 48, 66, 47, 56, 68, 40, 62, 52, 73, 63, 50, 75, 45, 43, 46, 51, 55, 70, 54, 71, 42], [70, 77, 59, 51, 43, 74, 47, 53, 56, 79, 60, 71, 72, 52, 61, 54, 65, 64, 48, 66, 58, 73, 50, 68, 78, 49, 57, 40, 41, 75, 63, 67, 69, 42, 46, 76, 55, 45, 62, 44], [68, 48, 52, 61, 46, 65, 57, 55, 58, 71, 70, 51, 66, 73, 41, 62, 74, 67, 54, 43, 47, 45, 63, 53, 79, 42, 77, 78, 64, 40, 69, 44, 49, 72, 50, 56, 59, 75, 76, 60], [79, 40, 78, 69, 49, 61, 55, 50, 54, 47, 52, 71, 51, 60, 48, 74, 42, 59, 44, 76, 45, 73, 46, 64, 72, 65, 77, 70, 43, 68, 41, 66, 67, 57, 62, 75, 56, 53, 58, 63], [58, 40, 57, 48, 46, 63, 74, 79, 67, 53, 54, 49, 44, 50, 47, 71, 62, 69, 52, 65, 77, 75, 66, 55, 59, 61, 78, 64, 42, 60, 45, 68, 70, 51, 43, 76, 72, 41, 73, 56], [71, 58, 61, 41, 66, 73, 60, 65, 42, 47, 49, 54, 55, 74, 57, 59, 53, 48, 75, 40, 79, 46, 43, 72, 70, 78, 45, 77, 51, 56, 69, 50, 63, 68, 76, 67, 52, 64, 44, 62], [49, 57, 55, 58, 52, 41, 60, 63, 64, 56, 54, 42, 51, 71, 50, 70, 44, 65, 79, 59, 69, 68, 43, 72, 48, 77, 75, 62, 74, 78, 61, 47, 40, 67, 46, 66, 53, 73, 76, 45], [70, 61, 78, 48, 68, 54, 67, 44, 62, 75, 56, 40, 76, 60, 73, 59, 79, 49, 65, 46, 74, 77, 55, 43, 64, 45, 58, 53, 42, 69, 57, 52, 72, 71, 47, 66, 50, 41, 51, 63], [40, 52, 44, 65, 59, 62, 48, 58, 61, 53, 41, 50, 79, 73, 75, 74, 66, 72, 77, 54, 57, 60, 51, 64, 43, 63, 55, 69, 47, 46, 76, 56, 71, 42, 68, 67, 70, 49, 45, 78], [71, 44, 64, 48, 61, 40, 78, 54, 46, 53, 77, 58, 76, 56, 50, 41, 51, 68, 45, 47, 55, 66, 62, 75, 52, 67, 73, 69, 60, 57, 43, 59, 65, 70, 49, 72, 42, 63, 79, 74], [65, 50, 49, 71, 46, 40, 54, 60, 47, 78, 55, 41, 51, 52, 62, 42, 66, 64, 58, 75, 68, 73, 70, 63, 45, 61, 59, 76, 43, 67, 74, 56, 69, 44, 79, 77, 57, 53, 72, 48]]\n",
            "PreferGirls =  [[39, 26, 10, 7, 36, 32, 17, 38, 16, 15, 19, 8, 4, 30, 24, 5, 29, 22, 13, 20, 2, 3, 23, 34, 37, 6, 21, 12, 27, 9, 35, 31, 11, 18, 14, 0, 33, 25, 1, 28], [22, 2, 33, 38, 0, 13, 15, 4, 25, 26, 39, 30, 28, 3, 34, 19, 36, 10, 12, 11, 5, 24, 27, 29, 21, 1, 8, 6, 23, 32, 35, 31, 18, 9, 14, 17, 37, 20, 16, 7], [23, 9, 37, 10, 3, 16, 30, 17, 12, 38, 21, 15, 36, 4, 8, 32, 6, 22, 27, 20, 34, 35, 7, 31, 2, 13, 5, 33, 1, 19, 28, 26, 14, 24, 18, 39, 29, 0, 11, 25], [16, 3, 9, 26, 2, 17, 13, 24, 31, 23, 25, 22, 19, 36, 27, 29, 4, 32, 33, 34, 7, 38, 39, 18, 1, 15, 28, 20, 12, 21, 8, 37, 30, 0, 11, 6, 10, 14, 5, 35], [38, 3, 26, 24, 31, 30, 37, 10, 23, 5, 16, 14, 35, 19, 39, 6, 7, 34, 20, 1, 28, 2, 9, 27, 33, 17, 4, 0, 22, 29, 25, 18, 36, 12, 13, 21, 8, 15, 32, 11], [20, 32, 30, 37, 1, 11, 38, 28, 34, 14, 9, 5, 16, 29, 19, 33, 13, 15, 12, 10, 39, 31, 26, 2, 17, 23, 24, 3, 21, 25, 22, 36, 27, 8, 35, 4, 0, 6, 7, 18], [16, 39, 35, 5, 8, 31, 12, 29, 33, 36, 21, 37, 11, 18, 1, 19, 32, 6, 28, 4, 2, 34, 25, 15, 27, 10, 38, 26, 24, 7, 3, 20, 17, 23, 14, 22, 0, 30, 13, 9], [9, 34, 25, 6, 36, 26, 30, 37, 19, 16, 24, 15, 3, 4, 14, 23, 5, 12, 17, 29, 8, 13, 33, 0, 7, 39, 11, 1, 32, 21, 20, 28, 38, 27, 35, 31, 10, 18, 22, 2], [4, 8, 24, 34, 33, 15, 32, 21, 31, 22, 28, 26, 9, 38, 13, 36, 3, 37, 16, 25, 35, 30, 10, 6, 11, 5, 18, 14, 39, 0, 1, 7, 17, 23, 12, 20, 19, 2, 29, 27], [11, 32, 30, 37, 22, 38, 14, 10, 8, 16, 1, 34, 26, 9, 27, 20, 7, 6, 3, 23, 2, 13, 35, 5, 31, 28, 19, 0, 17, 33, 36, 25, 21, 18, 15, 4, 29, 39, 24, 12], [10, 12, 33, 3, 24, 35, 2, 16, 0, 21, 11, 28, 37, 15, 27, 20, 32, 36, 6, 5, 9, 25, 30, 4, 29, 17, 18, 19, 14, 7, 22, 8, 34, 1, 31, 38, 23, 13, 39, 26], [11, 28, 1, 38, 15, 22, 25, 35, 30, 14, 9, 13, 36, 34, 8, 2, 12, 26, 7, 6, 32, 3, 17, 18, 29, 31, 24, 27, 23, 0, 10, 20, 5, 37, 19, 21, 39, 4, 33, 16], [24, 30, 20, 19, 12, 17, 38, 10, 37, 8, 16, 33, 3, 18, 7, 31, 21, 1, 27, 23, 4, 6, 14, 25, 9, 11, 32, 34, 28, 22, 5, 13, 26, 39, 15, 0, 29, 35, 2, 36], [28, 17, 1, 20, 23, 24, 29, 30, 14, 27, 39, 18, 36, 6, 7, 3, 16, 25, 31, 19, 12, 8, 34, 2, 5, 4, 0, 15, 13, 10, 38, 22, 9, 11, 26, 37, 35, 33, 21, 32], [38, 31, 8, 29, 12, 7, 27, 21, 37, 9, 3, 28, 4, 5, 20, 0, 23, 36, 24, 16, 11, 10, 39, 13, 18, 14, 6, 35, 25, 30, 22, 2, 32, 1, 33, 17, 34, 26, 15, 19], [5, 36, 4, 30, 33, 15, 2, 6, 3, 27, 10, 8, 7, 23, 17, 16, 37, 9, 12, 20, 18, 32, 26, 28, 39, 34, 11, 25, 13, 14, 29, 24, 35, 1, 21, 31, 19, 22, 38, 0], [15, 29, 13, 22, 24, 39, 36, 7, 3, 11, 33, 35, 10, 8, 0, 26, 20, 5, 21, 27, 30, 31, 19, 14, 23, 16, 18, 6, 12, 4, 25, 38, 28, 1, 2, 32, 17, 34, 37, 9], [8, 4, 32, 11, 1, 28, 22, 13, 20, 16, 36, 31, 18, 37, 9, 30, 19, 26, 5, 12, 15, 29, 21, 33, 34, 0, 14, 25, 23, 38, 35, 6, 2, 3, 7, 10, 17, 24, 27, 39], [17, 20, 7, 24, 34, 10, 29, 36, 23, 39, 32, 0, 30, 3, 1, 28, 25, 9, 33, 11, 18, 21, 5, 2, 38, 27, 22, 15, 31, 6, 16, 8, 37, 19, 35, 12, 4, 14, 26, 13], [34, 5, 19, 11, 31, 16, 17, 21, 28, 30, 26, 36, 37, 18, 24, 9, 1, 8, 6, 22, 13, 33, 2, 35, 7, 3, 10, 27, 32, 14, 15, 38, 20, 4, 39, 0, 29, 23, 12, 25], [35, 16, 28, 27, 38, 1, 3, 20, 25, 12, 18, 31, 39, 34, 36, 2, 30, 23, 14, 29, 8, 21, 6, 10, 26, 19, 37, 17, 7, 4, 5, 13, 9, 24, 33, 22, 32, 0, 11, 15], [21, 12, 33, 22, 8, 26, 39, 30, 18, 29, 36, 27, 13, 9, 16, 37, 3, 1, 25, 19, 28, 10, 0, 11, 32, 5, 24, 17, 35, 6, 23, 31, 15, 7, 38, 2, 20, 4, 14, 34], [17, 0, 29, 33, 10, 36, 13, 3, 28, 18, 19, 37, 32, 23, 21, 27, 15, 39, 24, 6, 12, 38, 8, 1, 25, 22, 26, 7, 35, 20, 2, 31, 5, 9, 16, 34, 4, 30, 11, 14], [37, 29, 3, 39, 10, 6, 2, 30, 13, 25, 16, 4, 21, 32, 28, 24, 27, 34, 33, 31, 9, 11, 36, 1, 20, 23, 26, 0, 8, 17, 38, 18, 14, 15, 35, 12, 7, 5, 22, 19], [10, 2, 12, 14, 13, 32, 11, 19, 27, 18, 8, 22, 34, 21, 33, 39, 29, 17, 6, 5, 16, 36, 15, 9, 35, 24, 38, 28, 30, 1, 31, 37, 26, 25, 0, 7, 20, 3, 4, 23], [22, 35, 32, 11, 30, 12, 33, 13, 16, 25, 34, 4, 5, 29, 39, 6, 31, 15, 36, 14, 21, 26, 24, 9, 7, 1, 37, 19, 2, 8, 38, 18, 23, 0, 17, 3, 27, 10, 20, 28], [14, 25, 1, 26, 32, 35, 11, 8, 12, 21, 34, 18, 17, 31, 39, 30, 27, 7, 36, 19, 9, 5, 6, 28, 37, 38, 24, 2, 16, 20, 15, 3, 23, 13, 29, 10, 0, 33, 4, 22], [8, 21, 32, 4, 16, 10, 35, 7, 1, 14, 20, 2, 33, 25, 29, 34, 5, 11, 31, 22, 13, 24, 39, 0, 27, 12, 3, 17, 38, 9, 18, 36, 30, 6, 26, 28, 23, 37, 15, 19], [5, 23, 18, 6, 10, 27, 26, 9, 14, 39, 38, 15, 28, 3, 22, 29, 20, 7, 34, 8, 17, 30, 12, 33, 21, 13, 16, 1, 24, 36, 19, 0, 31, 35, 32, 25, 2, 4, 37, 11], [8, 20, 24, 5, 34, 32, 27, 38, 33, 3, 6, 21, 31, 12, 37, 26, 9, 11, 10, 29, 18, 7, 39, 35, 22, 30, 23, 2, 0, 36, 19, 16, 13, 14, 25, 15, 17, 4, 28, 1], [0, 39, 23, 22, 20, 19, 8, 35, 11, 1, 37, 16, 18, 5, 24, 33, 30, 12, 25, 15, 38, 21, 31, 26, 36, 2, 4, 32, 29, 27, 14, 17, 10, 13, 28, 6, 34, 7, 3, 9], [5, 39, 9, 14, 19, 35, 33, 28, 30, 0, 10, 21, 36, 31, 15, 4, 29, 17, 38, 8, 32, 13, 1, 27, 11, 12, 25, 24, 20, 3, 22, 6, 16, 18, 37, 34, 26, 7, 2, 23], [36, 22, 11, 3, 1, 13, 19, 18, 14, 9, 26, 35, 29, 12, 8, 10, 33, 7, 34, 17, 38, 15, 2, 39, 16, 30, 32, 31, 4, 21, 25, 5, 24, 28, 6, 0, 27, 37, 23, 20], [26, 2, 9, 21, 15, 33, 6, 39, 24, 32, 31, 0, 38, 12, 30, 1, 8, 37, 27, 28, 11, 29, 25, 16, 4, 34, 17, 20, 10, 7, 13, 19, 5, 18, 36, 35, 22, 14, 3, 23], [16, 0, 12, 39, 22, 14, 5, 9, 17, 30, 7, 10, 24, 37, 32, 4, 28, 21, 15, 20, 13, 31, 19, 27, 38, 6, 8, 3, 25, 2, 36, 11, 18, 29, 34, 35, 33, 1, 23, 26], [22, 12, 29, 20, 25, 24, 30, 16, 2, 39, 37, 34, 21, 26, 19, 14, 1, 23, 35, 4, 6, 33, 27, 38, 5, 31, 18, 17, 8, 13, 36, 9, 28, 11, 15, 10, 3, 0, 7, 32], [4, 36, 38, 39, 37, 16, 14, 31, 7, 33, 6, 23, 19, 35, 20, 27, 21, 32, 1, 30, 5, 0, 24, 25, 26, 34, 18, 11, 8, 28, 10, 13, 12, 17, 2, 3, 9, 15, 22, 29], [5, 0, 15, 7, 32, 1, 38, 17, 27, 19, 28, 14, 36, 22, 10, 13, 23, 8, 35, 6, 18, 34, 33, 37, 29, 3, 11, 21, 4, 2, 20, 12, 39, 16, 24, 26, 30, 9, 25, 31], [11, 13, 1, 22, 9, 12, 15, 18, 17, 7, 32, 2, 21, 34, 14, 23, 5, 8, 31, 39, 6, 36, 20, 19, 35, 26, 10, 25, 30, 24, 29, 3, 27, 4, 16, 0, 37, 38, 28, 33], [12, 20, 34, 3, 8, 18, 22, 32, 28, 36, 13, 37, 30, 2, 17, 35, 21, 14, 23, 29, 33, 25, 0, 11, 19, 39, 31, 38, 16, 24, 1, 6, 27, 15, 10, 7, 5, 26, 9, 4]]\n",
            "Woman   Man\n",
            "40 \t 7\n",
            "41 \t 22\n",
            "42 \t 6\n",
            "43 \t 16\n",
            "44 \t 38\n",
            "45 \t 28\n",
            "46 \t 31\n",
            "47 \t 19\n",
            "48 \t 24\n",
            "49 \t 14\n",
            "50 \t 33\n",
            "51 \t 11\n",
            "52 \t 20\n",
            "53 \t 1\n",
            "54 \t 5\n",
            "55 \t 27\n",
            "56 \t 15\n",
            "57 \t 26\n",
            "58 \t 34\n",
            "59 \t 30\n",
            "60 \t 35\n",
            "61 \t 36\n",
            "62 \t 37\n",
            "63 \t 2\n",
            "64 \t 8\n",
            "65 \t 25\n",
            "66 \t 18\n",
            "67 \t 21\n",
            "68 \t 10\n",
            "69 \t 32\n",
            "70 \t 0\n",
            "71 \t 39\n",
            "72 \t 3\n",
            "73 \t 13\n",
            "74 \t 17\n",
            "75 \t 23\n",
            "76 \t 4\n",
            "77 \t 29\n",
            "78 \t 9\n",
            "79 \t 12\n",
            "CPU times: user 3 µs, sys: 0 ns, total: 3 µs\n",
            "Wall time: 5.01 µs\n"
          ],
          "name": "stdout"
        }
      ]
    },
    {
      "cell_type": "code",
      "metadata": {
        "colab": {
          "base_uri": "https://localhost:8080/"
        },
        "id": "OQIYqSXwuwbV",
        "outputId": "a7c6f5b6-bbbb-47f1-e6d2-fa66423b977e"
      },
      "source": [
        "print(timer[5])\n",
        "preferMens=prefer[5][:N]\n",
        "preferGirls=prefer[5][N:]\n",
        "\n",
        "print(\"PreferBoys = \",preferMens)\n",
        "print(\"PreferGirls = \",preferGirls)\n",
        "stableMarriage2(prefer[5])\n",
        "%time"
      ],
      "execution_count": 19,
      "outputs": [
        {
          "output_type": "stream",
          "text": [
            "0.001201629638671875\n",
            "PreferBoys =  [[62, 75, 44, 45, 47, 50, 72, 67, 52, 55, 78, 56, 41, 74, 61, 42, 58, 49, 64, 40, 63, 76, 43, 57, 60, 65, 51, 77, 66, 54, 69, 53, 59, 79, 68, 73, 46, 71, 48, 70], [62, 71, 54, 72, 78, 61, 43, 77, 56, 64, 44, 69, 47, 45, 48, 53, 51, 67, 68, 57, 63, 50, 55, 40, 49, 46, 75, 58, 76, 52, 41, 42, 73, 70, 65, 59, 74, 79, 60, 66], [40, 53, 42, 54, 65, 68, 52, 73, 47, 74, 64, 56, 72, 57, 61, 51, 43, 69, 48, 60, 71, 66, 50, 49, 58, 70, 59, 67, 63, 78, 41, 75, 62, 55, 46, 44, 76, 77, 45, 79], [40, 79, 76, 43, 57, 48, 41, 66, 51, 46, 72, 71, 74, 44, 58, 65, 63, 77, 52, 59, 75, 64, 49, 45, 60, 55, 54, 69, 56, 61, 62, 70, 47, 53, 68, 73, 50, 67, 42, 78], [79, 66, 78, 56, 68, 63, 48, 43, 67, 54, 60, 75, 74, 42, 50, 44, 41, 64, 51, 46, 61, 52, 45, 77, 73, 70, 69, 49, 76, 53, 57, 71, 59, 40, 62, 65, 72, 58, 47, 55], [70, 58, 73, 77, 66, 40, 42, 65, 69, 72, 64, 61, 74, 53, 45, 59, 68, 54, 55, 44, 67, 49, 76, 60, 41, 56, 57, 62, 51, 63, 43, 78, 50, 47, 71, 75, 52, 48, 79, 46], [47, 71, 59, 68, 58, 44, 45, 60, 57, 76, 40, 70, 77, 54, 66, 62, 67, 53, 50, 69, 43, 75, 74, 79, 55, 49, 52, 61, 56, 73, 78, 48, 63, 41, 65, 46, 72, 64, 42, 51], [62, 69, 48, 79, 52, 55, 68, 60, 46, 53, 54, 66, 49, 64, 56, 61, 51, 57, 72, 63, 44, 67, 47, 73, 77, 41, 43, 75, 74, 78, 40, 76, 50, 42, 59, 45, 70, 71, 58, 65], [74, 43, 67, 66, 62, 79, 45, 63, 59, 68, 50, 61, 55, 52, 77, 49, 65, 70, 72, 40, 73, 48, 42, 69, 51, 58, 53, 47, 64, 46, 54, 76, 71, 75, 44, 78, 57, 56, 41, 60], [75, 77, 76, 40, 62, 71, 42, 50, 72, 57, 65, 46, 73, 68, 79, 69, 54, 53, 44, 48, 52, 43, 51, 45, 59, 49, 66, 64, 58, 55, 70, 74, 78, 61, 63, 56, 41, 67, 47, 60], [71, 74, 41, 77, 59, 64, 56, 43, 79, 50, 48, 76, 63, 51, 57, 54, 67, 68, 55, 61, 78, 52, 42, 45, 40, 72, 69, 44, 49, 65, 66, 60, 47, 75, 53, 46, 73, 62, 58, 70], [53, 47, 61, 62, 68, 58, 50, 71, 77, 66, 67, 54, 64, 43, 79, 56, 40, 42, 55, 48, 69, 41, 46, 70, 63, 52, 75, 44, 59, 73, 57, 51, 60, 76, 45, 49, 72, 78, 74, 65], [61, 70, 56, 48, 75, 62, 51, 67, 45, 47, 74, 60, 58, 65, 76, 69, 42, 50, 55, 63, 52, 46, 64, 49, 54, 57, 77, 41, 71, 43, 68, 59, 53, 79, 44, 40, 72, 66, 73, 78], [75, 48, 43, 73, 40, 76, 47, 49, 55, 72, 71, 44, 53, 51, 78, 62, 41, 45, 79, 74, 50, 54, 63, 65, 77, 52, 66, 60, 57, 59, 56, 58, 42, 70, 68, 64, 69, 67, 46, 61], [78, 66, 69, 75, 42, 67, 61, 76, 74, 72, 62, 53, 68, 70, 54, 58, 40, 47, 51, 52, 59, 60, 49, 41, 65, 71, 48, 46, 79, 43, 63, 57, 73, 55, 44, 56, 45, 77, 64, 50], [61, 42, 63, 70, 49, 56, 66, 44, 69, 50, 45, 53, 48, 64, 43, 72, 68, 55, 54, 67, 46, 41, 52, 47, 40, 79, 60, 76, 77, 74, 62, 65, 59, 71, 73, 78, 75, 51, 57, 58], [57, 63, 40, 56, 41, 50, 43, 59, 52, 49, 67, 46, 65, 47, 48, 54, 69, 44, 79, 74, 55, 45, 53, 51, 73, 62, 77, 75, 76, 71, 61, 42, 78, 64, 72, 70, 68, 60, 58, 66], [74, 66, 45, 46, 77, 58, 60, 73, 41, 72, 65, 42, 64, 56, 55, 71, 52, 50, 53, 67, 78, 59, 76, 51, 79, 62, 57, 44, 75, 40, 48, 61, 69, 43, 63, 47, 54, 68, 49, 70], [57, 44, 59, 79, 52, 61, 50, 55, 65, 63, 67, 45, 71, 68, 41, 78, 51, 58, 66, 49, 73, 42, 70, 72, 47, 74, 46, 75, 43, 76, 56, 62, 53, 60, 69, 48, 54, 64, 77, 40], [40, 42, 61, 55, 50, 64, 71, 69, 41, 60, 79, 63, 57, 51, 53, 72, 78, 68, 59, 54, 73, 43, 77, 46, 62, 67, 47, 75, 49, 74, 76, 65, 44, 52, 58, 48, 45, 66, 56, 70], [67, 73, 71, 42, 60, 78, 64, 47, 57, 59, 63, 40, 44, 65, 79, 43, 55, 50, 72, 45, 41, 49, 62, 56, 46, 52, 53, 48, 61, 70, 58, 77, 54, 51, 75, 66, 68, 76, 69, 74], [53, 59, 68, 46, 61, 47, 51, 72, 58, 45, 44, 75, 54, 43, 56, 65, 62, 55, 52, 67, 74, 60, 73, 78, 66, 79, 70, 48, 49, 71, 69, 77, 64, 41, 40, 76, 57, 63, 42, 50], [47, 44, 79, 51, 78, 70, 63, 73, 68, 75, 49, 60, 71, 77, 61, 42, 65, 54, 41, 67, 48, 57, 69, 58, 53, 52, 43, 66, 74, 40, 59, 76, 45, 56, 46, 50, 62, 72, 55, 64], [57, 70, 43, 67, 76, 64, 72, 75, 61, 54, 45, 60, 62, 55, 65, 63, 69, 49, 52, 78, 42, 59, 44, 48, 47, 58, 68, 41, 73, 71, 46, 79, 40, 51, 56, 74, 53, 77, 50, 66], [63, 64, 66, 78, 69, 73, 70, 76, 72, 41, 60, 55, 40, 71, 49, 74, 61, 42, 52, 46, 67, 54, 59, 56, 43, 58, 47, 48, 68, 79, 57, 44, 53, 50, 77, 45, 62, 75, 51, 65], [78, 61, 48, 60, 40, 65, 71, 79, 46, 68, 59, 45, 55, 77, 54, 73, 58, 76, 41, 57, 66, 72, 53, 64, 42, 75, 63, 56, 70, 47, 52, 74, 51, 43, 69, 67, 44, 50, 49, 62], [45, 48, 72, 63, 76, 41, 67, 54, 47, 61, 73, 79, 68, 74, 55, 57, 56, 77, 44, 46, 69, 71, 51, 59, 40, 65, 78, 53, 49, 58, 70, 43, 60, 64, 66, 62, 50, 42, 75, 52], [45, 60, 59, 44, 55, 46, 41, 48, 66, 43, 53, 47, 56, 71, 49, 58, 78, 77, 62, 75, 50, 52, 61, 76, 51, 72, 74, 65, 68, 54, 63, 40, 70, 64, 79, 73, 57, 67, 42, 69], [54, 64, 42, 46, 75, 71, 78, 57, 69, 52, 61, 62, 56, 68, 63, 50, 48, 79, 40, 73, 60, 51, 65, 58, 47, 45, 53, 70, 49, 66, 59, 72, 55, 43, 44, 76, 67, 74, 41, 77], [56, 62, 41, 46, 65, 43, 79, 54, 73, 58, 67, 77, 69, 51, 66, 55, 74, 75, 68, 44, 72, 42, 49, 61, 64, 52, 60, 48, 76, 59, 45, 63, 57, 78, 53, 50, 70, 71, 47, 40], [70, 49, 73, 60, 56, 79, 52, 66, 72, 42, 41, 61, 55, 76, 64, 54, 59, 63, 46, 69, 40, 43, 45, 44, 62, 57, 67, 65, 78, 58, 71, 68, 77, 50, 75, 53, 47, 74, 48, 51], [57, 47, 44, 42, 55, 40, 59, 43, 63, 68, 76, 75, 53, 79, 60, 51, 77, 66, 74, 58, 56, 46, 67, 45, 64, 65, 50, 52, 70, 61, 69, 62, 48, 49, 72, 78, 41, 71, 73, 54], [78, 45, 66, 57, 71, 43, 72, 62, 53, 52, 68, 67, 58, 47, 51, 76, 75, 65, 74, 69, 77, 73, 41, 54, 48, 61, 55, 40, 50, 46, 63, 56, 44, 60, 70, 79, 64, 42, 49, 59], [40, 70, 43, 58, 74, 72, 61, 69, 64, 77, 67, 55, 63, 41, 50, 56, 73, 66, 46, 42, 52, 60, 78, 51, 71, 62, 59, 76, 45, 53, 65, 79, 68, 44, 75, 48, 54, 57, 47, 49], [55, 41, 56, 74, 78, 76, 64, 62, 57, 75, 48, 42, 65, 47, 71, 63, 52, 66, 59, 45, 70, 40, 72, 79, 44, 50, 68, 54, 49, 53, 77, 61, 67, 69, 58, 43, 46, 51, 60, 73], [49, 57, 76, 72, 68, 65, 79, 53, 50, 75, 67, 77, 78, 42, 40, 60, 54, 70, 62, 58, 47, 43, 66, 45, 74, 73, 48, 69, 63, 52, 46, 61, 64, 71, 44, 59, 55, 51, 56, 41], [41, 42, 64, 75, 56, 54, 73, 77, 71, 72, 50, 63, 67, 44, 69, 55, 52, 74, 48, 43, 76, 62, 68, 46, 61, 65, 49, 58, 79, 57, 78, 45, 66, 60, 47, 40, 51, 53, 70, 59], [55, 71, 79, 74, 44, 50, 40, 53, 78, 43, 75, 67, 69, 64, 68, 47, 51, 60, 57, 76, 49, 42, 62, 70, 59, 41, 56, 46, 72, 54, 61, 48, 65, 73, 45, 52, 66, 77, 58, 63], [72, 69, 77, 60, 54, 41, 67, 76, 73, 55, 58, 66, 68, 48, 51, 43, 44, 79, 53, 45, 61, 56, 63, 75, 57, 49, 78, 42, 74, 50, 64, 70, 46, 52, 59, 65, 71, 47, 40, 62], [65, 68, 69, 63, 57, 70, 75, 64, 79, 77, 66, 73, 45, 50, 52, 62, 41, 58, 55, 76, 54, 47, 42, 56, 46, 67, 48, 51, 74, 43, 44, 60, 40, 59, 78, 72, 53, 71, 61, 49]]\n",
            "PreferGirls =  [[21, 2, 10, 14, 12, 39, 37, 1, 22, 36, 20, 4, 24, 13, 17, 28, 38, 25, 27, 32, 31, 35, 5, 15, 30, 18, 34, 16, 9, 26, 3, 11, 0, 6, 23, 8, 7, 29, 19, 33], [35, 22, 36, 6, 39, 20, 18, 27, 4, 33, 16, 30, 15, 17, 25, 31, 38, 8, 26, 28, 21, 7, 5, 37, 14, 19, 23, 0, 34, 29, 10, 2, 9, 13, 11, 3, 24, 32, 1, 12], [25, 26, 23, 27, 9, 14, 1, 12, 5, 2, 32, 3, 35, 8, 6, 28, 0, 37, 30, 20, 19, 17, 13, 33, 21, 39, 31, 36, 4, 11, 24, 38, 15, 34, 29, 22, 10, 16, 7, 18], [29, 23, 1, 20, 39, 0, 24, 30, 10, 27, 15, 32, 33, 18, 34, 12, 14, 25, 11, 6, 38, 28, 2, 31, 37, 16, 8, 35, 21, 4, 36, 5, 3, 13, 17, 26, 9, 22, 7, 19], [17, 20, 25, 24, 6, 38, 32, 21, 15, 33, 36, 19, 0, 26, 35, 30, 8, 31, 10, 7, 28, 2, 1, 3, 9, 18, 11, 23, 5, 29, 39, 27, 12, 37, 4, 16, 34, 14, 22, 13], [31, 34, 18, 0, 30, 4, 39, 9, 7, 8, 3, 13, 6, 25, 20, 2, 33, 10, 14, 16, 21, 24, 1, 38, 23, 11, 15, 28, 27, 22, 19, 36, 26, 29, 5, 35, 12, 17, 37, 32], [32, 1, 12, 35, 22, 8, 38, 25, 39, 30, 37, 28, 5, 2, 26, 20, 7, 17, 23, 34, 29, 16, 24, 10, 4, 19, 3, 18, 33, 36, 27, 15, 0, 9, 31, 6, 13, 14, 21, 11], [14, 28, 32, 33, 36, 22, 3, 17, 1, 31, 34, 13, 7, 20, 37, 35, 21, 2, 39, 8, 27, 26, 5, 29, 18, 12, 25, 19, 10, 38, 15, 9, 0, 4, 6, 30, 16, 23, 11, 24], [3, 36, 2, 0, 11, 33, 28, 25, 27, 23, 4, 5, 20, 37, 32, 21, 31, 22, 39, 6, 12, 35, 13, 29, 26, 17, 16, 38, 10, 7, 1, 8, 34, 9, 18, 19, 15, 30, 24, 14], [18, 32, 31, 16, 19, 2, 20, 8, 23, 38, 1, 5, 9, 39, 21, 4, 0, 15, 12, 7, 33, 35, 24, 25, 37, 14, 13, 3, 36, 22, 28, 27, 29, 34, 6, 17, 26, 10, 11, 30], [26, 23, 22, 27, 6, 21, 13, 36, 16, 5, 34, 8, 20, 18, 30, 17, 31, 10, 33, 24, 19, 0, 11, 35, 3, 29, 9, 38, 1, 7, 25, 4, 15, 2, 14, 32, 39, 12, 37, 28], [17, 27, 29, 4, 34, 23, 6, 10, 22, 26, 15, 31, 36, 11, 12, 35, 19, 13, 20, 8, 25, 9, 38, 24, 7, 2, 37, 28, 18, 30, 14, 5, 3, 33, 16, 1, 21, 32, 39, 0], [20, 11, 13, 21, 32, 3, 30, 5, 34, 19, 36, 7, 14, 37, 22, 15, 17, 1, 39, 26, 8, 27, 4, 28, 12, 23, 38, 24, 10, 9, 31, 16, 0, 18, 35, 2, 29, 25, 6, 33], [15, 29, 3, 39, 11, 16, 22, 26, 7, 27, 9, 37, 5, 34, 13, 14, 17, 12, 6, 18, 35, 0, 23, 20, 19, 24, 8, 21, 30, 38, 31, 10, 25, 1, 36, 32, 28, 4, 33, 2], [12, 17, 8, 3, 20, 36, 22, 13, 27, 30, 33, 5, 6, 31, 28, 26, 24, 14, 25, 9, 34, 11, 21, 18, 1, 35, 10, 7, 23, 32, 2, 16, 4, 15, 0, 37, 29, 19, 39, 38], [38, 5, 39, 31, 3, 20, 34, 18, 9, 13, 4, 30, 29, 0, 8, 11, 25, 17, 36, 12, 14, 33, 2, 6, 28, 15, 22, 1, 32, 24, 19, 21, 35, 7, 37, 26, 10, 16, 27, 23], [24, 18, 1, 5, 12, 20, 11, 31, 17, 30, 14, 13, 34, 27, 7, 8, 2, 26, 37, 16, 36, 9, 33, 21, 23, 10, 4, 28, 19, 39, 32, 15, 38, 6, 0, 3, 29, 22, 35, 25], [17, 9, 23, 20, 36, 33, 32, 10, 4, 24, 38, 34, 11, 8, 7, 31, 3, 13, 6, 12, 26, 16, 39, 1, 25, 30, 37, 21, 5, 15, 14, 27, 29, 18, 2, 22, 35, 19, 28, 0], [28, 17, 20, 3, 23, 9, 1, 29, 32, 39, 21, 22, 26, 33, 2, 37, 35, 8, 0, 7, 13, 34, 19, 14, 12, 38, 25, 27, 4, 24, 16, 11, 6, 36, 30, 10, 5, 18, 15, 31], [0, 1, 35, 38, 30, 36, 37, 34, 23, 5, 20, 21, 15, 31, 33, 26, 39, 16, 3, 28, 6, 9, 25, 32, 19, 13, 2, 24, 7, 22, 29, 10, 27, 4, 14, 17, 18, 12, 11, 8], [32, 13, 37, 14, 22, 31, 38, 29, 6, 24, 4, 30, 20, 12, 28, 3, 1, 0, 39, 2, 26, 5, 10, 36, 7, 21, 9, 11, 35, 15, 25, 34, 33, 17, 19, 23, 27, 16, 18, 8], [9, 15, 27, 13, 38, 11, 4, 26, 16, 12, 30, 37, 20, 18, 1, 10, 3, 0, 7, 2, 28, 21, 31, 32, 29, 19, 39, 14, 33, 36, 6, 5, 22, 25, 8, 35, 24, 34, 17, 23], [9, 37, 11, 16, 18, 17, 7, 20, 33, 31, 1, 5, 35, 25, 38, 13, 28, 23, 21, 2, 30, 27, 10, 39, 12, 8, 29, 0, 36, 19, 26, 3, 24, 22, 6, 14, 4, 32, 34, 15], [30, 3, 2, 29, 25, 34, 19, 36, 33, 8, 21, 4, 20, 7, 12, 18, 23, 9, 15, 13, 24, 1, 37, 27, 14, 32, 35, 31, 26, 39, 11, 0, 10, 5, 17, 22, 38, 6, 28, 16], [7, 18, 39, 34, 27, 9, 2, 8, 14, 13, 21, 30, 4, 5, 19, 24, 35, 12, 16, 3, 32, 28, 22, 0, 1, 25, 36, 38, 20, 33, 17, 37, 11, 6, 29, 15, 23, 31, 10, 26], [5, 39, 32, 1, 18, 38, 3, 31, 12, 20, 7, 33, 8, 11, 2, 27, 24, 15, 17, 37, 21, 34, 28, 16, 14, 0, 35, 23, 22, 19, 25, 26, 4, 9, 10, 36, 29, 30, 13, 6], [28, 10, 26, 1, 3, 0, 37, 20, 5, 14, 18, 12, 29, 32, 7, 30, 15, 4, 31, 13, 2, 23, 21, 38, 16, 8, 25, 6, 35, 36, 34, 33, 9, 19, 11, 39, 17, 24, 27, 22], [5, 16, 1, 12, 3, 36, 21, 26, 31, 35, 19, 37, 30, 2, 24, 8, 18, 39, 17, 10, 20, 7, 6, 38, 0, 33, 15, 23, 25, 28, 32, 13, 27, 11, 14, 34, 29, 22, 4, 9], [21, 11, 6, 25, 34, 23, 26, 15, 17, 27, 3, 39, 2, 31, 30, 36, 38, 20, 24, 22, 8, 14, 29, 12, 4, 32, 9, 16, 7, 10, 5, 18, 28, 13, 37, 35, 1, 0, 19, 33], [27, 17, 28, 4, 26, 23, 20, 2, 38, 29, 12, 7, 1, 37, 39, 19, 32, 5, 36, 21, 16, 18, 11, 35, 13, 33, 6, 14, 34, 10, 25, 30, 22, 15, 31, 3, 9, 8, 0, 24], [24, 1, 21, 19, 15, 8, 22, 26, 35, 33, 28, 0, 17, 14, 37, 3, 2, 20, 4, 32, 6, 36, 38, 13, 25, 18, 39, 5, 7, 11, 16, 9, 34, 10, 23, 27, 12, 30, 31, 29], [6, 19, 12, 3, 9, 23, 0, 8, 13, 16, 22, 24, 10, 38, 20, 35, 4, 36, 32, 31, 11, 29, 25, 15, 27, 1, 18, 2, 26, 5, 14, 17, 39, 21, 28, 7, 37, 30, 33, 34], [4, 1, 26, 13, 9, 35, 6, 23, 14, 34, 12, 27, 32, 21, 19, 2, 3, 22, 31, 24, 28, 30, 7, 29, 15, 37, 36, 11, 16, 38, 8, 25, 39, 10, 5, 17, 20, 0, 18, 33], [30, 23, 16, 38, 8, 13, 7, 21, 0, 15, 28, 9, 29, 19, 36, 14, 34, 11, 35, 10, 20, 37, 17, 18, 1, 6, 32, 39, 12, 5, 24, 25, 31, 3, 4, 27, 33, 22, 26, 2], [10, 9, 0, 38, 15, 33, 14, 36, 23, 21, 17, 8, 1, 35, 32, 22, 18, 39, 12, 28, 34, 7, 13, 20, 31, 30, 6, 24, 29, 27, 4, 3, 5, 16, 2, 11, 25, 26, 19, 37], [12, 16, 38, 1, 25, 4, 35, 11, 23, 21, 36, 37, 6, 7, 39, 8, 13, 19, 2, 30, 17, 34, 33, 32, 14, 3, 24, 27, 22, 9, 18, 15, 5, 28, 31, 20, 10, 29, 0, 26], [30, 38, 28, 3, 7, 33, 19, 13, 14, 22, 10, 21, 4, 32, 26, 18, 2, 17, 29, 1, 39, 27, 12, 5, 36, 0, 16, 24, 37, 31, 25, 15, 20, 11, 8, 34, 23, 6, 35, 9], [0, 15, 30, 36, 35, 38, 18, 19, 5, 8, 17, 24, 34, 22, 39, 23, 1, 9, 6, 7, 27, 32, 2, 29, 14, 25, 37, 31, 28, 11, 10, 26, 21, 4, 33, 3, 13, 20, 12, 16], [35, 14, 10, 33, 36, 23, 7, 15, 11, 38, 30, 28, 6, 1, 13, 25, 29, 3, 21, 37, 31, 26, 39, 17, 0, 4, 32, 8, 27, 20, 2, 34, 12, 9, 19, 18, 22, 16, 5, 24], [18, 9, 25, 13, 16, 38, 12, 14, 20, 5, 26, 30, 15, 6, 17, 1, 31, 4, 11, 22, 29, 34, 10, 19, 3, 21, 0, 27, 32, 23, 39, 37, 8, 33, 24, 7, 2, 36, 28, 35]]\n",
            "Woman   Man\n",
            "40 \t 2\n",
            "41 \t 36\n",
            "42 \t 20\n",
            "43 \t 29\n",
            "44 \t 0\n",
            "45 \t 8\n",
            "46 \t 17\n",
            "47 \t 22\n",
            "48 \t 25\n",
            "49 \t 35\n",
            "50 \t 16\n",
            "51 \t 13\n",
            "52 \t 7\n",
            "53 \t 11\n",
            "54 \t 28\n",
            "55 \t 31\n",
            "56 \t 12\n",
            "57 \t 23\n",
            "58 \t 27\n",
            "59 \t 21\n",
            "60 \t 19\n",
            "61 \t 15\n",
            "62 \t 9\n",
            "63 \t 24\n",
            "64 \t 34\n",
            "65 \t 39\n",
            "66 \t 32\n",
            "67 \t 26\n",
            "68 \t 4\n",
            "69 \t 38\n",
            "70 \t 33\n",
            "71 \t 6\n",
            "72 \t 1\n",
            "73 \t 30\n",
            "74 \t 10\n",
            "75 \t 37\n",
            "76 \t 3\n",
            "77 \t 5\n",
            "78 \t 14\n",
            "79 \t 18\n",
            "CPU times: user 2 µs, sys: 1 µs, total: 3 µs\n",
            "Wall time: 6.44 µs\n"
          ],
          "name": "stdout"
        }
      ]
    },
    {
      "cell_type": "markdown",
      "metadata": {
        "id": "1ah1DuNHvPie"
      },
      "source": [
        "*2)  Ejecute el algoritmo Gale-Shapley 100 veces usando permutaciones aleatorias como listas de preferencias para n = 4 y 40. Encuentre el número mínimo, máximo y promedio de iteraciones y trace la distribución del número de iteraciones.* "
      ]
    },
    {
      "cell_type": "code",
      "metadata": {
        "id": "UKqIXTwSzegn"
      },
      "source": [
        "N = 4\n",
        "def wPrefersM1OverM(prefer, w, m, m1):   \n",
        "    for i in range(N):\n",
        "        if (prefer[w][i] == m1): \n",
        "            return True\n",
        "        if (prefer[w][i] == m): \n",
        "            return False\n",
        "\n",
        "def stableMarriage(prefer):   \n",
        "    wPartner = [-1 for i in range(N)]   \n",
        "    mFree = [False for i in range(N)]   \n",
        "    freeCount = N\n",
        "    iterator=0  \n",
        "    while (freeCount > 0):\n",
        "        iterator+=1\n",
        "        m = 0\n",
        "        while (m < N): \n",
        "            if (mFree[m] == False): \n",
        "                break\n",
        "            m += 1\n",
        "        i = 0\n",
        "        while i < N and mFree[m] == False: \n",
        "            w = prefer[m][i] \n",
        "            if (wPartner[w - N] == -1): \n",
        "                wPartner[w - N] = m \n",
        "                mFree[m] = True\n",
        "                freeCount -= 1  \n",
        "            else:              \n",
        "                m1 = wPartner[w - N] \n",
        "                if (wPrefersM1OverM(prefer, w, m, m1) == False): \n",
        "                    wPartner[w - N] = m \n",
        "                    mFree[m] = True\n",
        "                    mFree[m1] = False\n",
        "            i += 1\n",
        "    return iterator"
      ],
      "execution_count": 20,
      "outputs": []
    },
    {
      "cell_type": "code",
      "metadata": {
        "colab": {
          "base_uri": "https://localhost:8080/"
        },
        "id": "5lI-myHUzrr7",
        "outputId": "49941f00-acaf-4b0f-bb13-868cebc65c2a"
      },
      "source": [
        "from random import sample\n",
        "\n",
        "N=4\n",
        "man = range(0,4)\n",
        "woman=range(4,8)\n",
        "iterator=[]\n",
        "mean=0\n",
        "for i in range(100):\n",
        "  preferBoys = [sample(woman,k=4),sample(woman,k=4),sample(woman,k=4),sample(woman,k=4)]\n",
        "  \n",
        "  preferGirls = [sample(man,k=4),sample(man,k=4),sample(man,k=4),sample(man,k=4)]  \n",
        "  a=stableMarriage(preferBoys+preferGirls)\n",
        "  mean+=a\n",
        "  iterator.append(a) \n",
        "  \n",
        "iterator.sort()\n",
        "print(iterator)\n",
        "print(mean/100)\n",
        "\n",
        "N=40\n",
        "man = range(0,40)\n",
        "woman=range(40,80)\n",
        "iterator2=[]\n",
        "mean2=0\n",
        "for i in range(100):\n",
        "  preferBoys = [sample(woman,k=40),sample(woman,k=40),sample(woman,k=40),sample(woman,k=40),sample(woman,k=40),sample(woman,k=40),sample(woman,k=40),sample(woman,k=40),sample(woman,k=40),sample(woman,k=40),sample(woman,k=40),sample(woman,k=40),sample(woman,k=40),sample(woman,k=40),sample(woman,k=40),sample(woman,k=40),sample(woman,k=40),sample(woman,k=40),sample(woman,k=40),sample(woman,k=40),sample(woman,k=40),sample(woman,k=40),sample(woman,k=40),sample(woman,k=40),sample(woman,k=40),sample(woman,k=40),sample(woman,k=40),sample(woman,k=40),sample(woman,k=40),sample(woman,k=40),sample(woman,k=40),sample(woman,k=40),sample(woman,k=40),sample(woman,k=40),sample(woman,k=40),sample(woman,k=40),sample(woman,k=40),sample(woman,k=40),sample(woman,k=40),sample(woman,k=40)]\n",
        "  preferGirls = [sample(man,k=40),sample(man,k=40),sample(man,k=40),sample(man,k=40),sample(man,k=40),sample(man,k=40),sample(man,k=40),sample(man,k=40),sample(man,k=40),sample(man,k=40),sample(man,k=40),sample(man,k=40),sample(man,k=40),sample(man,k=40),sample(man,k=40),sample(man,k=40),sample(man,k=40),sample(man,k=40),sample(man,k=40),sample(man,k=40),sample(man,k=40),sample(man,k=40),sample(man,k=40),sample(man,k=40),sample(man,k=40),sample(man,k=40),sample(man,k=40),sample(man,k=40),sample(man,k=40),sample(man,k=40),sample(man,k=40),sample(man,k=40),sample(man,k=40),sample(man,k=40),sample(man,k=40),sample(man,k=40),sample(man,k=40),sample(man,k=40),sample(man,k=40),sample(man,k=40)]\n",
        "  a2=stableMarriage(preferBoys+preferGirls)\n",
        "  mean2+=a2\n",
        "  iterator2.append(a2) \n",
        "  \n",
        "iterator2.sort()\n",
        "print(iterator2)\n",
        "print(mean2/100)"
      ],
      "execution_count": 21,
      "outputs": [
        {
          "output_type": "stream",
          "text": [
            "[4, 4, 4, 4, 4, 4, 4, 4, 4, 4, 4, 4, 4, 4, 4, 4, 4, 4, 4, 4, 4, 4, 4, 4, 4, 4, 4, 4, 4, 4, 4, 4, 4, 5, 5, 5, 5, 5, 5, 5, 5, 5, 5, 5, 5, 5, 5, 5, 5, 5, 5, 5, 5, 5, 5, 5, 5, 5, 5, 5, 5, 5, 5, 5, 5, 5, 5, 6, 6, 6, 6, 6, 6, 6, 6, 6, 6, 6, 6, 6, 6, 6, 6, 6, 6, 6, 6, 6, 7, 7, 7, 7, 7, 7, 7, 7, 7, 8, 8, 9]\n",
            "5.16\n",
            "[59, 60, 61, 62, 63, 63, 64, 65, 67, 68, 68, 69, 69, 70, 70, 70, 71, 71, 71, 71, 71, 71, 71, 72, 72, 72, 72, 73, 73, 73, 74, 74, 74, 74, 74, 74, 74, 75, 75, 75, 76, 76, 76, 76, 76, 77, 77, 77, 78, 78, 78, 78, 78, 79, 79, 79, 80, 80, 80, 81, 81, 81, 81, 81, 82, 82, 82, 83, 84, 84, 84, 84, 84, 84, 85, 85, 85, 86, 87, 87, 88, 88, 88, 89, 91, 92, 92, 93, 93, 94, 94, 95, 95, 95, 95, 96, 98, 98, 108, 116]\n",
            "79.24\n"
          ],
          "name": "stdout"
        }
      ]
    },
    {
      "cell_type": "code",
      "metadata": {
        "colab": {
          "base_uri": "https://localhost:8080/",
          "height": 298
        },
        "id": "IMSzaILC8K2j",
        "outputId": "a7b244ae-1463-49f0-e5ac-5cbaae3b76c6"
      },
      "source": [
        "import matplotlib.pyplot as plt\n",
        "\n",
        "plt.title('N=4')\n",
        "plt.hist(iterator, bins =9, alpha=1, edgecolor = 'black',  linewidth=1)\n",
        "#plt.grid(True)\n",
        "plt.show()\n",
        "print(\"Mean = \",mean/100)\n"
      ],
      "execution_count": 22,
      "outputs": [
        {
          "output_type": "display_data",
          "data": {
            "image/png": "[encoded data removed]",
            "text/plain": [
              "<Figure size 432x288 with 1 Axes>"
            ]
          },
          "metadata": {
            "tags": [],
            "needs_background": "light"
          }
        },
        {
          "output_type": "stream",
          "text": [
            "Mean =  5.16\n"
          ],
          "name": "stdout"
        }
      ]
    },
    {
      "cell_type": "code",
      "metadata": {
        "colab": {
          "base_uri": "https://localhost:8080/",
          "height": 298
        },
        "id": "pJajXZUkMtT4",
        "outputId": "4f92116f-481a-4079-edac-150a54655480"
      },
      "source": [
        "import matplotlib.pyplot as plt\n",
        "\n",
        "plt.title('N=40')\n",
        "plt.hist(iterator2 ,bins =25,alpha=1, edgecolor = 'black',  linewidth=1)\n",
        "#plt.grid(True)\n",
        "plt.show()\n",
        "print(\"Mean = \",mean2/100)\n"
      ],
      "execution_count": 23,
      "outputs": [
        {
          "output_type": "display_data",
          "data": {
            "image/png": "[encoded data removed]",
            "text/plain": [
              "<Figure size 432x288 with 1 Axes>"
            ]
          },
          "metadata": {
            "tags": [],
            "needs_background": "light"
          }
        },
        {
          "output_type": "stream",
          "text": [
            "Mean =  79.24\n"
          ],
          "name": "stdout"
        }
      ]
    }
  ]
}